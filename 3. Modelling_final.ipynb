{
 "cells": [
  {
   "cell_type": "markdown",
   "metadata": {},
   "source": [
    "# <u>MODELLING WORKBOOK</u>\n",
    "\n",
    "&nbsp;&nbsp;&nbsp;&nbsp;&nbsp;&nbsp;In this work book, I performed following:\n",
    "\n",
    "* Deeper EDA on data\n",
    "\n",
    "* Compare model performances of Log Reg, KNN, RF, SVM\n",
    "and XGB with original data vs upsampled data via SMOTE\n",
    "\n",
    "* Perform five Gridsearches on five models above with intend to ensemble models with best parameters for Voting classifier\n",
    "\n",
    "* Decide which model performed the best through metrics like accuracies, precision, recall and AUC-ROC curve.\n",
    "\n",
    "* Analyze the reason for low precisions on all models\n",
    "\n",
    "* Quick modelling based on my reasons and see if I could get improvement in precisions\n",
    "\n",
    "* Use the model on unseen data and analyze"
   ]
  },
  {
   "cell_type": "code",
   "execution_count": 198,
   "metadata": {},
   "outputs": [],
   "source": [
    "# Usual Packages\n",
    "import pandas as pd\n",
    "import numpy as np\n",
    "import matplotlib.pyplot as plt\n",
    "import seaborn as sns\n",
    "from IPython.display import Image"
   ]
  },
  {
   "cell_type": "code",
   "execution_count": 199,
   "metadata": {},
   "outputs": [],
   "source": [
    "# For Data split\n",
    "from sklearn.model_selection import train_test_split\n",
    "\n",
    "# For Model evaluation\n",
    "from sklearn.metrics import classification_report\n",
    "from sklearn.metrics import roc_auc_score\n",
    "\n",
    "# For Models\n",
    "from sklearn.linear_model import LogisticRegression\n",
    "from sklearn.neighbors import KNeighborsClassifier\n",
    "from sklearn.ensemble import RandomForestClassifier\n",
    "from sklearn.svm import SVC\n",
    "from xgboost import XGBClassifier"
   ]
  },
  {
   "cell_type": "code",
   "execution_count": 200,
   "metadata": {},
   "outputs": [],
   "source": [
    "# Read in prepared data frame\n",
    "df_scaled = pd.read_csv('data/scaled.csv')"
   ]
  },
  {
   "cell_type": "code",
   "execution_count": 201,
   "metadata": {
    "scrolled": true
   },
   "outputs": [
    {
     "data": {
      "text/html": [
       "<div>\n",
       "<style scoped>\n",
       "    .dataframe tbody tr th:only-of-type {\n",
       "        vertical-align: middle;\n",
       "    }\n",
       "\n",
       "    .dataframe tbody tr th {\n",
       "        vertical-align: top;\n",
       "    }\n",
       "\n",
       "    .dataframe thead th {\n",
       "        text-align: right;\n",
       "    }\n",
       "</style>\n",
       "<table border=\"1\" class=\"dataframe\">\n",
       "  <thead>\n",
       "    <tr style=\"text-align: right;\">\n",
       "      <th></th>\n",
       "      <th>batter_age</th>\n",
       "      <th>b_runs</th>\n",
       "      <th>b_hits</th>\n",
       "      <th>doubles</th>\n",
       "      <th>triples</th>\n",
       "      <th>homeruns</th>\n",
       "      <th>sb</th>\n",
       "      <th>cs</th>\n",
       "      <th>walks</th>\n",
       "      <th>b_strikeouts</th>\n",
       "      <th>...</th>\n",
       "      <th>hbp</th>\n",
       "      <th>era_plus</th>\n",
       "      <th>so_walk</th>\n",
       "      <th>p_left_on_base</th>\n",
       "      <th>defensive_efficiency</th>\n",
       "      <th>errors</th>\n",
       "      <th>Rtot</th>\n",
       "      <th>team</th>\n",
       "      <th>year</th>\n",
       "      <th>playoff_appearance</th>\n",
       "    </tr>\n",
       "  </thead>\n",
       "  <tbody>\n",
       "    <tr>\n",
       "      <th>0</th>\n",
       "      <td>0.941176</td>\n",
       "      <td>0.685934</td>\n",
       "      <td>0.587571</td>\n",
       "      <td>0.468342</td>\n",
       "      <td>0.000000</td>\n",
       "      <td>0.488771</td>\n",
       "      <td>0.214337</td>\n",
       "      <td>0.500000</td>\n",
       "      <td>0.215278</td>\n",
       "      <td>0.000000</td>\n",
       "      <td>...</td>\n",
       "      <td>0.239003</td>\n",
       "      <td>0.465116</td>\n",
       "      <td>0.733333</td>\n",
       "      <td>0.212781</td>\n",
       "      <td>0.633333</td>\n",
       "      <td>0.168675</td>\n",
       "      <td>0.670956</td>\n",
       "      <td>ATL</td>\n",
       "      <td>1969</td>\n",
       "      <td>1</td>\n",
       "    </tr>\n",
       "    <tr>\n",
       "      <th>1</th>\n",
       "      <td>0.676471</td>\n",
       "      <td>0.956616</td>\n",
       "      <td>0.740113</td>\n",
       "      <td>0.874904</td>\n",
       "      <td>0.233333</td>\n",
       "      <td>0.799160</td>\n",
       "      <td>0.383257</td>\n",
       "      <td>0.442308</td>\n",
       "      <td>0.732639</td>\n",
       "      <td>0.294979</td>\n",
       "      <td>...</td>\n",
       "      <td>0.106224</td>\n",
       "      <td>1.000000</td>\n",
       "      <td>0.504762</td>\n",
       "      <td>0.030994</td>\n",
       "      <td>1.000000</td>\n",
       "      <td>0.000000</td>\n",
       "      <td>1.000000</td>\n",
       "      <td>BAL</td>\n",
       "      <td>1969</td>\n",
       "      <td>1</td>\n",
       "    </tr>\n",
       "    <tr>\n",
       "      <th>2</th>\n",
       "      <td>0.088235</td>\n",
       "      <td>0.845882</td>\n",
       "      <td>0.502825</td>\n",
       "      <td>0.874904</td>\n",
       "      <td>0.500000</td>\n",
       "      <td>1.000000</td>\n",
       "      <td>0.082139</td>\n",
       "      <td>0.480769</td>\n",
       "      <td>0.815972</td>\n",
       "      <td>0.539749</td>\n",
       "      <td>...</td>\n",
       "      <td>0.796676</td>\n",
       "      <td>0.348837</td>\n",
       "      <td>0.095238</td>\n",
       "      <td>0.977980</td>\n",
       "      <td>0.283333</td>\n",
       "      <td>0.674699</td>\n",
       "      <td>0.403608</td>\n",
       "      <td>BOS</td>\n",
       "      <td>1969</td>\n",
       "      <td>0</td>\n",
       "    </tr>\n",
       "    <tr>\n",
       "      <th>3</th>\n",
       "      <td>0.088235</td>\n",
       "      <td>0.174592</td>\n",
       "      <td>0.029687</td>\n",
       "      <td>0.000000</td>\n",
       "      <td>0.227403</td>\n",
       "      <td>0.000000</td>\n",
       "      <td>0.175182</td>\n",
       "      <td>0.322322</td>\n",
       "      <td>0.311925</td>\n",
       "      <td>0.540378</td>\n",
       "      <td>...</td>\n",
       "      <td>0.868035</td>\n",
       "      <td>0.348837</td>\n",
       "      <td>0.419048</td>\n",
       "      <td>0.000000</td>\n",
       "      <td>0.550000</td>\n",
       "      <td>0.411634</td>\n",
       "      <td>0.541635</td>\n",
       "      <td>LAA</td>\n",
       "      <td>1969</td>\n",
       "      <td>0</td>\n",
       "    </tr>\n",
       "    <tr>\n",
       "      <th>4</th>\n",
       "      <td>1.000000</td>\n",
       "      <td>0.761549</td>\n",
       "      <td>0.532235</td>\n",
       "      <td>0.663085</td>\n",
       "      <td>0.591820</td>\n",
       "      <td>0.489947</td>\n",
       "      <td>0.000000</td>\n",
       "      <td>0.188532</td>\n",
       "      <td>0.460314</td>\n",
       "      <td>0.538299</td>\n",
       "      <td>...</td>\n",
       "      <td>0.287390</td>\n",
       "      <td>0.883721</td>\n",
       "      <td>0.828571</td>\n",
       "      <td>0.407563</td>\n",
       "      <td>0.283333</td>\n",
       "      <td>0.411634</td>\n",
       "      <td>0.357684</td>\n",
       "      <td>CHC</td>\n",
       "      <td>1969</td>\n",
       "      <td>0</td>\n",
       "    </tr>\n",
       "  </tbody>\n",
       "</table>\n",
       "<p>5 rows × 30 columns</p>\n",
       "</div>"
      ],
      "text/plain": [
       "   batter_age    b_runs    b_hits   doubles   triples  homeruns        sb  \\\n",
       "0    0.941176  0.685934  0.587571  0.468342  0.000000  0.488771  0.214337   \n",
       "1    0.676471  0.956616  0.740113  0.874904  0.233333  0.799160  0.383257   \n",
       "2    0.088235  0.845882  0.502825  0.874904  0.500000  1.000000  0.082139   \n",
       "3    0.088235  0.174592  0.029687  0.000000  0.227403  0.000000  0.175182   \n",
       "4    1.000000  0.761549  0.532235  0.663085  0.591820  0.489947  0.000000   \n",
       "\n",
       "         cs     walks  b_strikeouts  ...       hbp  era_plus   so_walk  \\\n",
       "0  0.500000  0.215278      0.000000  ...  0.239003  0.465116  0.733333   \n",
       "1  0.442308  0.732639      0.294979  ...  0.106224  1.000000  0.504762   \n",
       "2  0.480769  0.815972      0.539749  ...  0.796676  0.348837  0.095238   \n",
       "3  0.322322  0.311925      0.540378  ...  0.868035  0.348837  0.419048   \n",
       "4  0.188532  0.460314      0.538299  ...  0.287390  0.883721  0.828571   \n",
       "\n",
       "   p_left_on_base  defensive_efficiency    errors      Rtot  team  year  \\\n",
       "0        0.212781              0.633333  0.168675  0.670956   ATL  1969   \n",
       "1        0.030994              1.000000  0.000000  1.000000   BAL  1969   \n",
       "2        0.977980              0.283333  0.674699  0.403608   BOS  1969   \n",
       "3        0.000000              0.550000  0.411634  0.541635   LAA  1969   \n",
       "4        0.407563              0.283333  0.411634  0.357684   CHC  1969   \n",
       "\n",
       "   playoff_appearance  \n",
       "0                   1  \n",
       "1                   1  \n",
       "2                   0  \n",
       "3                   0  \n",
       "4                   0  \n",
       "\n",
       "[5 rows x 30 columns]"
      ]
     },
     "execution_count": 201,
     "metadata": {},
     "output_type": "execute_result"
    }
   ],
   "source": [
    "# Preview\n",
    "df_scaled.head()"
   ]
  },
  {
   "cell_type": "code",
   "execution_count": 5,
   "metadata": {},
   "outputs": [],
   "source": [
    "# Drop those rows as there were no playoff in year 1994 due to players' strike\n",
    "df_scaled = df_scaled.drop(df_scaled[df_scaled['year'] == 1994].index, axis = 0)"
   ]
  },
  {
   "cell_type": "markdown",
   "metadata": {},
   "source": [
    "&nbsp;&nbsp;&nbsp;&nbsp;&nbsp;&nbsp;Before moving onto the modelling, I would like to do a quick EDA on data. I want to take a look at the difference between the playoff team and non-playoff team. I will group the data into two groups by `playoff_appearance` and look at the % difference in features between two groups"
   ]
  },
  {
   "cell_type": "code",
   "execution_count": 6,
   "metadata": {},
   "outputs": [],
   "source": [
    "# Exploratory Analysis\n",
    "\n",
    "grpd_playoffs = df_scaled.groupby('playoff_appearance')\n",
    "playoff_pct_changes = grpd_playoffs.mean().pct_change().iloc[1,:].sort_values(ascending = False)"
   ]
  },
  {
   "cell_type": "code",
   "execution_count": 197,
   "metadata": {
    "scrolled": false
   },
   "outputs": [
    {
     "name": "stderr",
     "output_type": "stream",
     "text": [
      "C:\\Users\\DK\\anaconda3\\lib\\site-packages\\seaborn\\_decorators.py:36: FutureWarning: Pass the following variables as keyword args: x, y. From version 0.12, the only valid positional argument will be `data`, and passing other arguments without an explicit keyword will result in an error or misinterpretation.\n",
      "  warnings.warn(\n"
     ]
    },
    {
     "data": {
      "image/png": "[encoded data removed]",
      "text/plain": [
       "<Figure size 1296x720 with 1 Axes>"
      ]
     },
     "metadata": {
      "needs_background": "light"
     },
     "output_type": "display_data"
    }
   ],
   "source": [
    "plt.figure(figsize = (18, 10))\n",
    "sns.barplot(playoff_pct_changes.index, playoff_pct_changes)\n",
    "plt.xticks(rotation = 45)\n",
    "plt.ylabel('% Difference in Feature', fontweight = 'bold', fontsize = 12)\n",
    "plt.xlabel('Features', fontweight = 'bold', fontsize = 12)\n",
    "plt.title('% Difference in Features Between \\n Playoff and Non-playoff Teams', fontsize = 20, fontweight = 'extra bold')\n",
    "plt.xticks(size = 12)\n",
    "\n",
    "plt.show()"
   ]
  },
  {
   "cell_type": "code",
   "execution_count": 8,
   "metadata": {},
   "outputs": [
    {
     "data": {
      "text/plain": [
       "era_plus                0.703824\n",
       "b_runs                  0.572348\n",
       "saves                   0.543428\n",
       "so_walk                 0.527636\n",
       "era                     0.489333\n",
       "walks                   0.459735\n",
       "defensive_efficiency    0.403163\n",
       "p_hits                  0.394479\n",
       "innings_pitched         0.368144\n",
       "homeruns                0.365788\n",
       "walks_allowed           0.346550\n",
       "Rtot                    0.337757\n",
       "b_hits                  0.328812\n",
       "pitcher_age             0.326045\n",
       "homeruns_allowed        0.324927\n",
       "p_left_on_base          0.296728\n",
       "b_left_on_base          0.272374\n",
       "batter_age              0.269041\n",
       "p_strikeouts            0.265349\n",
       "errors                  0.241959\n",
       "hbp                     0.199391\n",
       "doubles                 0.189733\n",
       "sb                      0.105263\n",
       "b_strikeouts            0.093097\n",
       "cs                      0.069043\n",
       "triples                 0.031778\n",
       "ground_double_play      0.008282\n",
       "year                    0.002809\n",
       "Name: 1, dtype: float64"
      ]
     },
     "execution_count": 8,
     "metadata": {},
     "output_type": "execute_result"
    }
   ],
   "source": [
    "# Check the magnitude of % difference\n",
    "grpd_playoffs.mean().pct_change().iloc[1,:].abs().sort_values(ascending = False)"
   ]
  },
  {
   "cell_type": "markdown",
   "metadata": {},
   "source": [
    "&nbsp;&nbsp;&nbsp;&nbsp;&nbsp;&nbsp;Top three features that have biggest % difference in magnitude are `era_plus`, `b_runs`, `saves`. It makes sense that these stats top the list. You allowing fewer runs, scoring more and preserving the lead are definitely components of playoff teams and I would not expect any differently.\n",
    "\n",
    "&nbsp;&nbsp;&nbsp;&nbsp;&nbsp;&nbsp;`era` is the fifth biggest difference in magnitude and having negative difference is not a bad thing. The stats like `era` and `p_hits` that are in negative in terms of changes are better in lower numbers. For those unfamiliar with baseball stats, you might wonder what the diffences are between `era_plus` and `era`. It is abbreviation for earned run average and is pitching statistics. To put it simply, it is how many scores do you allow opponents to score over a game hence lower means fewer runs so gives you better chance to be a playoff team. `era_plus` is adjusted era according to pitcher's ballpark (yes they affect `era` as some stadiums are more favorable to hitters) and `era` of the pitcher's league. 100 is the average pitcher and anything above means the pitcher performed better than average. Therefore greater `era_plus` indicates better performances of team's pitching staffs. "
   ]
  },
  {
   "cell_type": "code",
   "execution_count": 9,
   "metadata": {},
   "outputs": [],
   "source": [
    "# Electing to use data upto 2018. Will leave out 2019 and 2020 as unseen data\n",
    "\n",
    "# 2020 is an odd season with smaller number of games and expended playoff. Will see if it had any effects\n",
    "\n",
    "# X is every features minus last three features 'team', 'year', 'playoff_appearance'\n",
    "X = df_scaled.loc[df_scaled['year'] < 2019].iloc[:,:-3]\n",
    "\n",
    "# y is the playoff_appearance\n",
    "y = df_scaled['playoff_appearance'].loc[df_scaled['year'] < 2019]"
   ]
  },
  {
   "cell_type": "code",
   "execution_count": 10,
   "metadata": {
    "scrolled": false
   },
   "outputs": [
    {
     "data": {
      "text/html": [
       "<div>\n",
       "<style scoped>\n",
       "    .dataframe tbody tr th:only-of-type {\n",
       "        vertical-align: middle;\n",
       "    }\n",
       "\n",
       "    .dataframe tbody tr th {\n",
       "        vertical-align: top;\n",
       "    }\n",
       "\n",
       "    .dataframe thead th {\n",
       "        text-align: right;\n",
       "    }\n",
       "</style>\n",
       "<table border=\"1\" class=\"dataframe\">\n",
       "  <thead>\n",
       "    <tr style=\"text-align: right;\">\n",
       "      <th></th>\n",
       "      <th>batter_age</th>\n",
       "      <th>b_runs</th>\n",
       "      <th>b_hits</th>\n",
       "      <th>doubles</th>\n",
       "      <th>triples</th>\n",
       "      <th>homeruns</th>\n",
       "      <th>sb</th>\n",
       "      <th>cs</th>\n",
       "      <th>walks</th>\n",
       "      <th>b_strikeouts</th>\n",
       "      <th>...</th>\n",
       "      <th>walks_allowed</th>\n",
       "      <th>p_strikeouts</th>\n",
       "      <th>saves</th>\n",
       "      <th>hbp</th>\n",
       "      <th>era_plus</th>\n",
       "      <th>so_walk</th>\n",
       "      <th>p_left_on_base</th>\n",
       "      <th>defensive_efficiency</th>\n",
       "      <th>errors</th>\n",
       "      <th>Rtot</th>\n",
       "    </tr>\n",
       "  </thead>\n",
       "  <tbody>\n",
       "    <tr>\n",
       "      <th>0</th>\n",
       "      <td>0.941176</td>\n",
       "      <td>0.685934</td>\n",
       "      <td>0.587571</td>\n",
       "      <td>0.468342</td>\n",
       "      <td>0.000000</td>\n",
       "      <td>0.488771</td>\n",
       "      <td>0.214337</td>\n",
       "      <td>0.500000</td>\n",
       "      <td>0.215278</td>\n",
       "      <td>0.000000</td>\n",
       "      <td>...</td>\n",
       "      <td>0.063830</td>\n",
       "      <td>0.282276</td>\n",
       "      <td>0.935277</td>\n",
       "      <td>0.239003</td>\n",
       "      <td>0.465116</td>\n",
       "      <td>0.733333</td>\n",
       "      <td>0.212781</td>\n",
       "      <td>0.633333</td>\n",
       "      <td>0.168675</td>\n",
       "      <td>0.670956</td>\n",
       "    </tr>\n",
       "    <tr>\n",
       "      <th>1</th>\n",
       "      <td>0.676471</td>\n",
       "      <td>0.956616</td>\n",
       "      <td>0.740113</td>\n",
       "      <td>0.874904</td>\n",
       "      <td>0.233333</td>\n",
       "      <td>0.799160</td>\n",
       "      <td>0.383257</td>\n",
       "      <td>0.442308</td>\n",
       "      <td>0.732639</td>\n",
       "      <td>0.294979</td>\n",
       "      <td>...</td>\n",
       "      <td>0.276596</td>\n",
       "      <td>0.291028</td>\n",
       "      <td>0.710810</td>\n",
       "      <td>0.106224</td>\n",
       "      <td>1.000000</td>\n",
       "      <td>0.504762</td>\n",
       "      <td>0.030994</td>\n",
       "      <td>1.000000</td>\n",
       "      <td>0.000000</td>\n",
       "      <td>1.000000</td>\n",
       "    </tr>\n",
       "    <tr>\n",
       "      <th>2</th>\n",
       "      <td>0.088235</td>\n",
       "      <td>0.845882</td>\n",
       "      <td>0.502825</td>\n",
       "      <td>0.874904</td>\n",
       "      <td>0.500000</td>\n",
       "      <td>1.000000</td>\n",
       "      <td>0.082139</td>\n",
       "      <td>0.480769</td>\n",
       "      <td>0.815972</td>\n",
       "      <td>0.539749</td>\n",
       "      <td>...</td>\n",
       "      <td>0.939716</td>\n",
       "      <td>0.374179</td>\n",
       "      <td>0.897866</td>\n",
       "      <td>0.796676</td>\n",
       "      <td>0.348837</td>\n",
       "      <td>0.095238</td>\n",
       "      <td>0.977980</td>\n",
       "      <td>0.283333</td>\n",
       "      <td>0.674699</td>\n",
       "      <td>0.403608</td>\n",
       "    </tr>\n",
       "    <tr>\n",
       "      <th>3</th>\n",
       "      <td>0.088235</td>\n",
       "      <td>0.174592</td>\n",
       "      <td>0.029687</td>\n",
       "      <td>0.000000</td>\n",
       "      <td>0.227403</td>\n",
       "      <td>0.000000</td>\n",
       "      <td>0.175182</td>\n",
       "      <td>0.322322</td>\n",
       "      <td>0.311925</td>\n",
       "      <td>0.540378</td>\n",
       "      <td>...</td>\n",
       "      <td>0.332724</td>\n",
       "      <td>0.252890</td>\n",
       "      <td>0.814092</td>\n",
       "      <td>0.868035</td>\n",
       "      <td>0.348837</td>\n",
       "      <td>0.419048</td>\n",
       "      <td>0.000000</td>\n",
       "      <td>0.550000</td>\n",
       "      <td>0.411634</td>\n",
       "      <td>0.541635</td>\n",
       "    </tr>\n",
       "    <tr>\n",
       "      <th>4</th>\n",
       "      <td>1.000000</td>\n",
       "      <td>0.761549</td>\n",
       "      <td>0.532235</td>\n",
       "      <td>0.663085</td>\n",
       "      <td>0.591820</td>\n",
       "      <td>0.489947</td>\n",
       "      <td>0.000000</td>\n",
       "      <td>0.188532</td>\n",
       "      <td>0.460314</td>\n",
       "      <td>0.538299</td>\n",
       "      <td>...</td>\n",
       "      <td>0.184702</td>\n",
       "      <td>0.539958</td>\n",
       "      <td>0.367914</td>\n",
       "      <td>0.287390</td>\n",
       "      <td>0.883721</td>\n",
       "      <td>0.828571</td>\n",
       "      <td>0.407563</td>\n",
       "      <td>0.283333</td>\n",
       "      <td>0.411634</td>\n",
       "      <td>0.357684</td>\n",
       "    </tr>\n",
       "    <tr>\n",
       "      <th>...</th>\n",
       "      <td>...</td>\n",
       "      <td>...</td>\n",
       "      <td>...</td>\n",
       "      <td>...</td>\n",
       "      <td>...</td>\n",
       "      <td>...</td>\n",
       "      <td>...</td>\n",
       "      <td>...</td>\n",
       "      <td>...</td>\n",
       "      <td>...</td>\n",
       "      <td>...</td>\n",
       "      <td>...</td>\n",
       "      <td>...</td>\n",
       "      <td>...</td>\n",
       "      <td>...</td>\n",
       "      <td>...</td>\n",
       "      <td>...</td>\n",
       "      <td>...</td>\n",
       "      <td>...</td>\n",
       "      <td>...</td>\n",
       "      <td>...</td>\n",
       "    </tr>\n",
       "    <tr>\n",
       "      <th>1373</th>\n",
       "      <td>0.454545</td>\n",
       "      <td>0.587071</td>\n",
       "      <td>0.414226</td>\n",
       "      <td>0.187061</td>\n",
       "      <td>0.000000</td>\n",
       "      <td>0.551391</td>\n",
       "      <td>0.280000</td>\n",
       "      <td>0.366667</td>\n",
       "      <td>0.465999</td>\n",
       "      <td>0.471605</td>\n",
       "      <td>...</td>\n",
       "      <td>0.762846</td>\n",
       "      <td>0.381625</td>\n",
       "      <td>0.468750</td>\n",
       "      <td>0.500000</td>\n",
       "      <td>0.377358</td>\n",
       "      <td>0.164103</td>\n",
       "      <td>1.000000</td>\n",
       "      <td>0.255814</td>\n",
       "      <td>1.000000</td>\n",
       "      <td>0.304742</td>\n",
       "    </tr>\n",
       "    <tr>\n",
       "      <th>1374</th>\n",
       "      <td>0.181818</td>\n",
       "      <td>0.435311</td>\n",
       "      <td>0.606695</td>\n",
       "      <td>0.384597</td>\n",
       "      <td>0.829268</td>\n",
       "      <td>0.153431</td>\n",
       "      <td>0.930000</td>\n",
       "      <td>1.000000</td>\n",
       "      <td>0.533863</td>\n",
       "      <td>0.491358</td>\n",
       "      <td>...</td>\n",
       "      <td>0.399209</td>\n",
       "      <td>0.530035</td>\n",
       "      <td>0.750000</td>\n",
       "      <td>0.181818</td>\n",
       "      <td>0.547170</td>\n",
       "      <td>0.466667</td>\n",
       "      <td>0.000000</td>\n",
       "      <td>0.790698</td>\n",
       "      <td>0.314286</td>\n",
       "      <td>0.787870</td>\n",
       "    </tr>\n",
       "    <tr>\n",
       "      <th>1375</th>\n",
       "      <td>0.272727</td>\n",
       "      <td>0.509426</td>\n",
       "      <td>0.158996</td>\n",
       "      <td>0.323817</td>\n",
       "      <td>0.365854</td>\n",
       "      <td>0.471799</td>\n",
       "      <td>0.390000</td>\n",
       "      <td>0.466667</td>\n",
       "      <td>0.601726</td>\n",
       "      <td>0.728395</td>\n",
       "      <td>...</td>\n",
       "      <td>0.359684</td>\n",
       "      <td>0.000000</td>\n",
       "      <td>0.437500</td>\n",
       "      <td>0.613636</td>\n",
       "      <td>0.301887</td>\n",
       "      <td>0.179487</td>\n",
       "      <td>0.417840</td>\n",
       "      <td>0.186047</td>\n",
       "      <td>0.814286</td>\n",
       "      <td>0.587187</td>\n",
       "    </tr>\n",
       "    <tr>\n",
       "      <th>1376</th>\n",
       "      <td>0.727273</td>\n",
       "      <td>0.410605</td>\n",
       "      <td>0.276151</td>\n",
       "      <td>0.734085</td>\n",
       "      <td>0.170732</td>\n",
       "      <td>0.638219</td>\n",
       "      <td>0.120000</td>\n",
       "      <td>0.300000</td>\n",
       "      <td>0.348368</td>\n",
       "      <td>0.488889</td>\n",
       "      <td>...</td>\n",
       "      <td>0.596838</td>\n",
       "      <td>0.312721</td>\n",
       "      <td>0.343750</td>\n",
       "      <td>0.500000</td>\n",
       "      <td>0.132075</td>\n",
       "      <td>0.220513</td>\n",
       "      <td>0.615023</td>\n",
       "      <td>0.093023</td>\n",
       "      <td>0.542857</td>\n",
       "      <td>0.000000</td>\n",
       "    </tr>\n",
       "    <tr>\n",
       "      <th>1377</th>\n",
       "      <td>0.333333</td>\n",
       "      <td>0.629423</td>\n",
       "      <td>0.552301</td>\n",
       "      <td>0.460573</td>\n",
       "      <td>0.390244</td>\n",
       "      <td>0.450092</td>\n",
       "      <td>0.840000</td>\n",
       "      <td>0.400000</td>\n",
       "      <td>0.945570</td>\n",
       "      <td>0.246914</td>\n",
       "      <td>...</td>\n",
       "      <td>0.343874</td>\n",
       "      <td>0.522968</td>\n",
       "      <td>0.375000</td>\n",
       "      <td>0.704545</td>\n",
       "      <td>0.471698</td>\n",
       "      <td>0.502564</td>\n",
       "      <td>0.309859</td>\n",
       "      <td>0.674419</td>\n",
       "      <td>0.014286</td>\n",
       "      <td>0.416233</td>\n",
       "    </tr>\n",
       "  </tbody>\n",
       "</table>\n",
       "<p>1350 rows × 27 columns</p>\n",
       "</div>"
      ],
      "text/plain": [
       "      batter_age    b_runs    b_hits   doubles   triples  homeruns        sb  \\\n",
       "0       0.941176  0.685934  0.587571  0.468342  0.000000  0.488771  0.214337   \n",
       "1       0.676471  0.956616  0.740113  0.874904  0.233333  0.799160  0.383257   \n",
       "2       0.088235  0.845882  0.502825  0.874904  0.500000  1.000000  0.082139   \n",
       "3       0.088235  0.174592  0.029687  0.000000  0.227403  0.000000  0.175182   \n",
       "4       1.000000  0.761549  0.532235  0.663085  0.591820  0.489947  0.000000   \n",
       "...          ...       ...       ...       ...       ...       ...       ...   \n",
       "1373    0.454545  0.587071  0.414226  0.187061  0.000000  0.551391  0.280000   \n",
       "1374    0.181818  0.435311  0.606695  0.384597  0.829268  0.153431  0.930000   \n",
       "1375    0.272727  0.509426  0.158996  0.323817  0.365854  0.471799  0.390000   \n",
       "1376    0.727273  0.410605  0.276151  0.734085  0.170732  0.638219  0.120000   \n",
       "1377    0.333333  0.629423  0.552301  0.460573  0.390244  0.450092  0.840000   \n",
       "\n",
       "            cs     walks  b_strikeouts  ...  walks_allowed  p_strikeouts  \\\n",
       "0     0.500000  0.215278      0.000000  ...       0.063830      0.282276   \n",
       "1     0.442308  0.732639      0.294979  ...       0.276596      0.291028   \n",
       "2     0.480769  0.815972      0.539749  ...       0.939716      0.374179   \n",
       "3     0.322322  0.311925      0.540378  ...       0.332724      0.252890   \n",
       "4     0.188532  0.460314      0.538299  ...       0.184702      0.539958   \n",
       "...        ...       ...           ...  ...            ...           ...   \n",
       "1373  0.366667  0.465999      0.471605  ...       0.762846      0.381625   \n",
       "1374  1.000000  0.533863      0.491358  ...       0.399209      0.530035   \n",
       "1375  0.466667  0.601726      0.728395  ...       0.359684      0.000000   \n",
       "1376  0.300000  0.348368      0.488889  ...       0.596838      0.312721   \n",
       "1377  0.400000  0.945570      0.246914  ...       0.343874      0.522968   \n",
       "\n",
       "         saves       hbp  era_plus   so_walk  p_left_on_base  \\\n",
       "0     0.935277  0.239003  0.465116  0.733333        0.212781   \n",
       "1     0.710810  0.106224  1.000000  0.504762        0.030994   \n",
       "2     0.897866  0.796676  0.348837  0.095238        0.977980   \n",
       "3     0.814092  0.868035  0.348837  0.419048        0.000000   \n",
       "4     0.367914  0.287390  0.883721  0.828571        0.407563   \n",
       "...        ...       ...       ...       ...             ...   \n",
       "1373  0.468750  0.500000  0.377358  0.164103        1.000000   \n",
       "1374  0.750000  0.181818  0.547170  0.466667        0.000000   \n",
       "1375  0.437500  0.613636  0.301887  0.179487        0.417840   \n",
       "1376  0.343750  0.500000  0.132075  0.220513        0.615023   \n",
       "1377  0.375000  0.704545  0.471698  0.502564        0.309859   \n",
       "\n",
       "      defensive_efficiency    errors      Rtot  \n",
       "0                 0.633333  0.168675  0.670956  \n",
       "1                 1.000000  0.000000  1.000000  \n",
       "2                 0.283333  0.674699  0.403608  \n",
       "3                 0.550000  0.411634  0.541635  \n",
       "4                 0.283333  0.411634  0.357684  \n",
       "...                    ...       ...       ...  \n",
       "1373              0.255814  1.000000  0.304742  \n",
       "1374              0.790698  0.314286  0.787870  \n",
       "1375              0.186047  0.814286  0.587187  \n",
       "1376              0.093023  0.542857  0.000000  \n",
       "1377              0.674419  0.014286  0.416233  \n",
       "\n",
       "[1350 rows x 27 columns]"
      ]
     },
     "execution_count": 10,
     "metadata": {},
     "output_type": "execute_result"
    }
   ],
   "source": [
    "# Double check X\n",
    "X"
   ]
  },
  {
   "cell_type": "code",
   "execution_count": 11,
   "metadata": {
    "scrolled": false
   },
   "outputs": [
    {
     "data": {
      "text/plain": [
       "0       1\n",
       "1       1\n",
       "2       0\n",
       "3       0\n",
       "4       0\n",
       "       ..\n",
       "1373    0\n",
       "1374    0\n",
       "1375    0\n",
       "1376    0\n",
       "1377    0\n",
       "Name: playoff_appearance, Length: 1350, dtype: int64"
      ]
     },
     "execution_count": 11,
     "metadata": {},
     "output_type": "execute_result"
    }
   ],
   "source": [
    "# double check y\n",
    "y"
   ]
  },
  {
   "cell_type": "code",
   "execution_count": 12,
   "metadata": {},
   "outputs": [
    {
     "data": {
      "image/png": "[encoded data removed]",
      "text/plain": [
       "<Figure size 432x288 with 1 Axes>"
      ]
     },
     "metadata": {
      "needs_background": "light"
     },
     "output_type": "display_data"
    }
   ],
   "source": [
    "values, counts = np.unique(y, return_counts=True)\n",
    "normalized_counts = counts/counts.sum()\n",
    "\n",
    "plt.bar([\"0\", \"1\"], normalized_counts * 100)\n",
    "plt.xlabel('Playoff Appeareance')\n",
    "plt.ylabel('% of Teams')\n",
    "sns.despine()\n",
    "plt.title(\"Distribution of Class in Target\")\n",
    "plt.show()"
   ]
  },
  {
   "cell_type": "markdown",
   "metadata": {},
   "source": [
    "&nbsp;&nbsp;&nbsp;&nbsp;&nbsp;&nbsp;There is big class imbalance in the target .This is due to how playoff was and is formatted. From 1969 to 1993, there were only 4 teams that made the playoff whereas in recent years, after couple of expansion in playoff format, there are 10 teams that make the playoff. There are 30 teams in modern MLB so imbalance in the target is always present and is more extreme in my case as I use pre-playoff expansion data as well. This will cause poor performance on the minority class, which is the most important part of the project. To address this, I will use SMOTE to create synthetic data in the minority class.\n",
    "\n",
    "&nbsp;&nbsp;&nbsp;&nbsp;&nbsp;&nbsp;General idea of SMOTE is by selecting data in minority class that are close in feature space and 'drawing' a line among selected data. Then a synthetic point is picked at a point along the line. SMOTE is effective because new snythetic data from the minority class are plausible and relatively close in feature space. General downside is that synthetic data are created without considering the majority class resulting in ambiguous point if there is a strong overlap in classes. However, there is a parameter that might combat this and will try later part of modelling.\n",
    "\n",
    "&nbsp;&nbsp;&nbsp;&nbsp;&nbsp;&nbsp;SMOTE in imblearn package will add synthetic data on top of original minority data. This is nice as it ensures all my original data is included for modelling.\n",
    "\n",
    "&nbsp;&nbsp;&nbsp;&nbsp;&nbsp;&nbsp;I will be using five different models (Log Reg, KNN, RF, SVM, XGB) and Voting Classifier using best parameters of these different models found using Gridsearch. I will present base models with regular imbalance data and with upsampled data using SMOTE to showcase the effect of upsampling."
   ]
  },
  {
   "cell_type": "code",
   "execution_count": 13,
   "metadata": {},
   "outputs": [],
   "source": [
    "# Perform train_test_split with stratify on y as it is imbalanced and make sure train and validation gets same portion of 0, 1 in y\n",
    "\n",
    "X_train, X_test, y_train, y_test = train_test_split(X, y, random_state = 5, stratify= y, test_size=0.2)"
   ]
  },
  {
   "cell_type": "code",
   "execution_count": 14,
   "metadata": {},
   "outputs": [],
   "source": [
    "# Import SMOTE package to address the imbalance on target y\n",
    "from imblearn.over_sampling import SMOTE"
   ]
  },
  {
   "cell_type": "code",
   "execution_count": 15,
   "metadata": {},
   "outputs": [],
   "source": [
    "# In order to have same number of target class, I put 1 in sampling_strategy parameter\n",
    "sm = SMOTE(sampling_strategy = 1, random_state = 777, n_jobs = -1)\n",
    "\n",
    "X_train_up, y_train_up = sm.fit_sample(X_train, y_train)"
   ]
  },
  {
   "cell_type": "code",
   "execution_count": 16,
   "metadata": {
    "scrolled": false
   },
   "outputs": [
    {
     "data": {
      "text/plain": [
       "(832, 832)"
      ]
     },
     "execution_count": 16,
     "metadata": {},
     "output_type": "execute_result"
    }
   ],
   "source": [
    "# Check the number of classes in target \n",
    "len(y_train_up[y_train_up == 0]), len(y_train_up[y_train_up == 1])"
   ]
  },
  {
   "cell_type": "code",
   "execution_count": 17,
   "metadata": {},
   "outputs": [
    {
     "data": {
      "text/plain": [
       "248"
      ]
     },
     "execution_count": 17,
     "metadata": {},
     "output_type": "execute_result"
    }
   ],
   "source": [
    "# Original size of y_train in class 1\n",
    "len(y_train[y_train == 1])"
   ]
  },
  {
   "cell_type": "code",
   "execution_count": 18,
   "metadata": {
    "scrolled": false
   },
   "outputs": [
    {
     "data": {
      "text/plain": [
       "(1080, 1664)"
      ]
     },
     "execution_count": 18,
     "metadata": {},
     "output_type": "execute_result"
    }
   ],
   "source": [
    "# Compare number of data in original vs upsampled\n",
    "X_train.shape[0], X_train_up.shape[0]"
   ]
  },
  {
   "cell_type": "markdown",
   "metadata": {},
   "source": [
    "SMOTE created 584 synthetic data in class 1 to match the size of data in class 0! "
   ]
  },
  {
   "cell_type": "code",
   "execution_count": 19,
   "metadata": {},
   "outputs": [],
   "source": [
    "# Make test set 1 and 2. First test set is for year 2019 and second is for year 2020\n",
    "\n",
    "# These will not be used in modelling and remain 'unseen'\n",
    "X_2019 = df_scaled.loc[df_scaled['year'] == 2019].iloc[:, :-3]\n",
    "X_2020 = df_scaled.loc[df_scaled['year'] == 2020].iloc[:, :-3]"
   ]
  },
  {
   "cell_type": "code",
   "execution_count": 20,
   "metadata": {},
   "outputs": [],
   "source": [
    "# Target of the unseen data. Same as the cell above 2019 and 2020\n",
    "y_2019 = df_scaled['playoff_appearance'].loc[df_scaled['year'] == 2019]\n",
    "y_2020 = df_scaled['playoff_appearance'].loc[df_scaled['year'] == 2020]"
   ]
  },
  {
   "cell_type": "code",
   "execution_count": 21,
   "metadata": {
    "scrolled": true
   },
   "outputs": [
    {
     "data": {
      "text/html": [
       "<div>\n",
       "<style scoped>\n",
       "    .dataframe tbody tr th:only-of-type {\n",
       "        vertical-align: middle;\n",
       "    }\n",
       "\n",
       "    .dataframe tbody tr th {\n",
       "        vertical-align: top;\n",
       "    }\n",
       "\n",
       "    .dataframe thead th {\n",
       "        text-align: right;\n",
       "    }\n",
       "</style>\n",
       "<table border=\"1\" class=\"dataframe\">\n",
       "  <thead>\n",
       "    <tr style=\"text-align: right;\">\n",
       "      <th></th>\n",
       "      <th>batter_age</th>\n",
       "      <th>b_runs</th>\n",
       "      <th>b_hits</th>\n",
       "      <th>doubles</th>\n",
       "      <th>triples</th>\n",
       "      <th>homeruns</th>\n",
       "      <th>sb</th>\n",
       "      <th>cs</th>\n",
       "      <th>walks</th>\n",
       "      <th>b_strikeouts</th>\n",
       "      <th>...</th>\n",
       "      <th>walks_allowed</th>\n",
       "      <th>p_strikeouts</th>\n",
       "      <th>saves</th>\n",
       "      <th>hbp</th>\n",
       "      <th>era_plus</th>\n",
       "      <th>so_walk</th>\n",
       "      <th>p_left_on_base</th>\n",
       "      <th>defensive_efficiency</th>\n",
       "      <th>errors</th>\n",
       "      <th>Rtot</th>\n",
       "    </tr>\n",
       "  </thead>\n",
       "  <tbody>\n",
       "    <tr>\n",
       "      <th>1378</th>\n",
       "      <td>0.700</td>\n",
       "      <td>0.636247</td>\n",
       "      <td>0.505495</td>\n",
       "      <td>0.528926</td>\n",
       "      <td>0.948271</td>\n",
       "      <td>0.459627</td>\n",
       "      <td>0.582524</td>\n",
       "      <td>0.108108</td>\n",
       "      <td>0.603253</td>\n",
       "      <td>0.442007</td>\n",
       "      <td>...</td>\n",
       "      <td>0.556054</td>\n",
       "      <td>0.446712</td>\n",
       "      <td>0.720000</td>\n",
       "      <td>0.428571</td>\n",
       "      <td>0.522727</td>\n",
       "      <td>0.372881</td>\n",
       "      <td>0.641791</td>\n",
       "      <td>0.509804</td>\n",
       "      <td>0.303030</td>\n",
       "      <td>0.947915</td>\n",
       "    </tr>\n",
       "    <tr>\n",
       "      <th>1379</th>\n",
       "      <td>0.525</td>\n",
       "      <td>0.753767</td>\n",
       "      <td>0.553114</td>\n",
       "      <td>0.438017</td>\n",
       "      <td>0.494750</td>\n",
       "      <td>0.639752</td>\n",
       "      <td>0.592233</td>\n",
       "      <td>0.486486</td>\n",
       "      <td>0.901758</td>\n",
       "      <td>0.685795</td>\n",
       "      <td>...</td>\n",
       "      <td>0.699552</td>\n",
       "      <td>0.369615</td>\n",
       "      <td>0.680000</td>\n",
       "      <td>0.571429</td>\n",
       "      <td>0.636364</td>\n",
       "      <td>0.242938</td>\n",
       "      <td>0.920398</td>\n",
       "      <td>0.372549</td>\n",
       "      <td>0.181818</td>\n",
       "      <td>0.648429</td>\n",
       "    </tr>\n",
       "    <tr>\n",
       "      <th>1380</th>\n",
       "      <td>0.150</td>\n",
       "      <td>0.401206</td>\n",
       "      <td>0.358974</td>\n",
       "      <td>0.231405</td>\n",
       "      <td>0.329834</td>\n",
       "      <td>0.416149</td>\n",
       "      <td>0.543689</td>\n",
       "      <td>0.540541</td>\n",
       "      <td>0.308526</td>\n",
       "      <td>0.612886</td>\n",
       "      <td>...</td>\n",
       "      <td>0.757848</td>\n",
       "      <td>0.040816</td>\n",
       "      <td>0.000000</td>\n",
       "      <td>0.795918</td>\n",
       "      <td>0.000000</td>\n",
       "      <td>0.062147</td>\n",
       "      <td>0.611940</td>\n",
       "      <td>0.431373</td>\n",
       "      <td>0.636364</td>\n",
       "      <td>0.667961</td>\n",
       "    </tr>\n",
       "    <tr>\n",
       "      <th>1381</th>\n",
       "      <td>0.350</td>\n",
       "      <td>0.882480</td>\n",
       "      <td>1.000000</td>\n",
       "      <td>1.000000</td>\n",
       "      <td>0.412292</td>\n",
       "      <td>0.614907</td>\n",
       "      <td>0.388350</td>\n",
       "      <td>0.540541</td>\n",
       "      <td>0.792180</td>\n",
       "      <td>0.492132</td>\n",
       "      <td>...</td>\n",
       "      <td>0.955157</td>\n",
       "      <td>0.913832</td>\n",
       "      <td>0.240000</td>\n",
       "      <td>0.714286</td>\n",
       "      <td>0.454545</td>\n",
       "      <td>0.333333</td>\n",
       "      <td>0.975124</td>\n",
       "      <td>0.137255</td>\n",
       "      <td>0.333333</td>\n",
       "      <td>0.492175</td>\n",
       "    </tr>\n",
       "    <tr>\n",
       "      <th>1382</th>\n",
       "      <td>0.450</td>\n",
       "      <td>0.639045</td>\n",
       "      <td>0.355311</td>\n",
       "      <td>0.380165</td>\n",
       "      <td>0.371063</td>\n",
       "      <td>0.683230</td>\n",
       "      <td>0.165049</td>\n",
       "      <td>0.378378</td>\n",
       "      <td>0.758173</td>\n",
       "      <td>0.669846</td>\n",
       "      <td>...</td>\n",
       "      <td>0.636771</td>\n",
       "      <td>0.485261</td>\n",
       "      <td>0.440000</td>\n",
       "      <td>0.795918</td>\n",
       "      <td>0.545455</td>\n",
       "      <td>0.333333</td>\n",
       "      <td>0.915423</td>\n",
       "      <td>0.294118</td>\n",
       "      <td>0.787879</td>\n",
       "      <td>0.720045</td>\n",
       "    </tr>\n",
       "    <tr>\n",
       "      <th>1383</th>\n",
       "      <td>0.425</td>\n",
       "      <td>0.354751</td>\n",
       "      <td>0.626237</td>\n",
       "      <td>0.310867</td>\n",
       "      <td>0.128809</td>\n",
       "      <td>0.230624</td>\n",
       "      <td>0.343605</td>\n",
       "      <td>0.491187</td>\n",
       "      <td>0.000000</td>\n",
       "      <td>0.894543</td>\n",
       "      <td>...</td>\n",
       "      <td>0.868228</td>\n",
       "      <td>0.204420</td>\n",
       "      <td>0.248199</td>\n",
       "      <td>0.210546</td>\n",
       "      <td>0.250000</td>\n",
       "      <td>0.079096</td>\n",
       "      <td>0.660517</td>\n",
       "      <td>0.235294</td>\n",
       "      <td>0.783738</td>\n",
       "      <td>0.517530</td>\n",
       "    </tr>\n",
       "    <tr>\n",
       "      <th>1384</th>\n",
       "      <td>0.475</td>\n",
       "      <td>0.322859</td>\n",
       "      <td>0.172161</td>\n",
       "      <td>0.090909</td>\n",
       "      <td>0.412292</td>\n",
       "      <td>0.503106</td>\n",
       "      <td>0.504854</td>\n",
       "      <td>0.756757</td>\n",
       "      <td>0.421883</td>\n",
       "      <td>0.615165</td>\n",
       "      <td>...</td>\n",
       "      <td>0.645740</td>\n",
       "      <td>0.730159</td>\n",
       "      <td>0.760000</td>\n",
       "      <td>0.346939</td>\n",
       "      <td>0.659091</td>\n",
       "      <td>0.446328</td>\n",
       "      <td>0.343284</td>\n",
       "      <td>0.647059</td>\n",
       "      <td>0.378788</td>\n",
       "      <td>0.733066</td>\n",
       "    </tr>\n",
       "    <tr>\n",
       "      <th>1385</th>\n",
       "      <td>0.450</td>\n",
       "      <td>0.513130</td>\n",
       "      <td>0.267399</td>\n",
       "      <td>0.512397</td>\n",
       "      <td>0.041229</td>\n",
       "      <td>0.478261</td>\n",
       "      <td>0.728155</td>\n",
       "      <td>0.675676</td>\n",
       "      <td>0.690159</td>\n",
       "      <td>0.378212</td>\n",
       "      <td>...</td>\n",
       "      <td>0.260090</td>\n",
       "      <td>0.630385</td>\n",
       "      <td>0.600000</td>\n",
       "      <td>0.428571</td>\n",
       "      <td>0.977273</td>\n",
       "      <td>0.700565</td>\n",
       "      <td>0.373134</td>\n",
       "      <td>0.568627</td>\n",
       "      <td>0.257576</td>\n",
       "      <td>0.921873</td>\n",
       "    </tr>\n",
       "    <tr>\n",
       "      <th>1386</th>\n",
       "      <td>0.575</td>\n",
       "      <td>0.697805</td>\n",
       "      <td>0.809524</td>\n",
       "      <td>0.818182</td>\n",
       "      <td>0.989501</td>\n",
       "      <td>0.484472</td>\n",
       "      <td>0.417476</td>\n",
       "      <td>0.567568</td>\n",
       "      <td>0.410547</td>\n",
       "      <td>0.767817</td>\n",
       "      <td>...</td>\n",
       "      <td>0.883408</td>\n",
       "      <td>0.077098</td>\n",
       "      <td>0.040000</td>\n",
       "      <td>0.326531</td>\n",
       "      <td>0.227273</td>\n",
       "      <td>0.022599</td>\n",
       "      <td>0.776119</td>\n",
       "      <td>0.215686</td>\n",
       "      <td>0.469697</td>\n",
       "      <td>0.733066</td>\n",
       "    </tr>\n",
       "    <tr>\n",
       "      <th>1387</th>\n",
       "      <td>0.425</td>\n",
       "      <td>0.000000</td>\n",
       "      <td>0.220804</td>\n",
       "      <td>0.576972</td>\n",
       "      <td>1.000000</td>\n",
       "      <td>0.024382</td>\n",
       "      <td>0.284991</td>\n",
       "      <td>0.273628</td>\n",
       "      <td>0.049426</td>\n",
       "      <td>1.000000</td>\n",
       "      <td>...</td>\n",
       "      <td>0.660669</td>\n",
       "      <td>0.332193</td>\n",
       "      <td>0.167702</td>\n",
       "      <td>0.580175</td>\n",
       "      <td>0.181818</td>\n",
       "      <td>0.248588</td>\n",
       "      <td>0.850746</td>\n",
       "      <td>0.000000</td>\n",
       "      <td>0.677019</td>\n",
       "      <td>0.000000</td>\n",
       "    </tr>\n",
       "    <tr>\n",
       "      <th>1388</th>\n",
       "      <td>0.775</td>\n",
       "      <td>0.935644</td>\n",
       "      <td>0.941392</td>\n",
       "      <td>0.818182</td>\n",
       "      <td>0.453521</td>\n",
       "      <td>0.881988</td>\n",
       "      <td>0.378641</td>\n",
       "      <td>0.459459</td>\n",
       "      <td>1.000000</td>\n",
       "      <td>0.000000</td>\n",
       "      <td>...</td>\n",
       "      <td>0.251121</td>\n",
       "      <td>1.000000</td>\n",
       "      <td>0.800000</td>\n",
       "      <td>0.000000</td>\n",
       "      <td>1.000000</td>\n",
       "      <td>0.915254</td>\n",
       "      <td>0.024876</td>\n",
       "      <td>1.000000</td>\n",
       "      <td>0.075758</td>\n",
       "      <td>1.000000</td>\n",
       "    </tr>\n",
       "    <tr>\n",
       "      <th>1389</th>\n",
       "      <td>0.425</td>\n",
       "      <td>0.294878</td>\n",
       "      <td>0.274725</td>\n",
       "      <td>0.471074</td>\n",
       "      <td>0.948271</td>\n",
       "      <td>0.099379</td>\n",
       "      <td>0.864078</td>\n",
       "      <td>0.783784</td>\n",
       "      <td>0.285855</td>\n",
       "      <td>0.544535</td>\n",
       "      <td>...</td>\n",
       "      <td>0.852018</td>\n",
       "      <td>0.000000</td>\n",
       "      <td>0.400000</td>\n",
       "      <td>0.816327</td>\n",
       "      <td>0.204545</td>\n",
       "      <td>0.000000</td>\n",
       "      <td>0.995025</td>\n",
       "      <td>0.235294</td>\n",
       "      <td>0.106061</td>\n",
       "      <td>0.524728</td>\n",
       "    </tr>\n",
       "    <tr>\n",
       "      <th>1390</th>\n",
       "      <td>0.725</td>\n",
       "      <td>0.513130</td>\n",
       "      <td>0.318681</td>\n",
       "      <td>0.363636</td>\n",
       "      <td>0.164917</td>\n",
       "      <td>0.459627</td>\n",
       "      <td>0.359223</td>\n",
       "      <td>0.270270</td>\n",
       "      <td>0.777066</td>\n",
       "      <td>0.250623</td>\n",
       "      <td>...</td>\n",
       "      <td>0.825112</td>\n",
       "      <td>0.394558</td>\n",
       "      <td>0.200000</td>\n",
       "      <td>0.836735</td>\n",
       "      <td>0.181818</td>\n",
       "      <td>0.186441</td>\n",
       "      <td>0.646766</td>\n",
       "      <td>0.568627</td>\n",
       "      <td>0.393939</td>\n",
       "      <td>0.635408</td>\n",
       "    </tr>\n",
       "    <tr>\n",
       "      <th>1391</th>\n",
       "      <td>0.500</td>\n",
       "      <td>0.840508</td>\n",
       "      <td>0.487179</td>\n",
       "      <td>0.644628</td>\n",
       "      <td>0.123688</td>\n",
       "      <td>0.826087</td>\n",
       "      <td>0.281553</td>\n",
       "      <td>0.000000</td>\n",
       "      <td>0.856415</td>\n",
       "      <td>0.432894</td>\n",
       "      <td>...</td>\n",
       "      <td>0.000000</td>\n",
       "      <td>0.655329</td>\n",
       "      <td>0.680000</td>\n",
       "      <td>0.510204</td>\n",
       "      <td>0.909091</td>\n",
       "      <td>1.000000</td>\n",
       "      <td>0.000000</td>\n",
       "      <td>0.862745</td>\n",
       "      <td>0.606061</td>\n",
       "      <td>0.947915</td>\n",
       "    </tr>\n",
       "    <tr>\n",
       "      <th>1392</th>\n",
       "      <td>0.625</td>\n",
       "      <td>0.082222</td>\n",
       "      <td>0.164835</td>\n",
       "      <td>0.338843</td>\n",
       "      <td>0.041229</td>\n",
       "      <td>0.000000</td>\n",
       "      <td>0.262136</td>\n",
       "      <td>0.540541</td>\n",
       "      <td>0.055364</td>\n",
       "      <td>0.690352</td>\n",
       "      <td>...</td>\n",
       "      <td>1.000000</td>\n",
       "      <td>0.335601</td>\n",
       "      <td>0.000000</td>\n",
       "      <td>1.000000</td>\n",
       "      <td>0.181818</td>\n",
       "      <td>0.073446</td>\n",
       "      <td>0.711443</td>\n",
       "      <td>0.725490</td>\n",
       "      <td>0.424242</td>\n",
       "      <td>0.609366</td>\n",
       "    </tr>\n",
       "    <tr>\n",
       "      <th>1393</th>\n",
       "      <td>0.750</td>\n",
       "      <td>0.513130</td>\n",
       "      <td>0.311355</td>\n",
       "      <td>0.454545</td>\n",
       "      <td>0.000000</td>\n",
       "      <td>0.645963</td>\n",
       "      <td>0.708738</td>\n",
       "      <td>0.405405</td>\n",
       "      <td>0.939543</td>\n",
       "      <td>0.904520</td>\n",
       "      <td>...</td>\n",
       "      <td>0.798206</td>\n",
       "      <td>0.605442</td>\n",
       "      <td>0.920000</td>\n",
       "      <td>0.387755</td>\n",
       "      <td>0.431818</td>\n",
       "      <td>0.293785</td>\n",
       "      <td>0.716418</td>\n",
       "      <td>0.490196</td>\n",
       "      <td>0.469697</td>\n",
       "      <td>0.654940</td>\n",
       "    </tr>\n",
       "    <tr>\n",
       "      <th>1394</th>\n",
       "      <td>0.475</td>\n",
       "      <td>0.988808</td>\n",
       "      <td>0.974359</td>\n",
       "      <td>0.776860</td>\n",
       "      <td>0.247375</td>\n",
       "      <td>1.000000</td>\n",
       "      <td>0.000000</td>\n",
       "      <td>0.297297</td>\n",
       "      <td>0.546575</td>\n",
       "      <td>0.382769</td>\n",
       "      <td>...</td>\n",
       "      <td>0.269058</td>\n",
       "      <td>0.528345</td>\n",
       "      <td>0.920000</td>\n",
       "      <td>0.408163</td>\n",
       "      <td>0.590909</td>\n",
       "      <td>0.638418</td>\n",
       "      <td>0.691542</td>\n",
       "      <td>0.137255</td>\n",
       "      <td>0.681818</td>\n",
       "      <td>0.518217</td>\n",
       "    </tr>\n",
       "    <tr>\n",
       "      <th>1395</th>\n",
       "      <td>0.500</td>\n",
       "      <td>0.574688</td>\n",
       "      <td>0.600733</td>\n",
       "      <td>0.462810</td>\n",
       "      <td>0.000000</td>\n",
       "      <td>0.596273</td>\n",
       "      <td>0.271845</td>\n",
       "      <td>0.459459</td>\n",
       "      <td>0.512568</td>\n",
       "      <td>0.496689</td>\n",
       "      <td>...</td>\n",
       "      <td>0.484305</td>\n",
       "      <td>0.657596</td>\n",
       "      <td>0.440000</td>\n",
       "      <td>0.387755</td>\n",
       "      <td>0.318182</td>\n",
       "      <td>0.525424</td>\n",
       "      <td>0.741294</td>\n",
       "      <td>0.254902</td>\n",
       "      <td>0.500000</td>\n",
       "      <td>0.361964</td>\n",
       "    </tr>\n",
       "    <tr>\n",
       "      <th>1396</th>\n",
       "      <td>0.600</td>\n",
       "      <td>1.000000</td>\n",
       "      <td>0.776557</td>\n",
       "      <td>0.545455</td>\n",
       "      <td>0.000000</td>\n",
       "      <td>0.993789</td>\n",
       "      <td>0.262136</td>\n",
       "      <td>0.324324</td>\n",
       "      <td>0.712831</td>\n",
       "      <td>0.617443</td>\n",
       "      <td>...</td>\n",
       "      <td>0.515695</td>\n",
       "      <td>0.689342</td>\n",
       "      <td>0.920000</td>\n",
       "      <td>0.061224</td>\n",
       "      <td>0.500000</td>\n",
       "      <td>0.519774</td>\n",
       "      <td>0.507463</td>\n",
       "      <td>0.392157</td>\n",
       "      <td>0.545455</td>\n",
       "      <td>0.687492</td>\n",
       "    </tr>\n",
       "    <tr>\n",
       "      <th>1397</th>\n",
       "      <td>0.475</td>\n",
       "      <td>0.725786</td>\n",
       "      <td>0.377289</td>\n",
       "      <td>0.561983</td>\n",
       "      <td>0.247375</td>\n",
       "      <td>0.689441</td>\n",
       "      <td>0.203883</td>\n",
       "      <td>0.297297</td>\n",
       "      <td>0.746838</td>\n",
       "      <td>0.391883</td>\n",
       "      <td>...</td>\n",
       "      <td>0.381166</td>\n",
       "      <td>0.156463</td>\n",
       "      <td>0.720000</td>\n",
       "      <td>0.510204</td>\n",
       "      <td>0.568182</td>\n",
       "      <td>0.344633</td>\n",
       "      <td>0.572139</td>\n",
       "      <td>0.862745</td>\n",
       "      <td>0.212121</td>\n",
       "      <td>0.902341</td>\n",
       "    </tr>\n",
       "    <tr>\n",
       "      <th>1398</th>\n",
       "      <td>0.450</td>\n",
       "      <td>0.527121</td>\n",
       "      <td>0.322344</td>\n",
       "      <td>0.719008</td>\n",
       "      <td>0.371063</td>\n",
       "      <td>0.428571</td>\n",
       "      <td>0.485437</td>\n",
       "      <td>0.216216</td>\n",
       "      <td>0.686381</td>\n",
       "      <td>0.653897</td>\n",
       "      <td>...</td>\n",
       "      <td>0.690583</td>\n",
       "      <td>0.367347</td>\n",
       "      <td>0.360000</td>\n",
       "      <td>0.612245</td>\n",
       "      <td>0.363636</td>\n",
       "      <td>0.248588</td>\n",
       "      <td>0.776119</td>\n",
       "      <td>0.411765</td>\n",
       "      <td>0.469697</td>\n",
       "      <td>0.726556</td>\n",
       "    </tr>\n",
       "    <tr>\n",
       "      <th>1399</th>\n",
       "      <td>0.400</td>\n",
       "      <td>0.482351</td>\n",
       "      <td>0.791209</td>\n",
       "      <td>0.752066</td>\n",
       "      <td>0.865813</td>\n",
       "      <td>0.105590</td>\n",
       "      <td>0.349515</td>\n",
       "      <td>0.513514</td>\n",
       "      <td>0.168720</td>\n",
       "      <td>0.107084</td>\n",
       "      <td>...</td>\n",
       "      <td>0.860987</td>\n",
       "      <td>0.482993</td>\n",
       "      <td>0.160000</td>\n",
       "      <td>0.897959</td>\n",
       "      <td>0.022727</td>\n",
       "      <td>0.203390</td>\n",
       "      <td>0.980100</td>\n",
       "      <td>0.000000</td>\n",
       "      <td>0.833333</td>\n",
       "      <td>0.166646</td>\n",
       "    </tr>\n",
       "    <tr>\n",
       "      <th>1400</th>\n",
       "      <td>0.075</td>\n",
       "      <td>0.269695</td>\n",
       "      <td>0.000000</td>\n",
       "      <td>0.000000</td>\n",
       "      <td>0.288604</td>\n",
       "      <td>0.453416</td>\n",
       "      <td>0.407767</td>\n",
       "      <td>0.729730</td>\n",
       "      <td>0.467225</td>\n",
       "      <td>0.945531</td>\n",
       "      <td>...</td>\n",
       "      <td>0.318386</td>\n",
       "      <td>0.555556</td>\n",
       "      <td>0.800000</td>\n",
       "      <td>0.551020</td>\n",
       "      <td>0.181818</td>\n",
       "      <td>0.610169</td>\n",
       "      <td>0.557214</td>\n",
       "      <td>0.274510</td>\n",
       "      <td>0.757576</td>\n",
       "      <td>0.329411</td>\n",
       "    </tr>\n",
       "    <tr>\n",
       "      <th>1401</th>\n",
       "      <td>0.475</td>\n",
       "      <td>0.482351</td>\n",
       "      <td>0.087912</td>\n",
       "      <td>0.247934</td>\n",
       "      <td>0.453521</td>\n",
       "      <td>0.577640</td>\n",
       "      <td>0.844660</td>\n",
       "      <td>1.000000</td>\n",
       "      <td>0.784623</td>\n",
       "      <td>0.945531</td>\n",
       "      <td>...</td>\n",
       "      <td>0.506726</td>\n",
       "      <td>0.020408</td>\n",
       "      <td>0.280000</td>\n",
       "      <td>0.204082</td>\n",
       "      <td>0.113636</td>\n",
       "      <td>0.192090</td>\n",
       "      <td>0.467662</td>\n",
       "      <td>0.431373</td>\n",
       "      <td>1.000000</td>\n",
       "      <td>0.615876</td>\n",
       "    </tr>\n",
       "    <tr>\n",
       "      <th>1402</th>\n",
       "      <td>1.000</td>\n",
       "      <td>0.258503</td>\n",
       "      <td>0.186813</td>\n",
       "      <td>0.628099</td>\n",
       "      <td>0.371063</td>\n",
       "      <td>0.130435</td>\n",
       "      <td>0.184466</td>\n",
       "      <td>0.486486</td>\n",
       "      <td>0.357647</td>\n",
       "      <td>0.612886</td>\n",
       "      <td>...</td>\n",
       "      <td>0.569507</td>\n",
       "      <td>0.312925</td>\n",
       "      <td>0.560000</td>\n",
       "      <td>0.489796</td>\n",
       "      <td>0.318182</td>\n",
       "      <td>0.299435</td>\n",
       "      <td>0.562189</td>\n",
       "      <td>0.647059</td>\n",
       "      <td>0.363636</td>\n",
       "      <td>0.694003</td>\n",
       "    </tr>\n",
       "    <tr>\n",
       "      <th>1403</th>\n",
       "      <td>0.725</td>\n",
       "      <td>0.499140</td>\n",
       "      <td>0.201465</td>\n",
       "      <td>0.181818</td>\n",
       "      <td>0.288604</td>\n",
       "      <td>0.397516</td>\n",
       "      <td>0.854369</td>\n",
       "      <td>0.513514</td>\n",
       "      <td>0.682602</td>\n",
       "      <td>0.578711</td>\n",
       "      <td>...</td>\n",
       "      <td>0.686099</td>\n",
       "      <td>0.383220</td>\n",
       "      <td>1.000000</td>\n",
       "      <td>0.571429</td>\n",
       "      <td>0.636364</td>\n",
       "      <td>0.259887</td>\n",
       "      <td>0.552239</td>\n",
       "      <td>0.784314</td>\n",
       "      <td>0.000000</td>\n",
       "      <td>0.876299</td>\n",
       "    </tr>\n",
       "    <tr>\n",
       "      <th>1404</th>\n",
       "      <td>0.325</td>\n",
       "      <td>0.513130</td>\n",
       "      <td>0.534799</td>\n",
       "      <td>0.553719</td>\n",
       "      <td>0.494750</td>\n",
       "      <td>0.440994</td>\n",
       "      <td>0.640777</td>\n",
       "      <td>0.729730</td>\n",
       "      <td>0.610810</td>\n",
       "      <td>0.745033</td>\n",
       "      <td>...</td>\n",
       "      <td>0.273543</td>\n",
       "      <td>0.886621</td>\n",
       "      <td>0.760000</td>\n",
       "      <td>0.387755</td>\n",
       "      <td>0.886364</td>\n",
       "      <td>0.830508</td>\n",
       "      <td>0.218905</td>\n",
       "      <td>0.568627</td>\n",
       "      <td>0.318182</td>\n",
       "      <td>0.772130</td>\n",
       "    </tr>\n",
       "    <tr>\n",
       "      <th>1405</th>\n",
       "      <td>0.725</td>\n",
       "      <td>0.627852</td>\n",
       "      <td>0.340659</td>\n",
       "      <td>0.595041</td>\n",
       "      <td>0.288604</td>\n",
       "      <td>0.478261</td>\n",
       "      <td>1.000000</td>\n",
       "      <td>0.756757</td>\n",
       "      <td>0.580582</td>\n",
       "      <td>0.938696</td>\n",
       "      <td>...</td>\n",
       "      <td>0.856502</td>\n",
       "      <td>0.337868</td>\n",
       "      <td>0.240000</td>\n",
       "      <td>0.591837</td>\n",
       "      <td>0.431818</td>\n",
       "      <td>0.146893</td>\n",
       "      <td>0.990050</td>\n",
       "      <td>0.098039</td>\n",
       "      <td>0.590909</td>\n",
       "      <td>0.407538</td>\n",
       "    </tr>\n",
       "    <tr>\n",
       "      <th>1406</th>\n",
       "      <td>0.000</td>\n",
       "      <td>0.392812</td>\n",
       "      <td>0.065934</td>\n",
       "      <td>0.380165</td>\n",
       "      <td>0.164917</td>\n",
       "      <td>0.627329</td>\n",
       "      <td>0.223301</td>\n",
       "      <td>0.270270</td>\n",
       "      <td>0.486118</td>\n",
       "      <td>0.792879</td>\n",
       "      <td>...</td>\n",
       "      <td>0.950673</td>\n",
       "      <td>0.231293</td>\n",
       "      <td>0.240000</td>\n",
       "      <td>0.571429</td>\n",
       "      <td>0.272727</td>\n",
       "      <td>0.056497</td>\n",
       "      <td>1.000000</td>\n",
       "      <td>0.372549</td>\n",
       "      <td>0.454545</td>\n",
       "      <td>0.570302</td>\n",
       "    </tr>\n",
       "    <tr>\n",
       "      <th>1407</th>\n",
       "      <td>0.725</td>\n",
       "      <td>0.804133</td>\n",
       "      <td>0.655678</td>\n",
       "      <td>0.611570</td>\n",
       "      <td>0.412292</td>\n",
       "      <td>0.527950</td>\n",
       "      <td>0.854369</td>\n",
       "      <td>0.513514</td>\n",
       "      <td>0.769509</td>\n",
       "      <td>0.323531</td>\n",
       "      <td>...</td>\n",
       "      <td>0.560538</td>\n",
       "      <td>0.637188</td>\n",
       "      <td>0.520000</td>\n",
       "      <td>0.408163</td>\n",
       "      <td>0.522727</td>\n",
       "      <td>0.457627</td>\n",
       "      <td>0.641791</td>\n",
       "      <td>0.450980</td>\n",
       "      <td>0.318182</td>\n",
       "      <td>0.720045</td>\n",
       "    </tr>\n",
       "  </tbody>\n",
       "</table>\n",
       "<p>30 rows × 27 columns</p>\n",
       "</div>"
      ],
      "text/plain": [
       "      batter_age    b_runs    b_hits   doubles   triples  homeruns        sb  \\\n",
       "1378       0.700  0.636247  0.505495  0.528926  0.948271  0.459627  0.582524   \n",
       "1379       0.525  0.753767  0.553114  0.438017  0.494750  0.639752  0.592233   \n",
       "1380       0.150  0.401206  0.358974  0.231405  0.329834  0.416149  0.543689   \n",
       "1381       0.350  0.882480  1.000000  1.000000  0.412292  0.614907  0.388350   \n",
       "1382       0.450  0.639045  0.355311  0.380165  0.371063  0.683230  0.165049   \n",
       "1383       0.425  0.354751  0.626237  0.310867  0.128809  0.230624  0.343605   \n",
       "1384       0.475  0.322859  0.172161  0.090909  0.412292  0.503106  0.504854   \n",
       "1385       0.450  0.513130  0.267399  0.512397  0.041229  0.478261  0.728155   \n",
       "1386       0.575  0.697805  0.809524  0.818182  0.989501  0.484472  0.417476   \n",
       "1387       0.425  0.000000  0.220804  0.576972  1.000000  0.024382  0.284991   \n",
       "1388       0.775  0.935644  0.941392  0.818182  0.453521  0.881988  0.378641   \n",
       "1389       0.425  0.294878  0.274725  0.471074  0.948271  0.099379  0.864078   \n",
       "1390       0.725  0.513130  0.318681  0.363636  0.164917  0.459627  0.359223   \n",
       "1391       0.500  0.840508  0.487179  0.644628  0.123688  0.826087  0.281553   \n",
       "1392       0.625  0.082222  0.164835  0.338843  0.041229  0.000000  0.262136   \n",
       "1393       0.750  0.513130  0.311355  0.454545  0.000000  0.645963  0.708738   \n",
       "1394       0.475  0.988808  0.974359  0.776860  0.247375  1.000000  0.000000   \n",
       "1395       0.500  0.574688  0.600733  0.462810  0.000000  0.596273  0.271845   \n",
       "1396       0.600  1.000000  0.776557  0.545455  0.000000  0.993789  0.262136   \n",
       "1397       0.475  0.725786  0.377289  0.561983  0.247375  0.689441  0.203883   \n",
       "1398       0.450  0.527121  0.322344  0.719008  0.371063  0.428571  0.485437   \n",
       "1399       0.400  0.482351  0.791209  0.752066  0.865813  0.105590  0.349515   \n",
       "1400       0.075  0.269695  0.000000  0.000000  0.288604  0.453416  0.407767   \n",
       "1401       0.475  0.482351  0.087912  0.247934  0.453521  0.577640  0.844660   \n",
       "1402       1.000  0.258503  0.186813  0.628099  0.371063  0.130435  0.184466   \n",
       "1403       0.725  0.499140  0.201465  0.181818  0.288604  0.397516  0.854369   \n",
       "1404       0.325  0.513130  0.534799  0.553719  0.494750  0.440994  0.640777   \n",
       "1405       0.725  0.627852  0.340659  0.595041  0.288604  0.478261  1.000000   \n",
       "1406       0.000  0.392812  0.065934  0.380165  0.164917  0.627329  0.223301   \n",
       "1407       0.725  0.804133  0.655678  0.611570  0.412292  0.527950  0.854369   \n",
       "\n",
       "            cs     walks  b_strikeouts  ...  walks_allowed  p_strikeouts  \\\n",
       "1378  0.108108  0.603253      0.442007  ...       0.556054      0.446712   \n",
       "1379  0.486486  0.901758      0.685795  ...       0.699552      0.369615   \n",
       "1380  0.540541  0.308526      0.612886  ...       0.757848      0.040816   \n",
       "1381  0.540541  0.792180      0.492132  ...       0.955157      0.913832   \n",
       "1382  0.378378  0.758173      0.669846  ...       0.636771      0.485261   \n",
       "1383  0.491187  0.000000      0.894543  ...       0.868228      0.204420   \n",
       "1384  0.756757  0.421883      0.615165  ...       0.645740      0.730159   \n",
       "1385  0.675676  0.690159      0.378212  ...       0.260090      0.630385   \n",
       "1386  0.567568  0.410547      0.767817  ...       0.883408      0.077098   \n",
       "1387  0.273628  0.049426      1.000000  ...       0.660669      0.332193   \n",
       "1388  0.459459  1.000000      0.000000  ...       0.251121      1.000000   \n",
       "1389  0.783784  0.285855      0.544535  ...       0.852018      0.000000   \n",
       "1390  0.270270  0.777066      0.250623  ...       0.825112      0.394558   \n",
       "1391  0.000000  0.856415      0.432894  ...       0.000000      0.655329   \n",
       "1392  0.540541  0.055364      0.690352  ...       1.000000      0.335601   \n",
       "1393  0.405405  0.939543      0.904520  ...       0.798206      0.605442   \n",
       "1394  0.297297  0.546575      0.382769  ...       0.269058      0.528345   \n",
       "1395  0.459459  0.512568      0.496689  ...       0.484305      0.657596   \n",
       "1396  0.324324  0.712831      0.617443  ...       0.515695      0.689342   \n",
       "1397  0.297297  0.746838      0.391883  ...       0.381166      0.156463   \n",
       "1398  0.216216  0.686381      0.653897  ...       0.690583      0.367347   \n",
       "1399  0.513514  0.168720      0.107084  ...       0.860987      0.482993   \n",
       "1400  0.729730  0.467225      0.945531  ...       0.318386      0.555556   \n",
       "1401  1.000000  0.784623      0.945531  ...       0.506726      0.020408   \n",
       "1402  0.486486  0.357647      0.612886  ...       0.569507      0.312925   \n",
       "1403  0.513514  0.682602      0.578711  ...       0.686099      0.383220   \n",
       "1404  0.729730  0.610810      0.745033  ...       0.273543      0.886621   \n",
       "1405  0.756757  0.580582      0.938696  ...       0.856502      0.337868   \n",
       "1406  0.270270  0.486118      0.792879  ...       0.950673      0.231293   \n",
       "1407  0.513514  0.769509      0.323531  ...       0.560538      0.637188   \n",
       "\n",
       "         saves       hbp  era_plus   so_walk  p_left_on_base  \\\n",
       "1378  0.720000  0.428571  0.522727  0.372881        0.641791   \n",
       "1379  0.680000  0.571429  0.636364  0.242938        0.920398   \n",
       "1380  0.000000  0.795918  0.000000  0.062147        0.611940   \n",
       "1381  0.240000  0.714286  0.454545  0.333333        0.975124   \n",
       "1382  0.440000  0.795918  0.545455  0.333333        0.915423   \n",
       "1383  0.248199  0.210546  0.250000  0.079096        0.660517   \n",
       "1384  0.760000  0.346939  0.659091  0.446328        0.343284   \n",
       "1385  0.600000  0.428571  0.977273  0.700565        0.373134   \n",
       "1386  0.040000  0.326531  0.227273  0.022599        0.776119   \n",
       "1387  0.167702  0.580175  0.181818  0.248588        0.850746   \n",
       "1388  0.800000  0.000000  1.000000  0.915254        0.024876   \n",
       "1389  0.400000  0.816327  0.204545  0.000000        0.995025   \n",
       "1390  0.200000  0.836735  0.181818  0.186441        0.646766   \n",
       "1391  0.680000  0.510204  0.909091  1.000000        0.000000   \n",
       "1392  0.000000  1.000000  0.181818  0.073446        0.711443   \n",
       "1393  0.920000  0.387755  0.431818  0.293785        0.716418   \n",
       "1394  0.920000  0.408163  0.590909  0.638418        0.691542   \n",
       "1395  0.440000  0.387755  0.318182  0.525424        0.741294   \n",
       "1396  0.920000  0.061224  0.500000  0.519774        0.507463   \n",
       "1397  0.720000  0.510204  0.568182  0.344633        0.572139   \n",
       "1398  0.360000  0.612245  0.363636  0.248588        0.776119   \n",
       "1399  0.160000  0.897959  0.022727  0.203390        0.980100   \n",
       "1400  0.800000  0.551020  0.181818  0.610169        0.557214   \n",
       "1401  0.280000  0.204082  0.113636  0.192090        0.467662   \n",
       "1402  0.560000  0.489796  0.318182  0.299435        0.562189   \n",
       "1403  1.000000  0.571429  0.636364  0.259887        0.552239   \n",
       "1404  0.760000  0.387755  0.886364  0.830508        0.218905   \n",
       "1405  0.240000  0.591837  0.431818  0.146893        0.990050   \n",
       "1406  0.240000  0.571429  0.272727  0.056497        1.000000   \n",
       "1407  0.520000  0.408163  0.522727  0.457627        0.641791   \n",
       "\n",
       "      defensive_efficiency    errors      Rtot  \n",
       "1378              0.509804  0.303030  0.947915  \n",
       "1379              0.372549  0.181818  0.648429  \n",
       "1380              0.431373  0.636364  0.667961  \n",
       "1381              0.137255  0.333333  0.492175  \n",
       "1382              0.294118  0.787879  0.720045  \n",
       "1383              0.235294  0.783738  0.517530  \n",
       "1384              0.647059  0.378788  0.733066  \n",
       "1385              0.568627  0.257576  0.921873  \n",
       "1386              0.215686  0.469697  0.733066  \n",
       "1387              0.000000  0.677019  0.000000  \n",
       "1388              1.000000  0.075758  1.000000  \n",
       "1389              0.235294  0.106061  0.524728  \n",
       "1390              0.568627  0.393939  0.635408  \n",
       "1391              0.862745  0.606061  0.947915  \n",
       "1392              0.725490  0.424242  0.609366  \n",
       "1393              0.490196  0.469697  0.654940  \n",
       "1394              0.137255  0.681818  0.518217  \n",
       "1395              0.254902  0.500000  0.361964  \n",
       "1396              0.392157  0.545455  0.687492  \n",
       "1397              0.862745  0.212121  0.902341  \n",
       "1398              0.411765  0.469697  0.726556  \n",
       "1399              0.000000  0.833333  0.166646  \n",
       "1400              0.274510  0.757576  0.329411  \n",
       "1401              0.431373  1.000000  0.615876  \n",
       "1402              0.647059  0.363636  0.694003  \n",
       "1403              0.784314  0.000000  0.876299  \n",
       "1404              0.568627  0.318182  0.772130  \n",
       "1405              0.098039  0.590909  0.407538  \n",
       "1406              0.372549  0.454545  0.570302  \n",
       "1407              0.450980  0.318182  0.720045  \n",
       "\n",
       "[30 rows x 27 columns]"
      ]
     },
     "execution_count": 21,
     "metadata": {},
     "output_type": "execute_result"
    }
   ],
   "source": [
    "X_2019"
   ]
  },
  {
   "cell_type": "markdown",
   "metadata": {},
   "source": [
    "<hr style=\"border:2px solid gray\"> </hr>\n",
    "\n",
    "## Base Modelling\n",
    "\n",
    "&nbsp;&nbsp;&nbsp;&nbsp;&nbsp;&nbsp;This is very basic modelling of five different machine learning models. There is no k-fold cross validation here. This section is intended to look at overview of different models and compare the original data and umsampled data (upsampled training data to be exact). Cross validation will come when I perform grid search in Hyperparameter Optimization Section.\n",
    "\n",
    "&nbsp;&nbsp;&nbsp;&nbsp;&nbsp;&nbsp;I will model ten different base models using five different machine learning models with original data and upsampled data and store results for analysis of these models. In order to avoid any confusion, here is the naming convention I used:\n",
    "\n",
    "Name of machine learning model [LR / KNN / RF / SVM / XGB] followed by _ and [o or up] for `original` or `upsampled` data"
   ]
  },
  {
   "cell_type": "markdown",
   "metadata": {},
   "source": [
    "Random state always set at 777 for reproducibility"
   ]
  },
  {
   "cell_type": "code",
   "execution_count": 22,
   "metadata": {},
   "outputs": [],
   "source": [
    "result_df = pd.DataFrame(columns = ['train_o', 'test_o', 'train_up', 'test_up',\n",
    "                                   'precision_o', 'recall_o', 'precision_up', 'recall_up'],\n",
    "                        index = ['LR', 'KNN', 'RF', 'SVM', 'XGB'])"
   ]
  },
  {
   "cell_type": "code",
   "execution_count": 23,
   "metadata": {
    "scrolled": true
   },
   "outputs": [
    {
     "data": {
      "text/html": [
       "<div>\n",
       "<style scoped>\n",
       "    .dataframe tbody tr th:only-of-type {\n",
       "        vertical-align: middle;\n",
       "    }\n",
       "\n",
       "    .dataframe tbody tr th {\n",
       "        vertical-align: top;\n",
       "    }\n",
       "\n",
       "    .dataframe thead th {\n",
       "        text-align: right;\n",
       "    }\n",
       "</style>\n",
       "<table border=\"1\" class=\"dataframe\">\n",
       "  <thead>\n",
       "    <tr style=\"text-align: right;\">\n",
       "      <th></th>\n",
       "      <th>train_o</th>\n",
       "      <th>test_o</th>\n",
       "      <th>train_up</th>\n",
       "      <th>test_up</th>\n",
       "      <th>precision_o</th>\n",
       "      <th>recall_o</th>\n",
       "      <th>precision_up</th>\n",
       "      <th>recall_up</th>\n",
       "    </tr>\n",
       "  </thead>\n",
       "  <tbody>\n",
       "    <tr>\n",
       "      <th>LR</th>\n",
       "      <td>NaN</td>\n",
       "      <td>NaN</td>\n",
       "      <td>NaN</td>\n",
       "      <td>NaN</td>\n",
       "      <td>NaN</td>\n",
       "      <td>NaN</td>\n",
       "      <td>NaN</td>\n",
       "      <td>NaN</td>\n",
       "    </tr>\n",
       "    <tr>\n",
       "      <th>KNN</th>\n",
       "      <td>NaN</td>\n",
       "      <td>NaN</td>\n",
       "      <td>NaN</td>\n",
       "      <td>NaN</td>\n",
       "      <td>NaN</td>\n",
       "      <td>NaN</td>\n",
       "      <td>NaN</td>\n",
       "      <td>NaN</td>\n",
       "    </tr>\n",
       "    <tr>\n",
       "      <th>RF</th>\n",
       "      <td>NaN</td>\n",
       "      <td>NaN</td>\n",
       "      <td>NaN</td>\n",
       "      <td>NaN</td>\n",
       "      <td>NaN</td>\n",
       "      <td>NaN</td>\n",
       "      <td>NaN</td>\n",
       "      <td>NaN</td>\n",
       "    </tr>\n",
       "    <tr>\n",
       "      <th>SVM</th>\n",
       "      <td>NaN</td>\n",
       "      <td>NaN</td>\n",
       "      <td>NaN</td>\n",
       "      <td>NaN</td>\n",
       "      <td>NaN</td>\n",
       "      <td>NaN</td>\n",
       "      <td>NaN</td>\n",
       "      <td>NaN</td>\n",
       "    </tr>\n",
       "    <tr>\n",
       "      <th>XGB</th>\n",
       "      <td>NaN</td>\n",
       "      <td>NaN</td>\n",
       "      <td>NaN</td>\n",
       "      <td>NaN</td>\n",
       "      <td>NaN</td>\n",
       "      <td>NaN</td>\n",
       "      <td>NaN</td>\n",
       "      <td>NaN</td>\n",
       "    </tr>\n",
       "  </tbody>\n",
       "</table>\n",
       "</div>"
      ],
      "text/plain": [
       "    train_o test_o train_up test_up precision_o recall_o precision_up  \\\n",
       "LR      NaN    NaN      NaN     NaN         NaN      NaN          NaN   \n",
       "KNN     NaN    NaN      NaN     NaN         NaN      NaN          NaN   \n",
       "RF      NaN    NaN      NaN     NaN         NaN      NaN          NaN   \n",
       "SVM     NaN    NaN      NaN     NaN         NaN      NaN          NaN   \n",
       "XGB     NaN    NaN      NaN     NaN         NaN      NaN          NaN   \n",
       "\n",
       "    recall_up  \n",
       "LR        NaN  \n",
       "KNN       NaN  \n",
       "RF        NaN  \n",
       "SVM       NaN  \n",
       "XGB       NaN  "
      ]
     },
     "execution_count": 23,
     "metadata": {},
     "output_type": "execute_result"
    }
   ],
   "source": [
    "result_df"
   ]
  },
  {
   "cell_type": "code",
   "execution_count": 24,
   "metadata": {},
   "outputs": [],
   "source": [
    "# Storage for the results\n",
    "train_o = []\n",
    "test_o = []\n",
    "train_up = []\n",
    "test_up = []\n",
    "precision_o = []\n",
    "recall_o = []\n",
    "precision_up = []\n",
    "recall_up = []"
   ]
  },
  {
   "cell_type": "markdown",
   "metadata": {},
   "source": [
    "### <u>Logistic Regression</u>"
   ]
  },
  {
   "cell_type": "code",
   "execution_count": 25,
   "metadata": {},
   "outputs": [],
   "source": [
    "### With original data ###\n",
    "\n",
    "# 1. Instantiate. lbfgs is default but wanted to articulate \n",
    "LR_o = LogisticRegression(solver = 'lbfgs')\n",
    "\n",
    "# 2. Fit\n",
    "LR_o.fit(X_train, y_train)\n",
    "\n",
    "# 3. Evaluate\n",
    "LR_train_acc_o = LR_o.score(X_train, y_train)\n",
    "LR_test_acc_o = LR_o.score(X_test, y_test)"
   ]
  },
  {
   "cell_type": "code",
   "execution_count": 26,
   "metadata": {},
   "outputs": [],
   "source": [
    "# Will quickly look at coefficients and what they say about the model\n",
    "log_coef = LR_o.coef_"
   ]
  },
  {
   "cell_type": "code",
   "execution_count": 27,
   "metadata": {},
   "outputs": [],
   "source": [
    "# Creating coefficients df \n",
    "coefficients = pd.concat([pd.DataFrame(X_train.columns, columns = ['name_of_features']),\n",
    "                          pd.DataFrame(np.transpose(log_coef), columns = ['coef'])], axis = 1)"
   ]
  },
  {
   "cell_type": "code",
   "execution_count": 28,
   "metadata": {
    "scrolled": true
   },
   "outputs": [],
   "source": [
    "# Sort by descending order of coefficients\n",
    "coefficients = coefficients.sort_values('coef', ascending = False)"
   ]
  },
  {
   "cell_type": "code",
   "execution_count": 29,
   "metadata": {
    "scrolled": false
   },
   "outputs": [
    {
     "data": {
      "text/html": [
       "<div>\n",
       "<style scoped>\n",
       "    .dataframe tbody tr th:only-of-type {\n",
       "        vertical-align: middle;\n",
       "    }\n",
       "\n",
       "    .dataframe tbody tr th {\n",
       "        vertical-align: top;\n",
       "    }\n",
       "\n",
       "    .dataframe thead th {\n",
       "        text-align: right;\n",
       "    }\n",
       "</style>\n",
       "<table border=\"1\" class=\"dataframe\">\n",
       "  <thead>\n",
       "    <tr style=\"text-align: right;\">\n",
       "      <th></th>\n",
       "      <th>name_of_features</th>\n",
       "      <th>coef</th>\n",
       "    </tr>\n",
       "  </thead>\n",
       "  <tbody>\n",
       "    <tr>\n",
       "      <th>1</th>\n",
       "      <td>b_runs</td>\n",
       "      <td>3.680145</td>\n",
       "    </tr>\n",
       "    <tr>\n",
       "      <th>19</th>\n",
       "      <td>saves</td>\n",
       "      <td>2.717836</td>\n",
       "    </tr>\n",
       "    <tr>\n",
       "      <th>8</th>\n",
       "      <td>walks</td>\n",
       "      <td>1.859757</td>\n",
       "    </tr>\n",
       "    <tr>\n",
       "      <th>21</th>\n",
       "      <td>era_plus</td>\n",
       "      <td>1.434075</td>\n",
       "    </tr>\n",
       "    <tr>\n",
       "      <th>5</th>\n",
       "      <td>homeruns</td>\n",
       "      <td>1.246938</td>\n",
       "    </tr>\n",
       "    <tr>\n",
       "      <th>26</th>\n",
       "      <td>Rtot</td>\n",
       "      <td>0.914340</td>\n",
       "    </tr>\n",
       "    <tr>\n",
       "      <th>2</th>\n",
       "      <td>b_hits</td>\n",
       "      <td>0.679525</td>\n",
       "    </tr>\n",
       "    <tr>\n",
       "      <th>12</th>\n",
       "      <td>pitcher_age</td>\n",
       "      <td>0.625559</td>\n",
       "    </tr>\n",
       "    <tr>\n",
       "      <th>4</th>\n",
       "      <td>triples</td>\n",
       "      <td>0.581046</td>\n",
       "    </tr>\n",
       "    <tr>\n",
       "      <th>23</th>\n",
       "      <td>p_left_on_base</td>\n",
       "      <td>0.544148</td>\n",
       "    </tr>\n",
       "    <tr>\n",
       "      <th>18</th>\n",
       "      <td>p_strikeouts</td>\n",
       "      <td>0.534741</td>\n",
       "    </tr>\n",
       "    <tr>\n",
       "      <th>7</th>\n",
       "      <td>cs</td>\n",
       "      <td>0.488540</td>\n",
       "    </tr>\n",
       "    <tr>\n",
       "      <th>24</th>\n",
       "      <td>defensive_efficiency</td>\n",
       "      <td>0.428535</td>\n",
       "    </tr>\n",
       "    <tr>\n",
       "      <th>14</th>\n",
       "      <td>innings_pitched</td>\n",
       "      <td>0.379152</td>\n",
       "    </tr>\n",
       "    <tr>\n",
       "      <th>22</th>\n",
       "      <td>so_walk</td>\n",
       "      <td>0.291118</td>\n",
       "    </tr>\n",
       "    <tr>\n",
       "      <th>11</th>\n",
       "      <td>b_left_on_base</td>\n",
       "      <td>0.096236</td>\n",
       "    </tr>\n",
       "    <tr>\n",
       "      <th>3</th>\n",
       "      <td>doubles</td>\n",
       "      <td>0.082817</td>\n",
       "    </tr>\n",
       "    <tr>\n",
       "      <th>0</th>\n",
       "      <td>batter_age</td>\n",
       "      <td>0.013108</td>\n",
       "    </tr>\n",
       "    <tr>\n",
       "      <th>6</th>\n",
       "      <td>sb</td>\n",
       "      <td>0.011196</td>\n",
       "    </tr>\n",
       "    <tr>\n",
       "      <th>10</th>\n",
       "      <td>ground_double_play</td>\n",
       "      <td>-0.030605</td>\n",
       "    </tr>\n",
       "    <tr>\n",
       "      <th>25</th>\n",
       "      <td>errors</td>\n",
       "      <td>-0.456437</td>\n",
       "    </tr>\n",
       "    <tr>\n",
       "      <th>20</th>\n",
       "      <td>hbp</td>\n",
       "      <td>-0.801604</td>\n",
       "    </tr>\n",
       "    <tr>\n",
       "      <th>9</th>\n",
       "      <td>b_strikeouts</td>\n",
       "      <td>-0.890322</td>\n",
       "    </tr>\n",
       "    <tr>\n",
       "      <th>17</th>\n",
       "      <td>walks_allowed</td>\n",
       "      <td>-1.047003</td>\n",
       "    </tr>\n",
       "    <tr>\n",
       "      <th>15</th>\n",
       "      <td>p_hits</td>\n",
       "      <td>-1.542529</td>\n",
       "    </tr>\n",
       "    <tr>\n",
       "      <th>16</th>\n",
       "      <td>homeruns_allowed</td>\n",
       "      <td>-1.846323</td>\n",
       "    </tr>\n",
       "    <tr>\n",
       "      <th>13</th>\n",
       "      <td>era</td>\n",
       "      <td>-1.944871</td>\n",
       "    </tr>\n",
       "  </tbody>\n",
       "</table>\n",
       "</div>"
      ],
      "text/plain": [
       "        name_of_features      coef\n",
       "1                 b_runs  3.680145\n",
       "19                 saves  2.717836\n",
       "8                  walks  1.859757\n",
       "21              era_plus  1.434075\n",
       "5               homeruns  1.246938\n",
       "26                  Rtot  0.914340\n",
       "2                 b_hits  0.679525\n",
       "12           pitcher_age  0.625559\n",
       "4                triples  0.581046\n",
       "23        p_left_on_base  0.544148\n",
       "18          p_strikeouts  0.534741\n",
       "7                     cs  0.488540\n",
       "24  defensive_efficiency  0.428535\n",
       "14       innings_pitched  0.379152\n",
       "22               so_walk  0.291118\n",
       "11        b_left_on_base  0.096236\n",
       "3                doubles  0.082817\n",
       "0             batter_age  0.013108\n",
       "6                     sb  0.011196\n",
       "10    ground_double_play -0.030605\n",
       "25                errors -0.456437\n",
       "20                   hbp -0.801604\n",
       "9           b_strikeouts -0.890322\n",
       "17         walks_allowed -1.047003\n",
       "15                p_hits -1.542529\n",
       "16      homeruns_allowed -1.846323\n",
       "13                   era -1.944871"
      ]
     },
     "execution_count": 29,
     "metadata": {},
     "output_type": "execute_result"
    }
   ],
   "source": [
    "coefficients"
   ]
  },
  {
   "cell_type": "code",
   "execution_count": 30,
   "metadata": {},
   "outputs": [],
   "source": [
    "# Since there are too many coefficients for graphs, I decided to take only top 5 and bottom 5\n",
    "coefficients_top3 = coefficients.iloc[:3]\n",
    "coefficients_bottom2 = coefficients.iloc[-2:]\n",
    "coefficients_five = pd.concat([coefficients_top3, coefficients_bottom2])"
   ]
  },
  {
   "cell_type": "code",
   "execution_count": 31,
   "metadata": {},
   "outputs": [
    {
     "data": {
      "text/html": [
       "<div>\n",
       "<style scoped>\n",
       "    .dataframe tbody tr th:only-of-type {\n",
       "        vertical-align: middle;\n",
       "    }\n",
       "\n",
       "    .dataframe tbody tr th {\n",
       "        vertical-align: top;\n",
       "    }\n",
       "\n",
       "    .dataframe thead th {\n",
       "        text-align: right;\n",
       "    }\n",
       "</style>\n",
       "<table border=\"1\" class=\"dataframe\">\n",
       "  <thead>\n",
       "    <tr style=\"text-align: right;\">\n",
       "      <th></th>\n",
       "      <th>name_of_features</th>\n",
       "      <th>coef</th>\n",
       "    </tr>\n",
       "  </thead>\n",
       "  <tbody>\n",
       "    <tr>\n",
       "      <th>1</th>\n",
       "      <td>b_runs</td>\n",
       "      <td>3.680145</td>\n",
       "    </tr>\n",
       "    <tr>\n",
       "      <th>19</th>\n",
       "      <td>saves</td>\n",
       "      <td>2.717836</td>\n",
       "    </tr>\n",
       "    <tr>\n",
       "      <th>8</th>\n",
       "      <td>walks</td>\n",
       "      <td>1.859757</td>\n",
       "    </tr>\n",
       "    <tr>\n",
       "      <th>16</th>\n",
       "      <td>homeruns_allowed</td>\n",
       "      <td>-1.846323</td>\n",
       "    </tr>\n",
       "    <tr>\n",
       "      <th>13</th>\n",
       "      <td>era</td>\n",
       "      <td>-1.944871</td>\n",
       "    </tr>\n",
       "  </tbody>\n",
       "</table>\n",
       "</div>"
      ],
      "text/plain": [
       "    name_of_features      coef\n",
       "1             b_runs  3.680145\n",
       "19             saves  2.717836\n",
       "8              walks  1.859757\n",
       "16  homeruns_allowed -1.846323\n",
       "13               era -1.944871"
      ]
     },
     "execution_count": 31,
     "metadata": {},
     "output_type": "execute_result"
    }
   ],
   "source": [
    "coefficients_five"
   ]
  },
  {
   "cell_type": "code",
   "execution_count": 32,
   "metadata": {
    "scrolled": true
   },
   "outputs": [
    {
     "data": {
      "image/png": "[encoded data removed]",
      "text/plain": [
       "<Figure size 432x288 with 1 Axes>"
      ]
     },
     "metadata": {
      "needs_background": "light"
     },
     "output_type": "display_data"
    }
   ],
   "source": [
    "plt.bar(coefficients_five['name_of_features'], coefficients_five['coef'])\n",
    "plt.xticks(rotation = 45, fontsize = 12)\n",
    "plt.title('Top Five LR Coefficients')\n",
    "plt.ylabel('Coefficients')\n",
    "plt.show()"
   ]
  },
  {
   "cell_type": "markdown",
   "metadata": {},
   "source": [
    "&nbsp;&nbsp;&nbsp;&nbsp;&nbsp;&nbsp;Top five features that affect most in outcome are `b_runs`, `saves`, `era`, `walks`, `homeruns_allowed`. Just like earlier in percentage difference in playoff teams and non-playoff teams, magnitude is important. These features with negative coefficients are stats that are good when lower. This list of top five features tell me nothing revolutionary. Again, it shows importance of getting on base free (`walks`), score more (`b_runs`) and allow opponents to score fewer runs by having lower `homeruns_allowed` and `era`. Once you have the lead, maintain the lead and close out (`saves`). Essentially it is telling us the winning recipe and how to make teams playoff-bound. "
   ]
  },
  {
   "cell_type": "code",
   "execution_count": 33,
   "metadata": {
    "scrolled": true
   },
   "outputs": [
    {
     "name": "stdout",
     "output_type": "stream",
     "text": [
      "Training accuracy of logistic regression using original data is 89.63%\n",
      "Test accuracy of logistic regression using original data is 83.7%\n"
     ]
    }
   ],
   "source": [
    "print(f'Training accuracy of logistic regression using original data is {round(LR_train_acc_o * 100,2)}%')\n",
    "\n",
    "print(f'Test accuracy of logistic regression using original data is {round(LR_test_acc_o * 100,2)}%')"
   ]
  },
  {
   "cell_type": "code",
   "execution_count": 34,
   "metadata": {
    "scrolled": true
   },
   "outputs": [
    {
     "name": "stdout",
     "output_type": "stream",
     "text": [
      "              precision    recall  f1-score   support\n",
      "\n",
      "           0       0.87      0.92      0.90       208\n",
      "           1       0.68      0.55      0.61        62\n",
      "\n",
      "    accuracy                           0.84       270\n",
      "   macro avg       0.78      0.74      0.75       270\n",
      "weighted avg       0.83      0.84      0.83       270\n",
      "\n",
      "ROC AUC Score: 0.74\n"
     ]
    }
   ],
   "source": [
    "# Classification report and ROC AUC Score for test set\n",
    "print(classification_report(y_test, LR_o.predict(X_test)))\n",
    "print(f'ROC AUC Score: {round(roc_auc_score(y_test, LR_o.predict(X_test)),2)}')"
   ]
  },
  {
   "cell_type": "code",
   "execution_count": 35,
   "metadata": {
    "scrolled": false
   },
   "outputs": [],
   "source": [
    "# Store log reg accuracies with original data\n",
    "train_o.append(LR_train_acc_o)\n",
    "test_o.append(LR_test_acc_o)"
   ]
  },
  {
   "cell_type": "code",
   "execution_count": 36,
   "metadata": {},
   "outputs": [],
   "source": [
    "# Store log reg precision and recall of original data\n",
    "precision_o.append(classification_report(y_test, LR_o.predict(X_test), output_dict = True)['1']['precision'])\n",
    "recall_o.append(classification_report(y_test, LR_o.predict(X_test), output_dict = True)['1']['recall'])"
   ]
  },
  {
   "cell_type": "code",
   "execution_count": 37,
   "metadata": {},
   "outputs": [],
   "source": [
    "### With Upsampled data ###\n",
    "\n",
    "# 1. Instantiate. lbfgs is default but wanted to articulate \n",
    "LR_up = LogisticRegression(solver = 'lbfgs')\n",
    "\n",
    "# 2. Fit\n",
    "LR_up.fit(X_train_up, y_train_up)\n",
    "\n",
    "# 3. Evaluate\n",
    "LR_train_acc_up = LR_up.score(X_train_up, y_train_up)\n",
    "LR_test_acc_up = LR_up.score(X_test, y_test)"
   ]
  },
  {
   "cell_type": "code",
   "execution_count": 38,
   "metadata": {},
   "outputs": [
    {
     "name": "stdout",
     "output_type": "stream",
     "text": [
      "Training accuracy of logistic regression using upsampled data is 89.18%\n",
      "Test accuracy of logistic regression using upsampled data  is 81.85%\n"
     ]
    }
   ],
   "source": [
    "print(f'Training accuracy of logistic regression using upsampled data is {round(LR_train_acc_up * 100,2)}%')\n",
    "\n",
    "print(f'Test accuracy of logistic regression using upsampled data  is {round(LR_test_acc_up * 100,2)}%')"
   ]
  },
  {
   "cell_type": "code",
   "execution_count": 39,
   "metadata": {
    "scrolled": false
   },
   "outputs": [
    {
     "name": "stdout",
     "output_type": "stream",
     "text": [
      "              precision    recall  f1-score   support\n",
      "\n",
      "           0       0.94      0.82      0.87       208\n",
      "           1       0.57      0.82      0.68        62\n",
      "\n",
      "    accuracy                           0.82       270\n",
      "   macro avg       0.76      0.82      0.77       270\n",
      "weighted avg       0.86      0.82      0.83       270\n",
      "\n",
      "ROC AUC Score: 0.82\n"
     ]
    }
   ],
   "source": [
    "# Classification report and ROC AUC Score for test set\n",
    "print(classification_report(y_test, LR_up.predict(X_test)))\n",
    "print(f'ROC AUC Score: {round(roc_auc_score(y_test, LR_up.predict(X_test)),2)}')"
   ]
  },
  {
   "cell_type": "code",
   "execution_count": 40,
   "metadata": {
    "scrolled": false
   },
   "outputs": [],
   "source": [
    "# Store log reg accuracies with upsampled data\n",
    "train_up.append(LR_train_acc_up)\n",
    "test_up.append(LR_test_acc_up)"
   ]
  },
  {
   "cell_type": "code",
   "execution_count": 41,
   "metadata": {},
   "outputs": [],
   "source": [
    "# Store log reg precision and recall of upsampled data\n",
    "precision_up.append(classification_report(y_test, LR_up.predict(X_test), output_dict = True)['1']['precision'])\n",
    "recall_up.append(classification_report(y_test, LR_up.predict(X_test), output_dict = True)['1']['recall'])"
   ]
  },
  {
   "cell_type": "markdown",
   "metadata": {},
   "source": [
    "### <u>KNN</u>"
   ]
  },
  {
   "cell_type": "code",
   "execution_count": 42,
   "metadata": {},
   "outputs": [],
   "source": [
    "### With original data ###\n",
    "\n",
    "# 1. Instantiate\n",
    "KNN_o = KNeighborsClassifier()\n",
    "\n",
    "# 2. Fit\n",
    "KNN_o.fit(X_train, y_train)\n",
    "\n",
    "# 3. Evaluate\n",
    "KNN_train_acc_o = KNN_o.score(X_train, y_train)\n",
    "KNN_test_acc_o = KNN_o.score(X_test, y_test)"
   ]
  },
  {
   "cell_type": "code",
   "execution_count": 43,
   "metadata": {
    "scrolled": false
   },
   "outputs": [
    {
     "name": "stdout",
     "output_type": "stream",
     "text": [
      "Training accuracy of KNN using original data is 90.46%\n",
      "Test accuracy KNN using original data is 78.52%\n"
     ]
    }
   ],
   "source": [
    "print(f'Training accuracy of KNN using original data is {round(KNN_train_acc_o * 100,2)}%')\n",
    "\n",
    "print(f'Test accuracy KNN using original data is {round(KNN_test_acc_o * 100,2)}%')"
   ]
  },
  {
   "cell_type": "code",
   "execution_count": 44,
   "metadata": {
    "scrolled": false
   },
   "outputs": [
    {
     "name": "stdout",
     "output_type": "stream",
     "text": [
      "              precision    recall  f1-score   support\n",
      "\n",
      "           0       0.84      0.89      0.87       208\n",
      "           1       0.54      0.42      0.47        62\n",
      "\n",
      "    accuracy                           0.79       270\n",
      "   macro avg       0.69      0.66      0.67       270\n",
      "weighted avg       0.77      0.79      0.78       270\n",
      "\n",
      "ROC AUC Score: 0.66\n"
     ]
    }
   ],
   "source": [
    "# Classification report and ROC AUC Score\n",
    "print(classification_report(y_test, KNN_o.predict(X_test)))\n",
    "print(f'ROC AUC Score: {round(roc_auc_score(y_test, KNN_o.predict(X_test)),2)}')\n",
    "\n",
    "# note precision and recall curve"
   ]
  },
  {
   "cell_type": "code",
   "execution_count": 45,
   "metadata": {},
   "outputs": [],
   "source": [
    "# Store KNN accuracies with upsampled data\n",
    "train_o.append(KNN_train_acc_o)\n",
    "test_o.append(KNN_test_acc_o)"
   ]
  },
  {
   "cell_type": "code",
   "execution_count": 46,
   "metadata": {},
   "outputs": [],
   "source": [
    "# Store KNN precision and recall of upsampled data\n",
    "precision_o.append(classification_report(y_test, KNN_o.predict(X_test), output_dict = True)['1']['precision'])\n",
    "recall_o.append(classification_report(y_test, KNN_o.predict(X_test), output_dict = True)['1']['recall'])"
   ]
  },
  {
   "cell_type": "code",
   "execution_count": 47,
   "metadata": {},
   "outputs": [],
   "source": [
    "### With upsampled data ###\n",
    "\n",
    "# 1. Instantiate\n",
    "KNN_up = KNeighborsClassifier()\n",
    "\n",
    "# 2. Fit\n",
    "KNN_up.fit(X_train_up, y_train_up)\n",
    "\n",
    "# 3. Evaluate\n",
    "KNN_train_acc_up = KNN_up.score(X_train_up, y_train_up)\n",
    "KNN_test_acc_up = KNN_up.score(X_test, y_test)"
   ]
  },
  {
   "cell_type": "code",
   "execution_count": 48,
   "metadata": {
    "scrolled": true
   },
   "outputs": [
    {
     "name": "stdout",
     "output_type": "stream",
     "text": [
      "Training accuracy of KNN using upsampled data is 90.62%\n",
      "Test accuracy KNN using upsampled data is 72.96%\n"
     ]
    }
   ],
   "source": [
    "print(f'Training accuracy of KNN using upsampled data is {round(KNN_train_acc_up * 100,2)}%')\n",
    "\n",
    "print(f'Test accuracy KNN using upsampled data is {round(KNN_test_acc_up * 100,2)}%')"
   ]
  },
  {
   "cell_type": "code",
   "execution_count": 49,
   "metadata": {
    "scrolled": true
   },
   "outputs": [
    {
     "name": "stdout",
     "output_type": "stream",
     "text": [
      "              precision    recall  f1-score   support\n",
      "\n",
      "           0       0.92      0.71      0.80       208\n",
      "           1       0.45      0.81      0.58        62\n",
      "\n",
      "    accuracy                           0.73       270\n",
      "   macro avg       0.69      0.76      0.69       270\n",
      "weighted avg       0.82      0.73      0.75       270\n",
      "\n",
      "ROC AUC Score: 0.76\n"
     ]
    }
   ],
   "source": [
    "# Classification report and ROC AUC Score\n",
    "print(classification_report(y_test, KNN_up.predict(X_test)))\n",
    "print(f'ROC AUC Score: {round(roc_auc_score(y_test, KNN_up.predict(X_test)),2)}')\n",
    "\n",
    "# note precision and recall curve"
   ]
  },
  {
   "cell_type": "code",
   "execution_count": 50,
   "metadata": {},
   "outputs": [],
   "source": [
    "# Store KNN accuracies with upsampled data\n",
    "train_up.append(KNN_train_acc_up)\n",
    "test_up.append(KNN_test_acc_up)"
   ]
  },
  {
   "cell_type": "code",
   "execution_count": 51,
   "metadata": {},
   "outputs": [],
   "source": [
    "# Store log reg precision and recall of upsampled data\n",
    "precision_up.append(classification_report(y_test, KNN_up.predict(X_test), output_dict = True)['1']['precision'])\n",
    "recall_up.append(classification_report(y_test, KNN_up.predict(X_test), output_dict = True)['1']['recall'])"
   ]
  },
  {
   "cell_type": "markdown",
   "metadata": {},
   "source": [
    "### <u>Random Forest</u>"
   ]
  },
  {
   "cell_type": "code",
   "execution_count": 52,
   "metadata": {
    "scrolled": true
   },
   "outputs": [
    {
     "name": "stdout",
     "output_type": "stream",
     "text": [
      "Training accuracy is 90.74%\n",
      "Validation accuracy is 81.48%\n",
      "              precision    recall  f1-score   support\n",
      "\n",
      "           0       0.84      0.94      0.89       208\n",
      "           1       0.67      0.39      0.49        62\n",
      "\n",
      "    accuracy                           0.81       270\n",
      "   macro avg       0.75      0.66      0.69       270\n",
      "weighted avg       0.80      0.81      0.80       270\n",
      "\n",
      "ROC AUC Score: 0.66\n"
     ]
    }
   ],
   "source": [
    "### With original data ###\n",
    "\n",
    "# 1. Instantiate\n",
    "RF_o = RandomForestClassifier(max_depth = 4)\n",
    "\n",
    "# 2. Fit\n",
    "RF_o.fit(X_train, y_train)\n",
    "\n",
    "# 3. Evaluate\n",
    "RF_train_acc_o = RF_o.score(X_train, y_train)\n",
    "RF_test_acc_o = RF_o.score(X_test, y_test)\n",
    "\n",
    "print(f'Training accuracy is {round(RF_train_acc_o * 100,2)}%')\n",
    "\n",
    "print(f'Validation accuracy is {round(RF_test_acc_o * 100,2)}%')\n",
    "\n",
    "print(classification_report(y_test, RF_o.predict(X_test)))\n",
    "print(f'ROC AUC Score: {round(roc_auc_score(y_test, RF_o.predict(X_test)),2)}')"
   ]
  },
  {
   "cell_type": "code",
   "execution_count": 53,
   "metadata": {},
   "outputs": [],
   "source": [
    "# Store RF accuracies with upsampled data\n",
    "train_o.append(RF_train_acc_o)\n",
    "test_o.append(RF_test_acc_o)"
   ]
  },
  {
   "cell_type": "code",
   "execution_count": 54,
   "metadata": {},
   "outputs": [],
   "source": [
    "# Store RF precision and recall of upsampled data\n",
    "precision_o.append(classification_report(y_test, RF_o.predict(X_test), output_dict = True)['1']['precision'])\n",
    "recall_o.append(classification_report(y_test, RF_o.predict(X_test), output_dict = True)['1']['recall'])"
   ]
  },
  {
   "cell_type": "code",
   "execution_count": 55,
   "metadata": {
    "scrolled": true
   },
   "outputs": [
    {
     "name": "stdout",
     "output_type": "stream",
     "text": [
      "Training accuracy is 91.71%\n",
      "Validation accuracy is 80.37%\n",
      "              precision    recall  f1-score   support\n",
      "\n",
      "           0       0.92      0.81      0.86       208\n",
      "           1       0.55      0.77      0.64        62\n",
      "\n",
      "    accuracy                           0.80       270\n",
      "   macro avg       0.74      0.79      0.75       270\n",
      "weighted avg       0.84      0.80      0.81       270\n",
      "\n",
      "ROC AUC Score: 0.79\n"
     ]
    }
   ],
   "source": [
    "### With upsampled data ###\n",
    "\n",
    "# 1. Instantiate\n",
    "RF_up = RandomForestClassifier(max_depth = 4)\n",
    "\n",
    "# 2. Fit\n",
    "RF_up.fit(X_train_up, y_train_up)\n",
    "\n",
    "# 3. Evaluate\n",
    "RF_train_acc_up = RF_up.score(X_train_up, y_train_up)\n",
    "RF_test_acc_up = RF_up.score(X_test, y_test)\n",
    "\n",
    "print(f'Training accuracy is {round(RF_train_acc_up * 100,2)}%')\n",
    "\n",
    "print(f'Validation accuracy is {round(RF_test_acc_up * 100,2)}%')\n",
    "\n",
    "print(classification_report(y_test, RF_up.predict(X_test)))\n",
    "print(f'ROC AUC Score: {round(roc_auc_score(y_test, RF_up.predict(X_test)),2)}')"
   ]
  },
  {
   "cell_type": "code",
   "execution_count": 56,
   "metadata": {},
   "outputs": [],
   "source": [
    "# Store RF accuracies with upsampled data\n",
    "train_up.append(RF_train_acc_up)\n",
    "test_up.append(RF_test_acc_up)"
   ]
  },
  {
   "cell_type": "code",
   "execution_count": 57,
   "metadata": {},
   "outputs": [],
   "source": [
    "# Store RF precision and recall of upsampled data\n",
    "precision_up.append(classification_report(y_test, RF_up.predict(X_test), output_dict = True)['1']['precision'])\n",
    "recall_up.append(classification_report(y_test, RF_up.predict(X_test), output_dict = True)['1']['recall'])"
   ]
  },
  {
   "cell_type": "markdown",
   "metadata": {},
   "source": [
    "### <u>Support Vector Machine</u>"
   ]
  },
  {
   "cell_type": "code",
   "execution_count": 58,
   "metadata": {},
   "outputs": [],
   "source": [
    "### With original data ###\n",
    "\n",
    "# 1. Instantiate\n",
    "# the default kernel is a Radial Basis Function transformation\n",
    "SVM_o = SVC(kernel='rbf')\n",
    "\n",
    "# 2. Fit\n",
    "SVM_o.fit(X_train, y_train)\n",
    "\n",
    "# 3. Evaluate\n",
    "SVM_train_acc_o = SVM_o.score(X_train, y_train)\n",
    "SVM_test_acc_o = SVM_o.score(X_test, y_test)"
   ]
  },
  {
   "cell_type": "code",
   "execution_count": 59,
   "metadata": {
    "scrolled": false
   },
   "outputs": [
    {
     "name": "stdout",
     "output_type": "stream",
     "text": [
      "Training accuracy of SVM RBF kernel is 93.98%\n",
      "Validation accuracy of SVM RBF kernal is 82.59%\n",
      "              precision    recall  f1-score   support\n",
      "\n",
      "           0       0.87      0.91      0.89       208\n",
      "           1       0.64      0.55      0.59        62\n",
      "\n",
      "    accuracy                           0.83       270\n",
      "   macro avg       0.76      0.73      0.74       270\n",
      "weighted avg       0.82      0.83      0.82       270\n",
      "\n",
      "ROC AUC Score: 0.73\n"
     ]
    }
   ],
   "source": [
    "print(f'Training accuracy of SVM RBF kernel is {round(SVM_train_acc_o * 100,2)}%')\n",
    "\n",
    "print(f'Validation accuracy of SVM RBF kernal is {round(SVM_test_acc_o * 100,2)}%')\n",
    "\n",
    "print(classification_report(y_test, SVM_o.predict(X_test)))\n",
    "print(f'ROC AUC Score: {round(roc_auc_score(y_test, SVM_o.predict(X_test)),2)}')"
   ]
  },
  {
   "cell_type": "code",
   "execution_count": 60,
   "metadata": {},
   "outputs": [],
   "source": [
    "# Store SVM accuracies with upsampled data\n",
    "train_o.append(SVM_train_acc_o)\n",
    "test_o.append(SVM_test_acc_o)"
   ]
  },
  {
   "cell_type": "code",
   "execution_count": 61,
   "metadata": {},
   "outputs": [],
   "source": [
    "# Store SVM precision and recall of upsampled data\n",
    "precision_o.append(classification_report(y_test, SVM_o.predict(X_test), output_dict = True)['1']['precision'])\n",
    "recall_o.append(classification_report(y_test, SVM_o.predict(X_test), output_dict = True)['1']['recall'])"
   ]
  },
  {
   "cell_type": "code",
   "execution_count": 62,
   "metadata": {},
   "outputs": [],
   "source": [
    "### With upsampled data ###\n",
    "\n",
    "# 1. Instantiate\n",
    "# the default kernel is a Radial Basis Function transformation\n",
    "SVM_up = SVC(kernel = 'rbf')\n",
    "\n",
    "# 2. Fit\n",
    "SVM_up.fit(X_train_up, y_train_up)\n",
    "\n",
    "# 3. Evaluate\n",
    "SVM_train_acc_up = SVM_up.score(X_train_up, y_train_up)\n",
    "SVM_test_acc_up = SVM_up.score(X_test, y_test)"
   ]
  },
  {
   "cell_type": "code",
   "execution_count": 63,
   "metadata": {
    "scrolled": true
   },
   "outputs": [
    {
     "name": "stdout",
     "output_type": "stream",
     "text": [
      "Training accuracy of SVM RBF kernel is 96.21%\n",
      "Validation accuracy of SVM RBF kernal is 83.7%\n",
      "              precision    recall  f1-score   support\n",
      "\n",
      "           0       0.92      0.87      0.89       208\n",
      "           1       0.62      0.74      0.68        62\n",
      "\n",
      "    accuracy                           0.84       270\n",
      "   macro avg       0.77      0.80      0.78       270\n",
      "weighted avg       0.85      0.84      0.84       270\n",
      "\n",
      "ROC AUC Score: 0.8\n"
     ]
    }
   ],
   "source": [
    "print(f'Training accuracy of SVM RBF kernel is {round(SVM_train_acc_up * 100,2)}%')\n",
    "\n",
    "print(f'Validation accuracy of SVM RBF kernal is {round(SVM_test_acc_up * 100,2)}%')\n",
    "\n",
    "print(classification_report(y_test, SVM_up.predict(X_test)))\n",
    "print(f'ROC AUC Score: {round(roc_auc_score(y_test, SVM_up.predict(X_test)),2)}')"
   ]
  },
  {
   "cell_type": "code",
   "execution_count": 64,
   "metadata": {},
   "outputs": [],
   "source": [
    "# Store SVM accuracies with upsampled data\n",
    "train_up.append(SVM_train_acc_up)\n",
    "test_up.append(SVM_test_acc_up)"
   ]
  },
  {
   "cell_type": "code",
   "execution_count": 65,
   "metadata": {},
   "outputs": [],
   "source": [
    "# Store SVM precision and recall of upsampled data\n",
    "precision_up.append(classification_report(y_test, SVM_up.predict(X_test), output_dict = True)['1']['precision'])\n",
    "recall_up.append(classification_report(y_test, SVM_up.predict(X_test), output_dict = True)['1']['recall'])"
   ]
  },
  {
   "cell_type": "markdown",
   "metadata": {},
   "source": [
    "### <u>Extreme Gradient Boost</u>"
   ]
  },
  {
   "cell_type": "code",
   "execution_count": 66,
   "metadata": {},
   "outputs": [],
   "source": [
    "### With original data ###\n",
    "\n",
    "# 1. Instantiate\n",
    "XGB_o = XGBClassifier(max_depth = 2)\n",
    "\n",
    "# 2. Fit\n",
    "XGB_o.fit(X_train, y_train)\n",
    "\n",
    "# 3. Evaluate\n",
    "XGB_train_acc_o = XGB_o.score(X_train, y_train)\n",
    "XGB_test_acc_o = XGB_o.score(X_test, y_test)"
   ]
  },
  {
   "cell_type": "code",
   "execution_count": 67,
   "metadata": {
    "scrolled": true
   },
   "outputs": [
    {
     "name": "stdout",
     "output_type": "stream",
     "text": [
      "Training accuracy is 98.7%\n",
      "Test accuracy is 81.85%\n"
     ]
    }
   ],
   "source": [
    "print(f'Training accuracy is {round(XGB_train_acc_o * 100,2)}%')\n",
    "\n",
    "print(f'Test accuracy is {round(XGB_test_acc_o * 100,2)}%')"
   ]
  },
  {
   "cell_type": "code",
   "execution_count": 68,
   "metadata": {
    "scrolled": false
   },
   "outputs": [
    {
     "name": "stdout",
     "output_type": "stream",
     "text": [
      "              precision    recall  f1-score   support\n",
      "\n",
      "           0       0.87      0.89      0.88       208\n",
      "           1       0.61      0.56      0.59        62\n",
      "\n",
      "    accuracy                           0.82       270\n",
      "   macro avg       0.74      0.73      0.74       270\n",
      "weighted avg       0.81      0.82      0.82       270\n",
      "\n",
      "ROC AUC Score: 0.73\n"
     ]
    }
   ],
   "source": [
    "print(classification_report(y_test, XGB_o.predict(X_test)))\n",
    "print(f'ROC AUC Score: {round(roc_auc_score(y_test, XGB_o.predict(X_test)),2)}')"
   ]
  },
  {
   "cell_type": "code",
   "execution_count": 69,
   "metadata": {},
   "outputs": [],
   "source": [
    "# Store XGB accuracies with original data\n",
    "train_o.append(XGB_train_acc_o)\n",
    "test_o.append(XGB_test_acc_o)"
   ]
  },
  {
   "cell_type": "code",
   "execution_count": 70,
   "metadata": {},
   "outputs": [],
   "source": [
    "# Store XGB precision and recall of upsampled data\n",
    "precision_o.append(classification_report(y_test, XGB_o.predict(X_test), output_dict = True)['1']['precision'])\n",
    "recall_o.append(classification_report(y_test, XGB_o.predict(X_test), output_dict = True)['1']['recall'])"
   ]
  },
  {
   "cell_type": "code",
   "execution_count": 71,
   "metadata": {},
   "outputs": [],
   "source": [
    "### With upsampled data ###\n",
    "\n",
    "# 1. Instantiate\n",
    "XGB_up = XGBClassifier(max_depth = 2)\n",
    "\n",
    "# 2. Fit\n",
    "XGB_up.fit(X_train_up, y_train_up)\n",
    "\n",
    "# 3. Evaluate\n",
    "XGB_train_acc_up = XGB_up.score(X_train_up, y_train_up)\n",
    "XGB_test_acc_up = XGB_up.score(X_test, y_test)"
   ]
  },
  {
   "cell_type": "code",
   "execution_count": 72,
   "metadata": {
    "scrolled": true
   },
   "outputs": [
    {
     "name": "stdout",
     "output_type": "stream",
     "text": [
      "Training accuracy is 98.02%\n",
      "Test accuracy is 82.22%\n"
     ]
    }
   ],
   "source": [
    "print(f'Training accuracy is {round(XGB_train_acc_up * 100,2)}%')\n",
    "\n",
    "print(f'Test accuracy is {round(XGB_test_acc_up * 100,2)}%')"
   ]
  },
  {
   "cell_type": "code",
   "execution_count": 73,
   "metadata": {
    "scrolled": false
   },
   "outputs": [
    {
     "name": "stdout",
     "output_type": "stream",
     "text": [
      "              precision    recall  f1-score   support\n",
      "\n",
      "           0       0.90      0.87      0.88       208\n",
      "           1       0.60      0.68      0.64        62\n",
      "\n",
      "    accuracy                           0.82       270\n",
      "   macro avg       0.75      0.77      0.76       270\n",
      "weighted avg       0.83      0.82      0.83       270\n",
      "\n",
      "ROC AUC Score: 0.77\n"
     ]
    }
   ],
   "source": [
    "print(classification_report(y_test, XGB_up.predict(X_test)))\n",
    "print(f'ROC AUC Score: {round(roc_auc_score(y_test, XGB_up.predict(X_test)),2)}')"
   ]
  },
  {
   "cell_type": "code",
   "execution_count": 74,
   "metadata": {},
   "outputs": [],
   "source": [
    "# Store XGB accuracies with upsampled data\n",
    "train_up.append(XGB_train_acc_up)\n",
    "test_up.append(XGB_test_acc_up)"
   ]
  },
  {
   "cell_type": "code",
   "execution_count": 75,
   "metadata": {},
   "outputs": [],
   "source": [
    "# Store XGB precision and recall of upsampled data\n",
    "precision_up.append(classification_report(y_test, XGB_up.predict(X_test), output_dict = True)['1']['precision'])\n",
    "recall_up.append(classification_report(y_test, XGB_up.predict(X_test), output_dict = True)['1']['recall'])"
   ]
  },
  {
   "cell_type": "code",
   "execution_count": 76,
   "metadata": {
    "scrolled": false
   },
   "outputs": [],
   "source": [
    "# Add the resulting list to respective result_df columns\n",
    "result_df['train_o'] = train_o\n",
    "result_df['test_o'] = test_o\n",
    "result_df['train_up'] = train_up\n",
    "result_df['test_up'] = test_up\n",
    "result_df['precision_o'] = precision_o\n",
    "result_df['recall_o'] = recall_o\n",
    "result_df['precision_up'] = precision_up\n",
    "result_df['recall_up'] = recall_up"
   ]
  },
  {
   "cell_type": "code",
   "execution_count": 77,
   "metadata": {
    "scrolled": false
   },
   "outputs": [
    {
     "data": {
      "text/html": [
       "<div>\n",
       "<style scoped>\n",
       "    .dataframe tbody tr th:only-of-type {\n",
       "        vertical-align: middle;\n",
       "    }\n",
       "\n",
       "    .dataframe tbody tr th {\n",
       "        vertical-align: top;\n",
       "    }\n",
       "\n",
       "    .dataframe thead th {\n",
       "        text-align: right;\n",
       "    }\n",
       "</style>\n",
       "<table border=\"1\" class=\"dataframe\">\n",
       "  <thead>\n",
       "    <tr style=\"text-align: right;\">\n",
       "      <th></th>\n",
       "      <th>train_o</th>\n",
       "      <th>test_o</th>\n",
       "      <th>train_up</th>\n",
       "      <th>test_up</th>\n",
       "      <th>precision_o</th>\n",
       "      <th>recall_o</th>\n",
       "      <th>precision_up</th>\n",
       "      <th>recall_up</th>\n",
       "    </tr>\n",
       "  </thead>\n",
       "  <tbody>\n",
       "    <tr>\n",
       "      <th>LR</th>\n",
       "      <td>0.896296</td>\n",
       "      <td>0.837037</td>\n",
       "      <td>0.891827</td>\n",
       "      <td>0.818519</td>\n",
       "      <td>0.680000</td>\n",
       "      <td>0.548387</td>\n",
       "      <td>0.573034</td>\n",
       "      <td>0.822581</td>\n",
       "    </tr>\n",
       "    <tr>\n",
       "      <th>KNN</th>\n",
       "      <td>0.904630</td>\n",
       "      <td>0.785185</td>\n",
       "      <td>0.906250</td>\n",
       "      <td>0.729630</td>\n",
       "      <td>0.541667</td>\n",
       "      <td>0.419355</td>\n",
       "      <td>0.450450</td>\n",
       "      <td>0.806452</td>\n",
       "    </tr>\n",
       "    <tr>\n",
       "      <th>RF</th>\n",
       "      <td>0.907407</td>\n",
       "      <td>0.814815</td>\n",
       "      <td>0.917067</td>\n",
       "      <td>0.803704</td>\n",
       "      <td>0.666667</td>\n",
       "      <td>0.387097</td>\n",
       "      <td>0.551724</td>\n",
       "      <td>0.774194</td>\n",
       "    </tr>\n",
       "    <tr>\n",
       "      <th>SVM</th>\n",
       "      <td>0.939815</td>\n",
       "      <td>0.825926</td>\n",
       "      <td>0.962139</td>\n",
       "      <td>0.837037</td>\n",
       "      <td>0.641509</td>\n",
       "      <td>0.548387</td>\n",
       "      <td>0.621622</td>\n",
       "      <td>0.741935</td>\n",
       "    </tr>\n",
       "    <tr>\n",
       "      <th>XGB</th>\n",
       "      <td>0.987037</td>\n",
       "      <td>0.818519</td>\n",
       "      <td>0.980168</td>\n",
       "      <td>0.822222</td>\n",
       "      <td>0.614035</td>\n",
       "      <td>0.564516</td>\n",
       "      <td>0.600000</td>\n",
       "      <td>0.677419</td>\n",
       "    </tr>\n",
       "  </tbody>\n",
       "</table>\n",
       "</div>"
      ],
      "text/plain": [
       "      train_o    test_o  train_up   test_up  precision_o  recall_o  \\\n",
       "LR   0.896296  0.837037  0.891827  0.818519     0.680000  0.548387   \n",
       "KNN  0.904630  0.785185  0.906250  0.729630     0.541667  0.419355   \n",
       "RF   0.907407  0.814815  0.917067  0.803704     0.666667  0.387097   \n",
       "SVM  0.939815  0.825926  0.962139  0.837037     0.641509  0.548387   \n",
       "XGB  0.987037  0.818519  0.980168  0.822222     0.614035  0.564516   \n",
       "\n",
       "     precision_up  recall_up  \n",
       "LR       0.573034   0.822581  \n",
       "KNN      0.450450   0.806452  \n",
       "RF       0.551724   0.774194  \n",
       "SVM      0.621622   0.741935  \n",
       "XGB      0.600000   0.677419  "
      ]
     },
     "execution_count": 77,
     "metadata": {},
     "output_type": "execute_result"
    }
   ],
   "source": [
    "result_df"
   ]
  },
  {
   "cell_type": "code",
   "execution_count": 78,
   "metadata": {},
   "outputs": [],
   "source": [
    "# Turn into csv to draw graph on Tableau for easy visibility\n",
    "result_df.to_csv(r'C:\\Users\\DK\\Desktop\\data science\\Capstone\\data\\result_df.csv', index = True)"
   ]
  },
  {
   "cell_type": "code",
   "execution_count": 79,
   "metadata": {
    "scrolled": false
   },
   "outputs": [
    {
     "data": {
      "image/png": "[encoded data removed]",
      "text/plain": [
       "<IPython.core.display.Image object>"
      ]
     },
     "execution_count": 79,
     "metadata": {},
     "output_type": "execute_result"
    }
   ],
   "source": [
    "Image(filename = 'data/result_graph.png')"
   ]
  },
  {
   "cell_type": "markdown",
   "metadata": {},
   "source": [
    "&nbsp;&nbsp;&nbsp;&nbsp;&nbsp;&nbsp;Using Tableau, I generated these three bar graphs with original scores of Recall, Precision and Test Accuracy of different models. There is significant boost in recall score in models with upsampled data whereas tradeoff for boost in recall seem to outperform the drop in precision. I get as big as 25% boost in recall for 10% dropoff in precision. By simply introducing new data in category 1, I am feeding more category 1s for machine learning models to get far more True Positives. As models are picking out True Positives, boost in recall makes sense. In further tuning hyperparameters for these different machine learning models, I will apply SMOTE as upsampling as I see immediate jump in recall.\n",
    "\n",
    "&nbsp;&nbsp;&nbsp;&nbsp;&nbsp;&nbsp;Through hyperparameter tuning, I hope to boost precision while staying relative to level of upsampled recall score. "
   ]
  },
  {
   "cell_type": "markdown",
   "metadata": {},
   "source": [
    "<hr style=\"border:2px solid gray\"> </hr>\n",
    "\n",
    "## Hyperparameter Optimization\n",
    "\n",
    "&nbsp;&nbsp;&nbsp;&nbsp;&nbsp;&nbsp;Now that I have base-models, working on hyper-parameter tuning. Just like I did, I will save up results so it is easy to follow when comparing different models. I will make analysis in the end. Also random_state `777` is placed for reproducibility."
   ]
  },
  {
   "cell_type": "code",
   "execution_count": 80,
   "metadata": {},
   "outputs": [],
   "source": [
    "# Again like base modelling, I will store the results for future analysis\n",
    "tuned_result_df = pd.DataFrame(columns = ['train_acc', 'test_acc', 'precision', 'recall'],\n",
    "                        index = ['LR', 'KNN', 'RF', 'SVM', 'XGB', 'VC'])"
   ]
  },
  {
   "cell_type": "code",
   "execution_count": 81,
   "metadata": {
    "scrolled": true
   },
   "outputs": [
    {
     "data": {
      "text/html": [
       "<div>\n",
       "<style scoped>\n",
       "    .dataframe tbody tr th:only-of-type {\n",
       "        vertical-align: middle;\n",
       "    }\n",
       "\n",
       "    .dataframe tbody tr th {\n",
       "        vertical-align: top;\n",
       "    }\n",
       "\n",
       "    .dataframe thead th {\n",
       "        text-align: right;\n",
       "    }\n",
       "</style>\n",
       "<table border=\"1\" class=\"dataframe\">\n",
       "  <thead>\n",
       "    <tr style=\"text-align: right;\">\n",
       "      <th></th>\n",
       "      <th>train_acc</th>\n",
       "      <th>test_acc</th>\n",
       "      <th>precision</th>\n",
       "      <th>recall</th>\n",
       "    </tr>\n",
       "  </thead>\n",
       "  <tbody>\n",
       "    <tr>\n",
       "      <th>LR</th>\n",
       "      <td>NaN</td>\n",
       "      <td>NaN</td>\n",
       "      <td>NaN</td>\n",
       "      <td>NaN</td>\n",
       "    </tr>\n",
       "    <tr>\n",
       "      <th>KNN</th>\n",
       "      <td>NaN</td>\n",
       "      <td>NaN</td>\n",
       "      <td>NaN</td>\n",
       "      <td>NaN</td>\n",
       "    </tr>\n",
       "    <tr>\n",
       "      <th>RF</th>\n",
       "      <td>NaN</td>\n",
       "      <td>NaN</td>\n",
       "      <td>NaN</td>\n",
       "      <td>NaN</td>\n",
       "    </tr>\n",
       "    <tr>\n",
       "      <th>SVM</th>\n",
       "      <td>NaN</td>\n",
       "      <td>NaN</td>\n",
       "      <td>NaN</td>\n",
       "      <td>NaN</td>\n",
       "    </tr>\n",
       "    <tr>\n",
       "      <th>XGB</th>\n",
       "      <td>NaN</td>\n",
       "      <td>NaN</td>\n",
       "      <td>NaN</td>\n",
       "      <td>NaN</td>\n",
       "    </tr>\n",
       "    <tr>\n",
       "      <th>VC</th>\n",
       "      <td>NaN</td>\n",
       "      <td>NaN</td>\n",
       "      <td>NaN</td>\n",
       "      <td>NaN</td>\n",
       "    </tr>\n",
       "  </tbody>\n",
       "</table>\n",
       "</div>"
      ],
      "text/plain": [
       "    train_acc test_acc precision recall\n",
       "LR        NaN      NaN       NaN    NaN\n",
       "KNN       NaN      NaN       NaN    NaN\n",
       "RF        NaN      NaN       NaN    NaN\n",
       "SVM       NaN      NaN       NaN    NaN\n",
       "XGB       NaN      NaN       NaN    NaN\n",
       "VC        NaN      NaN       NaN    NaN"
      ]
     },
     "execution_count": 81,
     "metadata": {},
     "output_type": "execute_result"
    }
   ],
   "source": [
    "tuned_result_df"
   ]
  },
  {
   "cell_type": "code",
   "execution_count": 82,
   "metadata": {},
   "outputs": [],
   "source": [
    "# Storage for the results\n",
    "train = []\n",
    "test = []\n",
    "precision = []\n",
    "recall = []"
   ]
  },
  {
   "cell_type": "code",
   "execution_count": 83,
   "metadata": {
    "scrolled": true
   },
   "outputs": [],
   "source": [
    "# Set the hyperparameters for a Grid Search\n",
    "\n",
    "# I chose not to include PCA in part of Grid search as interpretability is the king for my project, especially when it comes to \n",
    "\n",
    "# LR model. There are not too many features and figured PCA is not really going to be fruitful\n",
    "# C in 10^-3 to 10^3\n",
    "params_lr = {'C': [0.001, 0.01, 0.1, 1, 10, 100, 1000], 'solver':['newton-cg', 'lbfgs', 'liblinear', 'saga'], \n",
    "             'class_weight': ['balanced', None], 'penalty' : ['l2', None], 'random_state': [777]} \n",
    "\n",
    "# KNN model. For metric decided to not include cosine similarity as I thought it was not useful.\n",
    "# Vectors directing in similar direction do not mean those teams making playoff. Magnitude matters more it feels.\n",
    "params_knn = {'n_neighbors':list(range(3,16,2)), 'weights':['uniform', 'distance'], \n",
    "              'algorithm':['auto', 'ball_tree', 'kd_tree', 'brute'], 'metric':['euclidean','minkowski']}\n",
    "\n",
    "# RF model. Ensemble of Decision Tree. criterion is how you make the decision basis.\n",
    "# max_depth of 3 as this converges quickly as well\n",
    "params_rf = {'n_estimators':[10, 25, 50, 100, 150, 200], 'criterion':['gini','entropy'],\n",
    "             'max_depth':list(range(1,4)), 'min_samples_leaf':[5, 9, 15, 25], 'random_state': [777]}\n",
    "\n",
    "# SVM model. Look for decision boundary in hyperplane and maximizes the margin from tags\n",
    "params_svm = {'C':[0.001, 0.01, 0.1, 1, 10, 100, 1000], 'shrinking':[True, False], 'probability':[True, False],\n",
    "              'gamma':['scale','auto'], 'kernel': ['linear', 'poly', 'rbf', 'sigmoid'], 'random_state': [777]}\n",
    "\n",
    "# xgb is DT based ensemble. It makes adjustments on errors and tries to find the minimum\n",
    "# Feels like xgb converges a little too quickly for my data. Maybe my data set is not large enough\n",
    "# xgb max_depth < 3 = super overfit close to 100% train accuracy.\n",
    "# It converged too quickly so tried to mitigate it with learning_rate\n",
    "params_xgb = {'max_depth':[1, 2], 'learning_rate': [0.05, 0.1, 0.15, 0.2, 0.25], \n",
    "              'n_estimators':list(range(100, 301, 50)), 'booster':['gbtree','dart'], 'random_state': [777]}"
   ]
  },
  {
   "cell_type": "code",
   "execution_count": 84,
   "metadata": {},
   "outputs": [],
   "source": [
    "# Rather than using sklearn pipeline, use imblearn package as it will handle upsampling correctly.\n",
    "\n",
    "# This way I will avoid upsampling my validation set in cross-validation \n",
    "\n",
    "# Regular pipeline will upsample apply transformation (upsample) my validation set while performing cross-validation\n",
    "from imblearn.pipeline import Pipeline, make_pipeline"
   ]
  },
  {
   "cell_type": "code",
   "execution_count": 85,
   "metadata": {},
   "outputs": [],
   "source": [
    "# from sklearn.pipeline import Pipeline\n",
    "from sklearn.model_selection import GridSearchCV"
   ]
  },
  {
   "cell_type": "markdown",
   "metadata": {},
   "source": [
    "### <u>Logistic Regression</u>\n",
    "\n"
   ]
  },
  {
   "cell_type": "code",
   "execution_count": 86,
   "metadata": {},
   "outputs": [],
   "source": [
    "# Set up the (placeholder) pipeline \n",
    "pipeline_lr = make_pipeline(SMOTE(sampling_strategy = 1, random_state = 777, n_jobs = -1), LogisticRegression())  "
   ]
  },
  {
   "cell_type": "code",
   "execution_count": 87,
   "metadata": {},
   "outputs": [],
   "source": [
    "# Set up parameters!\n",
    "new_params_lr = {'logisticregression__' + key: params_lr[key] for key in params_lr}"
   ]
  },
  {
   "cell_type": "code",
   "execution_count": 88,
   "metadata": {
    "scrolled": true
   },
   "outputs": [
    {
     "data": {
      "text/plain": [
       "{'logisticregression__C': [0.001, 0.01, 0.1, 1, 10, 100, 1000],\n",
       " 'logisticregression__solver': ['newton-cg', 'lbfgs', 'liblinear', 'saga'],\n",
       " 'logisticregression__class_weight': ['balanced', None],\n",
       " 'logisticregression__penalty': ['l2', None],\n",
       " 'logisticregression__random_state': [777]}"
      ]
     },
     "execution_count": 88,
     "metadata": {},
     "output_type": "execute_result"
    }
   ],
   "source": [
    "new_params_lr"
   ]
  },
  {
   "cell_type": "code",
   "execution_count": 89,
   "metadata": {
    "scrolled": true
   },
   "outputs": [
    {
     "name": "stdout",
     "output_type": "stream",
     "text": [
      "Fitting 5 folds for each of 112 candidates, totalling 560 fits\n"
     ]
    },
    {
     "name": "stderr",
     "output_type": "stream",
     "text": [
      "[Parallel(n_jobs=-1)]: Using backend LokyBackend with 4 concurrent workers.\n",
      "[Parallel(n_jobs=-1)]: Done  56 tasks      | elapsed:    7.3s\n",
      "[Parallel(n_jobs=-1)]: Done 560 out of 560 | elapsed:   12.3s finished\n"
     ]
    },
    {
     "data": {
      "text/plain": [
       "GridSearchCV(cv=5,\n",
       "             estimator=Pipeline(steps=[('smote',\n",
       "                                        SMOTE(n_jobs=-1, random_state=777,\n",
       "                                              sampling_strategy=1)),\n",
       "                                       ('logisticregression',\n",
       "                                        LogisticRegression())]),\n",
       "             n_jobs=-1,\n",
       "             param_grid={'logisticregression__C': [0.001, 0.01, 0.1, 1, 10, 100,\n",
       "                                                   1000],\n",
       "                         'logisticregression__class_weight': ['balanced', None],\n",
       "                         'logisticregression__penalty': ['l2', None],\n",
       "                         'logisticregression__random_state': [777],\n",
       "                         'logisticregression__solver': ['newton-cg', 'lbfgs',\n",
       "                                                        'liblinear', 'saga']},\n",
       "             scoring='precision', verbose=1)"
      ]
     },
     "execution_count": 89,
     "metadata": {},
     "output_type": "execute_result"
    }
   ],
   "source": [
    "# Evaluate on 'precision'\n",
    "\n",
    "# I also tried 'f1' and default (accuracy). 'precision' yielded best result meaning I could improve 'precision' without\n",
    "# losing much on 'recall'.\n",
    "grid_lr = GridSearchCV(pipeline_lr, param_grid = new_params_lr, cv = 5, n_jobs = -1, verbose = 1, scoring = 'precision')\n",
    "\n",
    "grid_lr.fit(X_train,y_train)"
   ]
  },
  {
   "cell_type": "code",
   "execution_count": 90,
   "metadata": {},
   "outputs": [],
   "source": [
    "# Removed pickle. Strictly was for me so I didn't have to rerun all the models coming back to work on them\n",
    "# import pickle"
   ]
  },
  {
   "cell_type": "code",
   "execution_count": 91,
   "metadata": {},
   "outputs": [],
   "source": [
    "# save grid_lr using Pickle\n",
    "# file_lr = 'grid_lr_cov.sav'\n",
    "# pickle.dump(grid_lr, open(file_lr, 'wb'))"
   ]
  },
  {
   "cell_type": "code",
   "execution_count": 92,
   "metadata": {},
   "outputs": [],
   "source": [
    "# file_lr = 'grid_lr_cov.sav'\n",
    "# loaded_lr = pickle.load(open(file_lr, 'rb'))"
   ]
  },
  {
   "cell_type": "code",
   "execution_count": 93,
   "metadata": {
    "scrolled": true
   },
   "outputs": [
    {
     "data": {
      "text/plain": [
       "{'logisticregression__C': 10,\n",
       " 'logisticregression__class_weight': 'balanced',\n",
       " 'logisticregression__penalty': 'l2',\n",
       " 'logisticregression__random_state': 777,\n",
       " 'logisticregression__solver': 'newton-cg'}"
      ]
     },
     "execution_count": 93,
     "metadata": {},
     "output_type": "execute_result"
    }
   ],
   "source": [
    "# See what the best hyperparameters were\n",
    "grid_lr.best_params_"
   ]
  },
  {
   "cell_type": "code",
   "execution_count": 94,
   "metadata": {
    "scrolled": false
   },
   "outputs": [
    {
     "name": "stdout",
     "output_type": "stream",
     "text": [
      "Train accuracy: 87.04%\n",
      "Test accuracy: 81.85%\n"
     ]
    }
   ],
   "source": [
    "# Train Accuracy\n",
    "grid_lr_train_acc = grid_lr.best_estimator_.score(X_train, y_train)\n",
    "\n",
    "# Test Accuracy\n",
    "grid_lr_test_acc = grid_lr.best_estimator_.score(X_test, y_test)\n",
    "\n",
    "print(f'Train accuracy: {round(grid_lr_train_acc * 100,2)}%')\n",
    "print(f'Test accuracy: {round(grid_lr_test_acc * 100,2)}%')"
   ]
  },
  {
   "cell_type": "code",
   "execution_count": 95,
   "metadata": {
    "scrolled": false
   },
   "outputs": [
    {
     "name": "stdout",
     "output_type": "stream",
     "text": [
      "              precision    recall  f1-score   support\n",
      "\n",
      "           0       0.93      0.82      0.87       208\n",
      "           1       0.57      0.81      0.67        62\n",
      "\n",
      "    accuracy                           0.82       270\n",
      "   macro avg       0.75      0.81      0.77       270\n",
      "weighted avg       0.85      0.82      0.83       270\n",
      "\n",
      "ROC AUC Score: 0.81\n"
     ]
    }
   ],
   "source": [
    "# Classification report and ROC AUC Score\n",
    "print(classification_report(y_test, grid_lr.best_estimator_.predict(X_test)))\n",
    "print(f'ROC AUC Score: {round(roc_auc_score(y_test, grid_lr.best_estimator_.predict(X_test)),2)}')"
   ]
  },
  {
   "cell_type": "code",
   "execution_count": 96,
   "metadata": {},
   "outputs": [],
   "source": [
    "# Store best tuned LR accuracies with upsampled data\n",
    "train.append(grid_lr_train_acc)\n",
    "test.append(grid_lr_test_acc)"
   ]
  },
  {
   "cell_type": "code",
   "execution_count": 97,
   "metadata": {},
   "outputs": [],
   "source": [
    "# Store best tuned LR precision and recall of upsampled data\n",
    "precision.append(classification_report(y_test, grid_lr.best_estimator_.predict(X_test), output_dict = True)['1']['precision'])\n",
    "recall.append(classification_report(y_test, grid_lr.best_estimator_.predict(X_test), output_dict = True)['1']['recall'])"
   ]
  },
  {
   "cell_type": "markdown",
   "metadata": {},
   "source": [
    "### <u>KNN</u>"
   ]
  },
  {
   "cell_type": "code",
   "execution_count": 98,
   "metadata": {},
   "outputs": [],
   "source": [
    "# Set up the (placeholder) pipeline \n",
    "pipeline_knn = make_pipeline(SMOTE(sampling_strategy = 1, random_state = 777, n_jobs = -1), KNeighborsClassifier())"
   ]
  },
  {
   "cell_type": "code",
   "execution_count": 99,
   "metadata": {},
   "outputs": [],
   "source": [
    "new_params_knn = {'kneighborsclassifier__' + key: params_knn[key] for key in params_knn}"
   ]
  },
  {
   "cell_type": "code",
   "execution_count": 100,
   "metadata": {
    "scrolled": false
   },
   "outputs": [
    {
     "data": {
      "text/plain": [
       "{'kneighborsclassifier__n_neighbors': [3, 5, 7, 9, 11, 13, 15],\n",
       " 'kneighborsclassifier__weights': ['uniform', 'distance'],\n",
       " 'kneighborsclassifier__algorithm': ['auto', 'ball_tree', 'kd_tree', 'brute'],\n",
       " 'kneighborsclassifier__metric': ['euclidean', 'minkowski']}"
      ]
     },
     "execution_count": 100,
     "metadata": {},
     "output_type": "execute_result"
    }
   ],
   "source": [
    "new_params_knn"
   ]
  },
  {
   "cell_type": "code",
   "execution_count": 101,
   "metadata": {
    "scrolled": false
   },
   "outputs": [
    {
     "name": "stdout",
     "output_type": "stream",
     "text": [
      "Fitting 5 folds for each of 112 candidates, totalling 560 fits\n"
     ]
    },
    {
     "name": "stderr",
     "output_type": "stream",
     "text": [
      "[Parallel(n_jobs=-1)]: Using backend LokyBackend with 4 concurrent workers.\n",
      "[Parallel(n_jobs=-1)]: Done  76 tasks      | elapsed:    1.6s\n",
      "[Parallel(n_jobs=-1)]: Done 536 tasks      | elapsed:    9.5s\n",
      "[Parallel(n_jobs=-1)]: Done 560 out of 560 | elapsed:    9.7s finished\n"
     ]
    },
    {
     "data": {
      "text/plain": [
       "GridSearchCV(cv=5,\n",
       "             estimator=Pipeline(steps=[('smote',\n",
       "                                        SMOTE(n_jobs=-1, random_state=777,\n",
       "                                              sampling_strategy=1)),\n",
       "                                       ('kneighborsclassifier',\n",
       "                                        KNeighborsClassifier())]),\n",
       "             n_jobs=-1,\n",
       "             param_grid={'kneighborsclassifier__algorithm': ['auto',\n",
       "                                                             'ball_tree',\n",
       "                                                             'kd_tree',\n",
       "                                                             'brute'],\n",
       "                         'kneighborsclassifier__metric': ['euclidean',\n",
       "                                                          'minkowski'],\n",
       "                         'kneighborsclassifier__n_neighbors': [3, 5, 7, 9, 11,\n",
       "                                                               13, 15],\n",
       "                         'kneighborsclassifier__weights': ['uniform',\n",
       "                                                           'distance']},\n",
       "             scoring='precision', verbose=1)"
      ]
     },
     "execution_count": 101,
     "metadata": {},
     "output_type": "execute_result"
    }
   ],
   "source": [
    "grid_knn = GridSearchCV(pipeline_knn, param_grid = new_params_knn, cv = 5, n_jobs = -1, verbose = 1, scoring = 'precision')\n",
    "\n",
    "grid_knn.fit(X_train,y_train)"
   ]
  },
  {
   "cell_type": "code",
   "execution_count": 102,
   "metadata": {},
   "outputs": [],
   "source": [
    "# save grid_knn using Pickle\n",
    "#file_knn = 'grid_knn_f1.sav'\n",
    "#pickle.dump(grid_knn, open(file_knn, 'wb'))"
   ]
  },
  {
   "cell_type": "code",
   "execution_count": 103,
   "metadata": {},
   "outputs": [],
   "source": [
    "#file_knn = 'grid_knn_f1.sav'\n",
    "#loaded_knn = pickle.load(open(file_knn, 'rb'))"
   ]
  },
  {
   "cell_type": "code",
   "execution_count": 104,
   "metadata": {},
   "outputs": [
    {
     "data": {
      "text/plain": [
       "{'kneighborsclassifier__algorithm': 'auto',\n",
       " 'kneighborsclassifier__metric': 'euclidean',\n",
       " 'kneighborsclassifier__n_neighbors': 3,\n",
       " 'kneighborsclassifier__weights': 'uniform'}"
      ]
     },
     "execution_count": 104,
     "metadata": {},
     "output_type": "execute_result"
    }
   ],
   "source": [
    "# Best hyperparameters for KNN\n",
    "grid_knn.best_params_"
   ]
  },
  {
   "cell_type": "code",
   "execution_count": 105,
   "metadata": {
    "scrolled": false
   },
   "outputs": [
    {
     "name": "stdout",
     "output_type": "stream",
     "text": [
      "Train accuracy: 89.35%\n",
      "Test accuracy: 71.85%\n"
     ]
    }
   ],
   "source": [
    "# Train Accuracy\n",
    "grid_knn_train_acc = grid_knn.best_estimator_.score(X_train, y_train)\n",
    "\n",
    "# Test Accuracy\n",
    "grid_knn_test_acc = grid_knn.best_estimator_.score(X_test, y_test)\n",
    "\n",
    "print(f'Train accuracy: {round(grid_knn_train_acc * 100,2)}%')\n",
    "print(f'Test accuracy: {round(grid_knn_test_acc * 100,2)}%')"
   ]
  },
  {
   "cell_type": "code",
   "execution_count": 106,
   "metadata": {
    "scrolled": false
   },
   "outputs": [
    {
     "name": "stdout",
     "output_type": "stream",
     "text": [
      "              precision    recall  f1-score   support\n",
      "\n",
      "           0       0.91      0.70      0.79       208\n",
      "           1       0.44      0.77      0.56        62\n",
      "\n",
      "    accuracy                           0.72       270\n",
      "   macro avg       0.67      0.74      0.68       270\n",
      "weighted avg       0.80      0.72      0.74       270\n",
      "\n",
      "ROC AUC Score: 0.74\n"
     ]
    }
   ],
   "source": [
    "# Classification report on KNN\n",
    "print(classification_report(y_test, grid_knn.best_estimator_.predict(X_test)))\n",
    "print('ROC AUC Score: %.2f' % roc_auc_score(y_test, grid_knn.best_estimator_.predict(X_test)))"
   ]
  },
  {
   "cell_type": "code",
   "execution_count": 107,
   "metadata": {},
   "outputs": [],
   "source": [
    "# Store best tuned KNN accuracies with upsampled data\n",
    "train.append(grid_knn_train_acc)\n",
    "test.append(grid_knn_test_acc)"
   ]
  },
  {
   "cell_type": "code",
   "execution_count": 108,
   "metadata": {},
   "outputs": [],
   "source": [
    "# Store best tuned KNN precision and recall of upsampled data\n",
    "precision.append(classification_report(y_test, grid_knn.best_estimator_.predict(X_test), output_dict = True)['1']['precision'])\n",
    "recall.append(classification_report(y_test, grid_knn.best_estimator_.predict(X_test), output_dict = True)['1']['recall'])"
   ]
  },
  {
   "cell_type": "markdown",
   "metadata": {},
   "source": [
    "### <u>Random Forest</u>"
   ]
  },
  {
   "cell_type": "code",
   "execution_count": 109,
   "metadata": {},
   "outputs": [],
   "source": [
    "# Set up the pipeline \n",
    "pipeline_rf = make_pipeline(SMOTE(sampling_strategy = 1, random_state = 777, n_jobs = -1), RandomForestClassifier())"
   ]
  },
  {
   "cell_type": "code",
   "execution_count": 110,
   "metadata": {},
   "outputs": [],
   "source": [
    "# Set up parameters!\n",
    "new_params_rf = {'randomforestclassifier__' + key: params_rf[key] for key in params_rf}"
   ]
  },
  {
   "cell_type": "code",
   "execution_count": 111,
   "metadata": {
    "scrolled": false
   },
   "outputs": [
    {
     "name": "stdout",
     "output_type": "stream",
     "text": [
      "Fitting 5 folds for each of 144 candidates, totalling 720 fits\n"
     ]
    },
    {
     "name": "stderr",
     "output_type": "stream",
     "text": [
      "[Parallel(n_jobs=-1)]: Using backend LokyBackend with 4 concurrent workers.\n",
      "[Parallel(n_jobs=-1)]: Done  73 tasks      | elapsed:    7.6s\n",
      "[Parallel(n_jobs=-1)]: Done 224 tasks      | elapsed:   26.1s\n",
      "[Parallel(n_jobs=-1)]: Done 474 tasks      | elapsed:   53.6s\n",
      "[Parallel(n_jobs=-1)]: Done 720 out of 720 | elapsed:  1.5min finished\n"
     ]
    },
    {
     "data": {
      "text/plain": [
       "GridSearchCV(cv=5,\n",
       "             estimator=Pipeline(steps=[('smote',\n",
       "                                        SMOTE(n_jobs=-1, random_state=777,\n",
       "                                              sampling_strategy=1)),\n",
       "                                       ('randomforestclassifier',\n",
       "                                        RandomForestClassifier())]),\n",
       "             n_jobs=-1,\n",
       "             param_grid={'randomforestclassifier__criterion': ['gini',\n",
       "                                                               'entropy'],\n",
       "                         'randomforestclassifier__max_depth': [1, 2, 3],\n",
       "                         'randomforestclassifier__min_samples_leaf': [5, 9, 15,\n",
       "                                                                      25],\n",
       "                         'randomforestclassifier__n_estimators': [10, 25, 50,\n",
       "                                                                  100, 150,\n",
       "                                                                  200],\n",
       "                         'randomforestclassifier__random_state': [777]},\n",
       "             scoring='precision', verbose=1)"
      ]
     },
     "execution_count": 111,
     "metadata": {},
     "output_type": "execute_result"
    }
   ],
   "source": [
    "grid_rf = GridSearchCV(pipeline_rf, param_grid = new_params_rf, cv = 5, n_jobs = -1, verbose = 1, scoring = 'precision')\n",
    "\n",
    "grid_rf.fit(X_train, y_train)"
   ]
  },
  {
   "cell_type": "code",
   "execution_count": 112,
   "metadata": {},
   "outputs": [],
   "source": [
    "# save grid_rf using Pickle\n",
    "#file_rf = 'grid_rf_cov.sav'\n",
    "#pickle.dump(grid_rf, open(file_rf, 'wb'))"
   ]
  },
  {
   "cell_type": "code",
   "execution_count": 113,
   "metadata": {},
   "outputs": [],
   "source": [
    "#file_rf = 'grid_rf_cov.sav'\n",
    "#loaded_rf = pickle.load(open(file_rf, 'rb'))"
   ]
  },
  {
   "cell_type": "code",
   "execution_count": 114,
   "metadata": {},
   "outputs": [
    {
     "data": {
      "text/plain": [
       "{'randomforestclassifier__criterion': 'gini',\n",
       " 'randomforestclassifier__max_depth': 3,\n",
       " 'randomforestclassifier__min_samples_leaf': 5,\n",
       " 'randomforestclassifier__n_estimators': 50,\n",
       " 'randomforestclassifier__random_state': 777}"
      ]
     },
     "execution_count": 114,
     "metadata": {},
     "output_type": "execute_result"
    }
   ],
   "source": [
    "# Best parameters for Random Forest!\n",
    "grid_rf.best_params_"
   ]
  },
  {
   "cell_type": "code",
   "execution_count": 115,
   "metadata": {
    "scrolled": true
   },
   "outputs": [
    {
     "name": "stdout",
     "output_type": "stream",
     "text": [
      "Train accuracy: 86.2%\n",
      "Test accuracy: 80.37%\n"
     ]
    }
   ],
   "source": [
    "# Train Accuracy\n",
    "grid_rf_train_acc = grid_rf.best_estimator_.score(X_train, y_train)\n",
    "\n",
    "# Test Accuracy\n",
    "grid_rf_test_acc = grid_rf.best_estimator_.score(X_test, y_test)\n",
    "\n",
    "print(f'Train accuracy: {round(grid_rf_train_acc * 100,2)}%')\n",
    "print(f'Test accuracy: {round(grid_rf_test_acc * 100,2)}%')"
   ]
  },
  {
   "cell_type": "code",
   "execution_count": 116,
   "metadata": {
    "scrolled": false
   },
   "outputs": [
    {
     "name": "stdout",
     "output_type": "stream",
     "text": [
      "              precision    recall  f1-score   support\n",
      "\n",
      "           0       0.93      0.81      0.86       208\n",
      "           1       0.55      0.79      0.65        62\n",
      "\n",
      "    accuracy                           0.80       270\n",
      "   macro avg       0.74      0.80      0.76       270\n",
      "weighted avg       0.84      0.80      0.81       270\n",
      "\n",
      "ROC AUC Score: 0.8\n"
     ]
    }
   ],
   "source": [
    "# Classification Report\n",
    "print(classification_report(y_test, grid_rf.best_estimator_.predict(X_test)))\n",
    "print(f'ROC AUC Score: {round(roc_auc_score(y_test, grid_rf.best_estimator_.predict(X_test)),2)}')"
   ]
  },
  {
   "cell_type": "code",
   "execution_count": 117,
   "metadata": {},
   "outputs": [],
   "source": [
    "# Store best tuned RF accuracies with upsampled data\n",
    "train.append(grid_rf_train_acc)\n",
    "test.append(grid_rf_test_acc)"
   ]
  },
  {
   "cell_type": "code",
   "execution_count": 118,
   "metadata": {},
   "outputs": [],
   "source": [
    "# Store best tuned RF precision and recall of upsampled data\n",
    "precision.append(classification_report(y_test, grid_rf.best_estimator_.predict(X_test), output_dict = True)['1']['precision'])\n",
    "recall.append(classification_report(y_test, grid_rf.best_estimator_.predict(X_test), output_dict = True)['1']['recall'])"
   ]
  },
  {
   "cell_type": "markdown",
   "metadata": {},
   "source": [
    "### <u>Support Vector Machines</u>"
   ]
  },
  {
   "cell_type": "code",
   "execution_count": 119,
   "metadata": {},
   "outputs": [],
   "source": [
    "# Set up the (placeholder) pipeline \n",
    "pipeline_svm = make_pipeline(SMOTE(sampling_strategy = 1, random_state = 777, n_jobs = -1),\n",
    "                         SVC())"
   ]
  },
  {
   "cell_type": "code",
   "execution_count": 120,
   "metadata": {},
   "outputs": [],
   "source": [
    "# Set up parameters!\n",
    "new_params_svm = {'svc__' + key: params_svm[key] for key in params_svm}"
   ]
  },
  {
   "cell_type": "code",
   "execution_count": 121,
   "metadata": {
    "scrolled": true
   },
   "outputs": [
    {
     "name": "stdout",
     "output_type": "stream",
     "text": [
      "Fitting 5 folds for each of 224 candidates, totalling 1120 fits\n"
     ]
    },
    {
     "name": "stderr",
     "output_type": "stream",
     "text": [
      "[Parallel(n_jobs=-1)]: Using backend LokyBackend with 4 concurrent workers.\n",
      "[Parallel(n_jobs=-1)]: Done  42 tasks      | elapsed:    2.8s\n",
      "[Parallel(n_jobs=-1)]: Done 192 tasks      | elapsed:   14.6s\n",
      "[Parallel(n_jobs=-1)]: Done 676 tasks      | elapsed:   48.1s\n",
      "[Parallel(n_jobs=-1)]: Done 1036 tasks      | elapsed:  3.8min\n",
      "[Parallel(n_jobs=-1)]: Done 1120 out of 1120 | elapsed:  6.0min finished\n"
     ]
    },
    {
     "data": {
      "text/plain": [
       "GridSearchCV(cv=5,\n",
       "             estimator=Pipeline(steps=[('smote',\n",
       "                                        SMOTE(n_jobs=-1, random_state=777,\n",
       "                                              sampling_strategy=1)),\n",
       "                                       ('svc', SVC())]),\n",
       "             n_jobs=-1,\n",
       "             param_grid={'svc__C': [0.001, 0.01, 0.1, 1, 10, 100, 1000],\n",
       "                         'svc__gamma': ['scale', 'auto'],\n",
       "                         'svc__kernel': ['linear', 'poly', 'rbf', 'sigmoid'],\n",
       "                         'svc__probability': [True, False],\n",
       "                         'svc__random_state': [777],\n",
       "                         'svc__shrinking': [True, False]},\n",
       "             scoring='f1', verbose=1)"
      ]
     },
     "execution_count": 121,
     "metadata": {},
     "output_type": "execute_result"
    }
   ],
   "source": [
    "# I used f1 for parameter scoring here as scoring on best precision gave only 1% increase to 0.60 in precision whereas \n",
    "\n",
    "# recall suffered heavily with almost 20% drop. I made judgement call that it was not worth the trade-off\n",
    "grid_svm = GridSearchCV(pipeline_svm, param_grid = new_params_svm, cv = 5, n_jobs = -1, verbose = 1, scoring = 'f1')\n",
    "\n",
    "grid_svm.fit(X_train,y_train)"
   ]
  },
  {
   "cell_type": "code",
   "execution_count": 122,
   "metadata": {},
   "outputs": [],
   "source": [
    "# save grid_svm using Pickle\n",
    "#file_svm = 'grid_svm_cov.sav'\n",
    "#pickle.dump(grid_svm, open(file_svm, 'wb'))"
   ]
  },
  {
   "cell_type": "code",
   "execution_count": 123,
   "metadata": {},
   "outputs": [],
   "source": [
    "#file_svm = 'grid_svm_cov.sav'\n",
    "#loaded_svm = pickle.load(open(file_svm, 'rb'))"
   ]
  },
  {
   "cell_type": "code",
   "execution_count": 124,
   "metadata": {
    "scrolled": false
   },
   "outputs": [
    {
     "data": {
      "text/plain": [
       "{'svc__C': 100,\n",
       " 'svc__gamma': 'auto',\n",
       " 'svc__kernel': 'rbf',\n",
       " 'svc__probability': True,\n",
       " 'svc__random_state': 777,\n",
       " 'svc__shrinking': True}"
      ]
     },
     "execution_count": 124,
     "metadata": {},
     "output_type": "execute_result"
    }
   ],
   "source": [
    "# Best parameters for Support Vector Machine!\n",
    "grid_svm.best_params_"
   ]
  },
  {
   "cell_type": "code",
   "execution_count": 125,
   "metadata": {
    "scrolled": true
   },
   "outputs": [
    {
     "name": "stdout",
     "output_type": "stream",
     "text": [
      "Train accuracy: 92.31%\n",
      "Test accuracy: 82.59%\n"
     ]
    }
   ],
   "source": [
    "# Train Accuracy\n",
    "grid_svm_train_acc = grid_svm.best_estimator_.score(X_train, y_train)\n",
    "\n",
    "# Test Accuracy\n",
    "grid_svm_test_acc = grid_svm.best_estimator_.score(X_test, y_test)\n",
    "\n",
    "print(f'Train accuracy: {round(grid_svm_train_acc * 100,2)}%')\n",
    "print(f'Test accuracy: {round(grid_svm_test_acc * 100,2)}%')"
   ]
  },
  {
   "cell_type": "code",
   "execution_count": 126,
   "metadata": {
    "scrolled": false
   },
   "outputs": [
    {
     "name": "stdout",
     "output_type": "stream",
     "text": [
      "              precision    recall  f1-score   support\n",
      "\n",
      "           0       0.92      0.85      0.88       208\n",
      "           1       0.59      0.76      0.67        62\n",
      "\n",
      "    accuracy                           0.83       270\n",
      "   macro avg       0.76      0.80      0.77       270\n",
      "weighted avg       0.85      0.83      0.83       270\n",
      "\n",
      "ROC AUC Score: 0.8\n"
     ]
    }
   ],
   "source": [
    "# Classification report on SVM\n",
    "print(classification_report(y_test, grid_svm.best_estimator_.predict(X_test)))\n",
    "print(f'ROC AUC Score: {round(roc_auc_score(y_test, grid_svm.best_estimator_.predict(X_test)),2)}')"
   ]
  },
  {
   "cell_type": "code",
   "execution_count": 127,
   "metadata": {},
   "outputs": [],
   "source": [
    "# Store best tuned SVM accuracies with upsampled data\n",
    "train.append(grid_svm_train_acc)\n",
    "test.append(grid_svm_test_acc)"
   ]
  },
  {
   "cell_type": "code",
   "execution_count": 128,
   "metadata": {},
   "outputs": [],
   "source": [
    "# Store best tuned SVM precision and recall of upsampled data\n",
    "precision.append(classification_report(y_test, grid_svm.best_estimator_.predict(X_test), output_dict = True)['1']['precision'])\n",
    "recall.append(classification_report(y_test, grid_svm.best_estimator_.predict(X_test), output_dict = True)['1']['recall'])"
   ]
  },
  {
   "cell_type": "markdown",
   "metadata": {},
   "source": [
    "### <u>Extreme Gradient Boost</u>"
   ]
  },
  {
   "cell_type": "code",
   "execution_count": 129,
   "metadata": {},
   "outputs": [],
   "source": [
    "# Set up the pipeline \n",
    "pipeline_xgb = make_pipeline(SMOTE(sampling_strategy = 1, random_state = 777, n_jobs = -1),\n",
    "                         XGBClassifier())"
   ]
  },
  {
   "cell_type": "code",
   "execution_count": 130,
   "metadata": {},
   "outputs": [],
   "source": [
    "# Set up parameters!\n",
    "new_params_xgb = {'xgbclassifier__' + key: params_xgb[key] for key in params_xgb}"
   ]
  },
  {
   "cell_type": "code",
   "execution_count": 131,
   "metadata": {},
   "outputs": [
    {
     "data": {
      "text/plain": [
       "{'xgbclassifier__max_depth': [1, 2],\n",
       " 'xgbclassifier__learning_rate': [0.05, 0.1, 0.15, 0.2, 0.25],\n",
       " 'xgbclassifier__n_estimators': [100, 150, 200, 250, 300],\n",
       " 'xgbclassifier__booster': ['gbtree', 'dart'],\n",
       " 'xgbclassifier__random_state': [777]}"
      ]
     },
     "execution_count": 131,
     "metadata": {},
     "output_type": "execute_result"
    }
   ],
   "source": [
    "new_params_xgb"
   ]
  },
  {
   "cell_type": "code",
   "execution_count": 132,
   "metadata": {
    "scrolled": true
   },
   "outputs": [
    {
     "name": "stdout",
     "output_type": "stream",
     "text": [
      "Fitting 5 folds for each of 100 candidates, totalling 500 fits\n"
     ]
    },
    {
     "name": "stderr",
     "output_type": "stream",
     "text": [
      "[Parallel(n_jobs=-1)]: Using backend LokyBackend with 4 concurrent workers.\n",
      "[Parallel(n_jobs=-1)]: Done  42 tasks      | elapsed:    6.4s\n",
      "[Parallel(n_jobs=-1)]: Done 192 tasks      | elapsed:   22.4s\n",
      "[Parallel(n_jobs=-1)]: Done 442 tasks      | elapsed:  1.4min\n",
      "[Parallel(n_jobs=-1)]: Done 500 out of 500 | elapsed:  1.7min finished\n"
     ]
    },
    {
     "data": {
      "text/plain": [
       "GridSearchCV(cv=5,\n",
       "             estimator=Pipeline(steps=[('smote',\n",
       "                                        SMOTE(n_jobs=-1, random_state=777,\n",
       "                                              sampling_strategy=1)),\n",
       "                                       ('xgbclassifier',\n",
       "                                        XGBClassifier(base_score=None,\n",
       "                                                      booster=None,\n",
       "                                                      colsample_bylevel=None,\n",
       "                                                      colsample_bynode=None,\n",
       "                                                      colsample_bytree=None,\n",
       "                                                      gamma=None, gpu_id=None,\n",
       "                                                      importance_type='gain',\n",
       "                                                      interaction_constraints=None,\n",
       "                                                      learning_rate=None,\n",
       "                                                      max_delta_step=None,\n",
       "                                                      m...\n",
       "                                                      scale_pos_weight=None,\n",
       "                                                      subsample=None,\n",
       "                                                      tree_method=None,\n",
       "                                                      validate_parameters=None,\n",
       "                                                      verbosity=None))]),\n",
       "             n_jobs=-1,\n",
       "             param_grid={'xgbclassifier__booster': ['gbtree', 'dart'],\n",
       "                         'xgbclassifier__learning_rate': [0.05, 0.1, 0.15, 0.2,\n",
       "                                                          0.25],\n",
       "                         'xgbclassifier__max_depth': [1, 2],\n",
       "                         'xgbclassifier__n_estimators': [100, 150, 200, 250,\n",
       "                                                         300],\n",
       "                         'xgbclassifier__random_state': [777]},\n",
       "             scoring='precision', verbose=1)"
      ]
     },
     "execution_count": 132,
     "metadata": {},
     "output_type": "execute_result"
    }
   ],
   "source": [
    "# Grid search with my parameters\n",
    "grid_xgb = GridSearchCV(pipeline_xgb, param_grid = new_params_xgb, cv = 5, n_jobs = -1, verbose = 1, scoring = 'precision')\n",
    "\n",
    "grid_xgb.fit(X_train,y_train)"
   ]
  },
  {
   "cell_type": "code",
   "execution_count": 133,
   "metadata": {},
   "outputs": [],
   "source": [
    "# Save grid_xgb using Pickle\n",
    "#file_xgb = 'grid_xgb_cov.sav'\n",
    "#pickle.dump(grid_xgb, open(file_xgb, 'wb'))"
   ]
  },
  {
   "cell_type": "code",
   "execution_count": 134,
   "metadata": {},
   "outputs": [],
   "source": [
    "#file_xgb = 'grid_xgb_cov.sav'\n",
    "#loaded_xgb = pickle.load(open(file_xgb, 'rb'))"
   ]
  },
  {
   "cell_type": "code",
   "execution_count": 135,
   "metadata": {
    "scrolled": true
   },
   "outputs": [
    {
     "data": {
      "text/plain": [
       "{'xgbclassifier__booster': 'gbtree',\n",
       " 'xgbclassifier__learning_rate': 0.2,\n",
       " 'xgbclassifier__max_depth': 2,\n",
       " 'xgbclassifier__n_estimators': 150,\n",
       " 'xgbclassifier__random_state': 777}"
      ]
     },
     "execution_count": 135,
     "metadata": {},
     "output_type": "execute_result"
    }
   ],
   "source": [
    "# Best parameters for Extreme Gradient Boost!\n",
    "grid_xgb.best_params_"
   ]
  },
  {
   "cell_type": "code",
   "execution_count": 136,
   "metadata": {
    "scrolled": true
   },
   "outputs": [
    {
     "name": "stdout",
     "output_type": "stream",
     "text": [
      "Train accuracy: 97.04%\n",
      "Test accuracy: 82.22%\n"
     ]
    }
   ],
   "source": [
    "# Train Accuracy\n",
    "grid_xgb_train_acc = grid_xgb.best_estimator_.score(X_train, y_train)\n",
    "\n",
    "# Test Accuracy\n",
    "grid_xgb_test_acc = grid_xgb.best_estimator_.score(X_test, y_test)\n",
    "\n",
    "print(f'Train accuracy: {round(grid_xgb_train_acc * 100,2)}%')\n",
    "print(f'Test accuracy: {round(grid_xgb_test_acc * 100,2)}%')"
   ]
  },
  {
   "cell_type": "code",
   "execution_count": 137,
   "metadata": {
    "scrolled": true
   },
   "outputs": [
    {
     "name": "stdout",
     "output_type": "stream",
     "text": [
      "              precision    recall  f1-score   support\n",
      "\n",
      "           0       0.90      0.87      0.88       208\n",
      "           1       0.60      0.68      0.64        62\n",
      "\n",
      "    accuracy                           0.82       270\n",
      "   macro avg       0.75      0.77      0.76       270\n",
      "weighted avg       0.83      0.82      0.83       270\n",
      "\n",
      "ROC AUC Score: 0.77\n"
     ]
    }
   ],
   "source": [
    "print(classification_report(y_test, grid_xgb.best_estimator_.predict(X_test)))\n",
    "print(f'ROC AUC Score: {round(roc_auc_score(y_test, grid_xgb.best_estimator_.predict(X_test)),2)}')"
   ]
  },
  {
   "cell_type": "code",
   "execution_count": 138,
   "metadata": {},
   "outputs": [],
   "source": [
    "# Store best tuned XGB accuracies with upsampled data\n",
    "train.append(grid_xgb_train_acc)\n",
    "test.append(grid_xgb_test_acc)"
   ]
  },
  {
   "cell_type": "code",
   "execution_count": 139,
   "metadata": {},
   "outputs": [],
   "source": [
    "# Store best tuned LR precision and recall of upsampled data\n",
    "precision.append(classification_report(y_test, grid_xgb.best_estimator_.predict(X_test), output_dict = True)['1']['precision'])\n",
    "recall.append(classification_report(y_test, grid_xgb.best_estimator_.predict(X_test), output_dict = True)['1']['recall'])"
   ]
  },
  {
   "cell_type": "markdown",
   "metadata": {},
   "source": [
    "### <u>Voting Classifier</u>"
   ]
  },
  {
   "cell_type": "markdown",
   "metadata": {},
   "source": [
    "&nbsp;&nbsp;&nbsp;&nbsp;&nbsp;&nbsp;I had one big choice to make with vote parameter. Default is hard vote and I elect to use the default over soft vote.\n",
    "\n",
    "&nbsp;&nbsp;&nbsp;&nbsp;&nbsp;&nbsp;Hard vote chooses the majority outcome whereas soft vote chooses class with most certainty. Since performances in five models earlier were similar I figured aggregating in hard vote makes more sense as I have binary outcome and odd number of sub-models."
   ]
  },
  {
   "cell_type": "code",
   "execution_count": 140,
   "metadata": {},
   "outputs": [],
   "source": [
    "from sklearn.ensemble import VotingClassifier"
   ]
  },
  {
   "cell_type": "code",
   "execution_count": 141,
   "metadata": {},
   "outputs": [],
   "source": [
    "# Prepare voting classifier with best tuned sub-models previously\n",
    "vc = VotingClassifier(estimators = [('lr', grid_lr.best_estimator_), ('knn', grid_knn.best_estimator_),\n",
    "                                    ('rf', grid_rf.best_estimator_), ('svm', grid_svm.best_estimator_),\n",
    "                                    ('xgb', grid_xgb.best_estimator_)])"
   ]
  },
  {
   "cell_type": "code",
   "execution_count": 142,
   "metadata": {
    "scrolled": false
   },
   "outputs": [
    {
     "data": {
      "text/plain": [
       "VotingClassifier(estimators=[('lr',\n",
       "                              Pipeline(steps=[('smote',\n",
       "                                               SMOTE(n_jobs=-1,\n",
       "                                                     random_state=777,\n",
       "                                                     sampling_strategy=1)),\n",
       "                                              ('logisticregression',\n",
       "                                               LogisticRegression(C=10,\n",
       "                                                                  class_weight='balanced',\n",
       "                                                                  random_state=777,\n",
       "                                                                  solver='newton-cg'))])),\n",
       "                             ('knn',\n",
       "                              Pipeline(steps=[('smote',\n",
       "                                               SMOTE(n_jobs=-1,\n",
       "                                                     random_state=777,\n",
       "                                                     sampling_strategy=1)),\n",
       "                                              ('kneighborsclassifier',\n",
       "                                               KNeighborsCla...\n",
       "                                                             gamma=0, gpu_id=-1,\n",
       "                                                             importance_type='gain',\n",
       "                                                             interaction_constraints='',\n",
       "                                                             learning_rate=0.2,\n",
       "                                                             max_delta_step=0,\n",
       "                                                             max_depth=2,\n",
       "                                                             min_child_weight=1,\n",
       "                                                             missing=nan,\n",
       "                                                             monotone_constraints='()',\n",
       "                                                             n_estimators=150,\n",
       "                                                             n_jobs=0,\n",
       "                                                             num_parallel_tree=1,\n",
       "                                                             random_state=777,\n",
       "                                                             reg_alpha=0,\n",
       "                                                             reg_lambda=1,\n",
       "                                                             scale_pos_weight=1,\n",
       "                                                             subsample=1,\n",
       "                                                             tree_method='exact',\n",
       "                                                             validate_parameters=1,\n",
       "                                                             verbosity=None))]))])"
      ]
     },
     "execution_count": 142,
     "metadata": {},
     "output_type": "execute_result"
    }
   ],
   "source": [
    "vc.fit(X_train, y_train)"
   ]
  },
  {
   "cell_type": "code",
   "execution_count": 143,
   "metadata": {
    "scrolled": false
   },
   "outputs": [
    {
     "data": {
      "text/plain": [
       "[Pipeline(steps=[('smote',\n",
       "                  SMOTE(n_jobs=-1, random_state=777, sampling_strategy=1)),\n",
       "                 ('logisticregression',\n",
       "                  LogisticRegression(C=10, class_weight='balanced',\n",
       "                                     random_state=777, solver='newton-cg'))]),\n",
       " Pipeline(steps=[('smote',\n",
       "                  SMOTE(n_jobs=-1, random_state=777, sampling_strategy=1)),\n",
       "                 ('kneighborsclassifier',\n",
       "                  KNeighborsClassifier(metric='euclidean', n_neighbors=3))]),\n",
       " Pipeline(steps=[('smote',\n",
       "                  SMOTE(n_jobs=-1, random_state=777, sampling_strategy=1)),\n",
       "                 ('randomforestclassifier',\n",
       "                  RandomForestClassifier(max_depth=3, min_samples_leaf=5,\n",
       "                                         n_estimators=50, random_state=777))]),\n",
       " Pipeline(steps=[('smote',\n",
       "                  SMOTE(n_jobs=-1, random_state=777, sampling_strategy=1)),\n",
       "                 ('svc',\n",
       "                  SVC(C=100, gamma='auto', probability=True, random_state=777))]),\n",
       " Pipeline(steps=[('smote',\n",
       "                  SMOTE(n_jobs=-1, random_state=777, sampling_strategy=1)),\n",
       "                 ('xgbclassifier',\n",
       "                  XGBClassifier(base_score=0.5, booster='gbtree',\n",
       "                                colsample_bylevel=1, colsample_bynode=1,\n",
       "                                colsample_bytree=1, gamma=0, gpu_id=-1,\n",
       "                                importance_type='gain',\n",
       "                                interaction_constraints='', learning_rate=0.2,\n",
       "                                max_delta_step=0, max_depth=2,\n",
       "                                min_child_weight=1, missing=nan,\n",
       "                                monotone_constraints='()', n_estimators=150,\n",
       "                                n_jobs=0, num_parallel_tree=1, random_state=777,\n",
       "                                reg_alpha=0, reg_lambda=1, scale_pos_weight=1,\n",
       "                                subsample=1, tree_method='exact',\n",
       "                                validate_parameters=1, verbosity=None))])]"
      ]
     },
     "execution_count": 143,
     "metadata": {},
     "output_type": "execute_result"
    }
   ],
   "source": [
    "vc.estimators_"
   ]
  },
  {
   "cell_type": "code",
   "execution_count": 144,
   "metadata": {
    "scrolled": true
   },
   "outputs": [
    {
     "name": "stdout",
     "output_type": "stream",
     "text": [
      "Train accuracy: 94.53%\n",
      "Test accuracy: 82.22%\n"
     ]
    }
   ],
   "source": [
    "# Train Accuracy\n",
    "vc_train_acc = vc.score(X_train_up, y_train_up)\n",
    "\n",
    "# Test Accuracy\n",
    "vc_test_acc =vc.score(X_test, y_test)\n",
    "\n",
    "print(f'Train accuracy: {round(vc_train_acc * 100,2)}%')\n",
    "print(f'Test accuracy: {round(vc_test_acc * 100,2)}%')"
   ]
  },
  {
   "cell_type": "code",
   "execution_count": 145,
   "metadata": {
    "scrolled": true
   },
   "outputs": [
    {
     "name": "stdout",
     "output_type": "stream",
     "text": [
      "              precision    recall  f1-score   support\n",
      "\n",
      "           0       0.92      0.85      0.88       208\n",
      "           1       0.59      0.74      0.66        62\n",
      "\n",
      "    accuracy                           0.82       270\n",
      "   macro avg       0.75      0.79      0.77       270\n",
      "weighted avg       0.84      0.82      0.83       270\n",
      "\n",
      "ROC AUC Score: 0.79\n"
     ]
    }
   ],
   "source": [
    "print(classification_report(y_test, vc.predict(X_test)))\n",
    "\n",
    "print(f'ROC AUC Score: {round(roc_auc_score(y_test, vc.predict(X_test)),2)}')"
   ]
  },
  {
   "cell_type": "code",
   "execution_count": 146,
   "metadata": {},
   "outputs": [],
   "source": [
    "# Store best tuned VC accuracies with upsampled data\n",
    "train.append(vc_train_acc)\n",
    "test.append(vc_test_acc)"
   ]
  },
  {
   "cell_type": "code",
   "execution_count": 147,
   "metadata": {},
   "outputs": [],
   "source": [
    "# Store best tuned LR precision and recall of upsampled data\n",
    "precision.append(classification_report(y_test, vc.predict(X_test), output_dict = True)['1']['precision'])\n",
    "recall.append(classification_report(y_test, vc.predict(X_test), output_dict = True)['1']['recall'])"
   ]
  },
  {
   "cell_type": "code",
   "execution_count": 148,
   "metadata": {
    "scrolled": true
   },
   "outputs": [],
   "source": [
    "# Add the stored results for analysis\n",
    "tuned_result_df['train_acc'] = train\n",
    "tuned_result_df['test_acc'] = test\n",
    "tuned_result_df['precision'] = precision\n",
    "tuned_result_df['recall'] = recall"
   ]
  },
  {
   "cell_type": "code",
   "execution_count": 149,
   "metadata": {
    "scrolled": true
   },
   "outputs": [
    {
     "data": {
      "text/html": [
       "<div>\n",
       "<style scoped>\n",
       "    .dataframe tbody tr th:only-of-type {\n",
       "        vertical-align: middle;\n",
       "    }\n",
       "\n",
       "    .dataframe tbody tr th {\n",
       "        vertical-align: top;\n",
       "    }\n",
       "\n",
       "    .dataframe thead th {\n",
       "        text-align: right;\n",
       "    }\n",
       "</style>\n",
       "<table border=\"1\" class=\"dataframe\">\n",
       "  <thead>\n",
       "    <tr style=\"text-align: right;\">\n",
       "      <th></th>\n",
       "      <th>train_acc</th>\n",
       "      <th>test_acc</th>\n",
       "      <th>precision</th>\n",
       "      <th>recall</th>\n",
       "    </tr>\n",
       "  </thead>\n",
       "  <tbody>\n",
       "    <tr>\n",
       "      <th>LR</th>\n",
       "      <td>0.870370</td>\n",
       "      <td>0.818519</td>\n",
       "      <td>0.574713</td>\n",
       "      <td>0.806452</td>\n",
       "    </tr>\n",
       "    <tr>\n",
       "      <th>KNN</th>\n",
       "      <td>0.893519</td>\n",
       "      <td>0.718519</td>\n",
       "      <td>0.436364</td>\n",
       "      <td>0.774194</td>\n",
       "    </tr>\n",
       "    <tr>\n",
       "      <th>RF</th>\n",
       "      <td>0.862037</td>\n",
       "      <td>0.803704</td>\n",
       "      <td>0.550562</td>\n",
       "      <td>0.790323</td>\n",
       "    </tr>\n",
       "    <tr>\n",
       "      <th>SVM</th>\n",
       "      <td>0.923148</td>\n",
       "      <td>0.825926</td>\n",
       "      <td>0.594937</td>\n",
       "      <td>0.758065</td>\n",
       "    </tr>\n",
       "    <tr>\n",
       "      <th>XGB</th>\n",
       "      <td>0.970370</td>\n",
       "      <td>0.822222</td>\n",
       "      <td>0.600000</td>\n",
       "      <td>0.677419</td>\n",
       "    </tr>\n",
       "    <tr>\n",
       "      <th>VC</th>\n",
       "      <td>0.945312</td>\n",
       "      <td>0.822222</td>\n",
       "      <td>0.589744</td>\n",
       "      <td>0.741935</td>\n",
       "    </tr>\n",
       "  </tbody>\n",
       "</table>\n",
       "</div>"
      ],
      "text/plain": [
       "     train_acc  test_acc  precision    recall\n",
       "LR    0.870370  0.818519   0.574713  0.806452\n",
       "KNN   0.893519  0.718519   0.436364  0.774194\n",
       "RF    0.862037  0.803704   0.550562  0.790323\n",
       "SVM   0.923148  0.825926   0.594937  0.758065\n",
       "XGB   0.970370  0.822222   0.600000  0.677419\n",
       "VC    0.945312  0.822222   0.589744  0.741935"
      ]
     },
     "execution_count": 149,
     "metadata": {},
     "output_type": "execute_result"
    }
   ],
   "source": [
    "tuned_result_df"
   ]
  },
  {
   "cell_type": "markdown",
   "metadata": {},
   "source": [
    "&nbsp;&nbsp;&nbsp;&nbsp;&nbsp;&nbsp;I will plot AUC-ROC curve. It is another evaluation metric. AUC is area under the curve and is the measurement of ability of a classifer to dinstinguish classes. ROC is receiver operator characteristic and is a probability curve that plots True Positive Rate against False Positive Rate at different thresholds. Along with tuned_result_df, it will help me determine which model performed the best."
   ]
  },
  {
   "cell_type": "code",
   "execution_count": 150,
   "metadata": {},
   "outputs": [
    {
     "data": {
      "image/png": "[encoded data removed]",
      "text/plain": [
       "<Figure size 720x720 with 1 Axes>"
      ]
     },
     "metadata": {
      "needs_background": "light"
     },
     "output_type": "display_data"
    }
   ],
   "source": [
    "# For ROC / AUC need the probability scores (for the positive class)\n",
    "# Voting classifier is not here as it does not have predict_proba when it is in hard vote\n",
    "from sklearn.metrics import roc_curve\n",
    "\n",
    "# Predict the probabilities\n",
    "y_lr = grid_lr.best_estimator_.predict_proba(X_test)[:, 1]\n",
    "y_knn = grid_knn.best_estimator_.predict_proba(X_test)[:, 1]\n",
    "y_rf = grid_rf.best_estimator_.predict_proba(X_test)[:, 1]\n",
    "y_svm = grid_svm.best_estimator_.predict_proba(X_test)[:, 1]\n",
    "y_xgb = grid_xgb.best_estimator_.predict_proba(X_test)[:, 1]\n",
    "\n",
    "# Calculate the thresholds, fprs, and tprs\n",
    "fpr1, tpr1, thresholds1 = roc_curve(y_test, y_lr)\n",
    "fpr2, tpr2, thresholds2 = roc_curve(y_test, y_knn)\n",
    "fpr3, tpr3, thresholds3 = roc_curve(y_test, y_rf)\n",
    "fpr4, tpr4, thresholds4 = roc_curve(y_test, y_svm)\n",
    "fpr5, tpr5, thresholds5 = roc_curve(y_test, y_xgb)\n",
    "\n",
    "# Calculate AUCs\n",
    "lr_auc = roc_auc_score(y_test, y_lr)\n",
    "knn_auc = roc_auc_score(y_test, y_knn)\n",
    "rf_auc = roc_auc_score(y_test, y_rf)\n",
    "svm_auc = roc_auc_score(y_test, y_svm) \n",
    "xgb_auc = roc_auc_score(y_test, y_xgb) \n",
    "\n",
    "\n",
    "# Plot the ROC curves for each\n",
    "plt.figure(figsize = (10,10))\n",
    "plt.plot(fpr1, tpr1, label=f'LR AUC:{np.around(lr_auc ,2)}', marker='.')\n",
    "plt.plot(fpr2, tpr2, label=f'KNN AUC:{np.around(knn_auc,2)}', marker='o')\n",
    "plt.plot(fpr3, tpr3, label=f'RF AUC: {np.around(rf_auc,2)}', marker='.')\n",
    "plt.plot(fpr4, tpr4, label=f'SVM AUC: {np.around(svm_auc,2)}', marker='.')\n",
    "plt.plot(fpr5, tpr5, label=f'XGB AUC: {np.around(xgb_auc,2)}', marker='.')\n",
    "\n",
    "# Reference line\n",
    "plt.plot([0,1],[0,1], color='black', linestyle='--')\n",
    "plt.legend()\n",
    "plt.xlabel('False Positive Rate (FPR)')\n",
    "plt.ylabel('True Postivie Rate (TPR)')\n",
    "plt.title('AUC-ROC Curves for Models', fontsize = 15)\n",
    "plt.show()"
   ]
  },
  {
   "cell_type": "markdown",
   "metadata": {},
   "source": [
    "&nbsp;&nbsp;&nbsp;&nbsp;&nbsp;&nbsp;It is extremely disappointing to see there was no real improvement in precision which I was hoping to find doing hyperparameter optimization. I suspect this low precision is due to limitation of data. KNN performed worst in precision and this tells me it is having extra difficult time solid boundary. There is probably alot of ambiguous cases for KNN to perform as the model looks at a number of different points to come up with decisions and I can see why KNN struggels the most. Only four teams made the MLB playoff before expansion in 1995 which is about half of my data. Current format takes in ten teams so models have hard time setting the boundaries as some teams from pre-expansion of playoff would be shoe in to the playoff but due to the harsh format, they did not. Because of this, there is very strong uncertainty in boundaries leading to almost 'crap shoot'.\n",
    "\n",
    "&nbsp;&nbsp;&nbsp;&nbsp;&nbsp;&nbsp;AUC-ROC tells similar story. All the models but KNN are performing on par. KNN is slightly underperforming and I think what I just wrote earlier is the cause for it. \n",
    "\n",
    "&nbsp;&nbsp;&nbsp;&nbsp;&nbsp;&nbsp;Before diving in deeper, I'd like to share brief background information on expansions of MLB playoff. Pre-expansion from 1969 to 1993, only four teams made the playoff. First expansion took place in 1995, right after players' strike cancelled 1994 playoff, with introduction of wildcard format and brought the number to eight teams. Second expansion took place in 2012 and total number of teams making playoff to ten. I hope you can see why I am blaming low precision on data as well. These different formats cause very ambiguous boundary cases for models to predict on. Some teams that might have made playoff easily might not make the playoff purely due to the format of the playoff.\n",
    "\n",
    "&nbsp;&nbsp;&nbsp;&nbsp;&nbsp;&nbsp;I will take on following to further inspect what is happening and causing such low precisions:\n",
    "\n",
    "* I will move threshold to see if I could maximize precision and recall in class 1. \n",
    "\n",
    "* I will inspect the False Positive data points and see where they are from. If majority come from pre-expansion of playoff, I can change the data I modelled on.\n",
    "\n",
    "&nbsp;&nbsp;&nbsp;&nbsp;&nbsp;&nbsp;I will carry on with best model for Logistic Regression though SVM has competing performance as well. LR and SVM have similar AUCs and ROCs almost overlap. Not significant difference is visible on result df as well. It is personal choice really as LR is a bit more interpretable for my taste."
   ]
  },
  {
   "cell_type": "markdown",
   "metadata": {},
   "source": [
    "<hr style=\"border:2px solid gray\"> </hr>\n",
    "\n",
    "## Analysis for Cause of Low Precision in Category 1\n",
    "\n",
    "&nbsp;&nbsp;&nbsp;&nbsp;&nbsp;&nbsp;I will start off by analyzing if there is a threshold that maximizes both recall and precision. Then I will inspect False Positives so I understand what happened in those."
   ]
  },
  {
   "cell_type": "code",
   "execution_count": 151,
   "metadata": {
    "scrolled": true
   },
   "outputs": [],
   "source": [
    "# This is predicted probability in test set\n",
    "y_proba = grid_lr.best_estimator_.predict_proba(X_test)[:,1]"
   ]
  },
  {
   "cell_type": "code",
   "execution_count": 152,
   "metadata": {
    "scrolled": false
   },
   "outputs": [
    {
     "data": {
      "image/png": "[encoded data removed]",
      "text/plain": [
       "<Figure size 432x288 with 1 Axes>"
      ]
     },
     "metadata": {
      "needs_background": "light"
     },
     "output_type": "display_data"
    }
   ],
   "source": [
    "# Import necessary packages\n",
    "from sklearn.metrics import accuracy_score\n",
    "from sklearn.metrics import precision_score\n",
    "from sklearn.metrics import recall_score\n",
    "\n",
    "# Vary thresholds by 0.05 from 0.05 to 0.95\n",
    "thresholds = np.arange(0.05, 1, 0.05)\n",
    "\n",
    "# Storing precisions and recalls in lists for plotting later\n",
    "precisions = list()\n",
    "recalls = list()\n",
    "\n",
    "# Loop to find in order to maximize the precision and recall by adjusting threshold\n",
    "for threshold in thresholds:\n",
    "\n",
    "    # Apply threshold and 'predict' using the adjusted threshold\n",
    "    y_threshold = np.where(y_proba > threshold, 1, 0)\n",
    "    \n",
    "    # Calculate precision and recall. Added _graph in variable name as I am using precision and recall for something else\n",
    "    precision_graph = precision_score(y_test, y_threshold)\n",
    "    recall_graph = recall_score(y_test, y_threshold)\n",
    "    \n",
    "    # Append to list for visualization\n",
    "    precisions.append(precision_graph)\n",
    "    recalls.append(recall_graph)\n",
    "\n",
    "# Visualize the result\n",
    "plt.figure()\n",
    "plt.plot(thresholds, precisions, label='precision', marker='o')\n",
    "plt.plot(thresholds, recalls, label='recall', marker='o')\n",
    "plt.xlim(0, 1)\n",
    "plt.xlabel('threshold')\n",
    "plt.ylabel('score')\n",
    "plt.legend()\n",
    "plt.show()"
   ]
  },
  {
   "cell_type": "code",
   "execution_count": 153,
   "metadata": {},
   "outputs": [
    {
     "data": {
      "text/plain": [
       "(0.5747126436781609, 0.8064516129032258)"
      ]
     },
     "execution_count": 153,
     "metadata": {},
     "output_type": "execute_result"
    }
   ],
   "source": [
    "# This is precision and recall for default threshold at 0.5\n",
    "precisions[9], recalls[9]"
   ]
  },
  {
   "cell_type": "markdown",
   "metadata": {},
   "source": [
    "&nbsp;&nbsp;&nbsp;&nbsp;&nbsp;&nbsp;With current threshold at 0.5 I have precision of 0.57 and recall of 0.81 for class 1, teams in playoff. I do not think I can justify adjusting threshold to maximize the precision. There is big drop-off in recall and it essentially erase the boost in recall that I got from upsampling. I will carry on with examples are predicted as 1 but in actual 0, False Positives."
   ]
  },
  {
   "cell_type": "code",
   "execution_count": 154,
   "metadata": {},
   "outputs": [],
   "source": [
    "# Empty dataframe. Strictly there as a placeholder so when I run multiple times, I instantiate a empty dataframe\n",
    "lr_analysis = pd.DataFrame()\n",
    "\n",
    "# Creating dataframe for analysis. First column with 'playoff_appearance'\n",
    "lr_analysis['playoff_appearance'] = y_test"
   ]
  },
  {
   "cell_type": "code",
   "execution_count": 155,
   "metadata": {},
   "outputs": [],
   "source": [
    "# Variable for outcomes of X_test\n",
    "y_pred = grid_lr.best_estimator_.predict(X_test)"
   ]
  },
  {
   "cell_type": "code",
   "execution_count": 156,
   "metadata": {},
   "outputs": [],
   "source": [
    "# Adding two columns with 'prediction' and 'predicted_proba'\n",
    "lr_analysis['prediction'] = y_pred\n",
    "lr_analysis['predicted_proba'] = y_proba"
   ]
  },
  {
   "cell_type": "code",
   "execution_count": 157,
   "metadata": {
    "scrolled": true
   },
   "outputs": [],
   "source": [
    "# Merge 'team' and 'year' column from df_scaled\n",
    "lr_analysis = lr_analysis.merge(df_scaled.iloc[:,-3:-1], left_index = True, right_index = True)"
   ]
  },
  {
   "cell_type": "code",
   "execution_count": 158,
   "metadata": {
    "scrolled": true
   },
   "outputs": [
    {
     "data": {
      "text/plain": [
       "49"
      ]
     },
     "execution_count": 158,
     "metadata": {},
     "output_type": "execute_result"
    }
   ],
   "source": [
    "# See how many rows are either False Positive or False Negative\n",
    "len(lr_analysis[lr_analysis['prediction'] != lr_analysis['playoff_appearance']])"
   ]
  },
  {
   "cell_type": "code",
   "execution_count": 159,
   "metadata": {},
   "outputs": [
    {
     "data": {
      "text/html": [
       "<div>\n",
       "<style scoped>\n",
       "    .dataframe tbody tr th:only-of-type {\n",
       "        vertical-align: middle;\n",
       "    }\n",
       "\n",
       "    .dataframe tbody tr th {\n",
       "        vertical-align: top;\n",
       "    }\n",
       "\n",
       "    .dataframe thead th {\n",
       "        text-align: right;\n",
       "    }\n",
       "</style>\n",
       "<table border=\"1\" class=\"dataframe\">\n",
       "  <thead>\n",
       "    <tr style=\"text-align: right;\">\n",
       "      <th></th>\n",
       "      <th>playoff_appearance</th>\n",
       "      <th>prediction</th>\n",
       "      <th>predicted_proba</th>\n",
       "      <th>team</th>\n",
       "      <th>year</th>\n",
       "    </tr>\n",
       "  </thead>\n",
       "  <tbody>\n",
       "    <tr>\n",
       "      <th>146</th>\n",
       "      <td>1</td>\n",
       "      <td>1</td>\n",
       "      <td>5.550318e-01</td>\n",
       "      <td>BOS</td>\n",
       "      <td>1975</td>\n",
       "    </tr>\n",
       "    <tr>\n",
       "      <th>834</th>\n",
       "      <td>1</td>\n",
       "      <td>1</td>\n",
       "      <td>7.504633e-01</td>\n",
       "      <td>STL</td>\n",
       "      <td>2000</td>\n",
       "    </tr>\n",
       "    <tr>\n",
       "      <th>582</th>\n",
       "      <td>1</td>\n",
       "      <td>1</td>\n",
       "      <td>9.529258e-01</td>\n",
       "      <td>ATL</td>\n",
       "      <td>1992</td>\n",
       "    </tr>\n",
       "    <tr>\n",
       "      <th>356</th>\n",
       "      <td>0</td>\n",
       "      <td>1</td>\n",
       "      <td>7.080318e-01</td>\n",
       "      <td>DET</td>\n",
       "      <td>1983</td>\n",
       "    </tr>\n",
       "    <tr>\n",
       "      <th>1000</th>\n",
       "      <td>0</td>\n",
       "      <td>0</td>\n",
       "      <td>7.389651e-06</td>\n",
       "      <td>KCR</td>\n",
       "      <td>2006</td>\n",
       "    </tr>\n",
       "    <tr>\n",
       "      <th>...</th>\n",
       "      <td>...</td>\n",
       "      <td>...</td>\n",
       "      <td>...</td>\n",
       "      <td>...</td>\n",
       "      <td>...</td>\n",
       "    </tr>\n",
       "    <tr>\n",
       "      <th>303</th>\n",
       "      <td>0</td>\n",
       "      <td>0</td>\n",
       "      <td>6.661934e-03</td>\n",
       "      <td>CLE</td>\n",
       "      <td>1981</td>\n",
       "    </tr>\n",
       "    <tr>\n",
       "      <th>192</th>\n",
       "      <td>0</td>\n",
       "      <td>0</td>\n",
       "      <td>1.245821e-04</td>\n",
       "      <td>ATL</td>\n",
       "      <td>1977</td>\n",
       "    </tr>\n",
       "    <tr>\n",
       "      <th>44</th>\n",
       "      <td>0</td>\n",
       "      <td>0</td>\n",
       "      <td>2.329376e-04</td>\n",
       "      <td>SDP</td>\n",
       "      <td>1970</td>\n",
       "    </tr>\n",
       "    <tr>\n",
       "      <th>269</th>\n",
       "      <td>0</td>\n",
       "      <td>0</td>\n",
       "      <td>6.049572e-07</td>\n",
       "      <td>TOR</td>\n",
       "      <td>1979</td>\n",
       "    </tr>\n",
       "    <tr>\n",
       "      <th>631</th>\n",
       "      <td>0</td>\n",
       "      <td>0</td>\n",
       "      <td>3.309381e-01</td>\n",
       "      <td>SEA</td>\n",
       "      <td>1993</td>\n",
       "    </tr>\n",
       "  </tbody>\n",
       "</table>\n",
       "<p>270 rows × 5 columns</p>\n",
       "</div>"
      ],
      "text/plain": [
       "      playoff_appearance  prediction  predicted_proba team  year\n",
       "146                    1           1     5.550318e-01  BOS  1975\n",
       "834                    1           1     7.504633e-01  STL  2000\n",
       "582                    1           1     9.529258e-01  ATL  1992\n",
       "356                    0           1     7.080318e-01  DET  1983\n",
       "1000                   0           0     7.389651e-06  KCR  2006\n",
       "...                  ...         ...              ...  ...   ...\n",
       "303                    0           0     6.661934e-03  CLE  1981\n",
       "192                    0           0     1.245821e-04  ATL  1977\n",
       "44                     0           0     2.329376e-04  SDP  1970\n",
       "269                    0           0     6.049572e-07  TOR  1979\n",
       "631                    0           0     3.309381e-01  SEA  1993\n",
       "\n",
       "[270 rows x 5 columns]"
      ]
     },
     "execution_count": 159,
     "metadata": {},
     "output_type": "execute_result"
    }
   ],
   "source": [
    "# Test set with prediction and prediction_proba\n",
    "lr_analysis"
   ]
  },
  {
   "cell_type": "code",
   "execution_count": 160,
   "metadata": {},
   "outputs": [],
   "source": [
    "# These are rows that are predicted 1 and in actual 0, False Positives. I want to dive deeper on these\n",
    "rows_of_interest = lr_analysis[(lr_analysis['prediction'] == 1) & (lr_analysis['playoff_appearance'] == 0)]"
   ]
  },
  {
   "cell_type": "code",
   "execution_count": 161,
   "metadata": {
    "scrolled": false
   },
   "outputs": [
    {
     "data": {
      "text/plain": [
       "37"
      ]
     },
     "execution_count": 161,
     "metadata": {},
     "output_type": "execute_result"
    }
   ],
   "source": [
    "# Number of FP\n",
    "len(rows_of_interest)"
   ]
  },
  {
   "cell_type": "code",
   "execution_count": 162,
   "metadata": {
    "scrolled": false
   },
   "outputs": [
    {
     "data": {
      "text/html": [
       "<div>\n",
       "<style scoped>\n",
       "    .dataframe tbody tr th:only-of-type {\n",
       "        vertical-align: middle;\n",
       "    }\n",
       "\n",
       "    .dataframe tbody tr th {\n",
       "        vertical-align: top;\n",
       "    }\n",
       "\n",
       "    .dataframe thead th {\n",
       "        text-align: right;\n",
       "    }\n",
       "</style>\n",
       "<table border=\"1\" class=\"dataframe\">\n",
       "  <thead>\n",
       "    <tr style=\"text-align: right;\">\n",
       "      <th></th>\n",
       "      <th>playoff_appearance</th>\n",
       "      <th>prediction</th>\n",
       "      <th>predicted_proba</th>\n",
       "      <th>team</th>\n",
       "      <th>year</th>\n",
       "    </tr>\n",
       "  </thead>\n",
       "  <tbody>\n",
       "    <tr>\n",
       "      <th>356</th>\n",
       "      <td>0</td>\n",
       "      <td>1</td>\n",
       "      <td>0.708032</td>\n",
       "      <td>DET</td>\n",
       "      <td>1983</td>\n",
       "    </tr>\n",
       "    <tr>\n",
       "      <th>863</th>\n",
       "      <td>0</td>\n",
       "      <td>1</td>\n",
       "      <td>0.917755</td>\n",
       "      <td>SFG</td>\n",
       "      <td>2001</td>\n",
       "    </tr>\n",
       "    <tr>\n",
       "      <th>1001</th>\n",
       "      <td>0</td>\n",
       "      <td>1</td>\n",
       "      <td>0.807221</td>\n",
       "      <td>LAA</td>\n",
       "      <td>2006</td>\n",
       "    </tr>\n",
       "    <tr>\n",
       "      <th>467</th>\n",
       "      <td>0</td>\n",
       "      <td>1</td>\n",
       "      <td>0.988768</td>\n",
       "      <td>NYM</td>\n",
       "      <td>1987</td>\n",
       "    </tr>\n",
       "    <tr>\n",
       "      <th>545</th>\n",
       "      <td>0</td>\n",
       "      <td>1</td>\n",
       "      <td>0.971050</td>\n",
       "      <td>NYM</td>\n",
       "      <td>1990</td>\n",
       "    </tr>\n",
       "    <tr>\n",
       "      <th>464</th>\n",
       "      <td>0</td>\n",
       "      <td>1</td>\n",
       "      <td>0.778337</td>\n",
       "      <td>MIL</td>\n",
       "      <td>1987</td>\n",
       "    </tr>\n",
       "    <tr>\n",
       "      <th>136</th>\n",
       "      <td>0</td>\n",
       "      <td>1</td>\n",
       "      <td>0.749236</td>\n",
       "      <td>NYY</td>\n",
       "      <td>1974</td>\n",
       "    </tr>\n",
       "    <tr>\n",
       "      <th>477</th>\n",
       "      <td>0</td>\n",
       "      <td>1</td>\n",
       "      <td>0.998637</td>\n",
       "      <td>TOR</td>\n",
       "      <td>1987</td>\n",
       "    </tr>\n",
       "    <tr>\n",
       "      <th>567</th>\n",
       "      <td>0</td>\n",
       "      <td>1</td>\n",
       "      <td>0.732430</td>\n",
       "      <td>LAD</td>\n",
       "      <td>1991</td>\n",
       "    </tr>\n",
       "    <tr>\n",
       "      <th>120</th>\n",
       "      <td>0</td>\n",
       "      <td>1</td>\n",
       "      <td>0.972974</td>\n",
       "      <td>ATL</td>\n",
       "      <td>1974</td>\n",
       "    </tr>\n",
       "    <tr>\n",
       "      <th>882</th>\n",
       "      <td>0</td>\n",
       "      <td>1</td>\n",
       "      <td>0.833005</td>\n",
       "      <td>LAD</td>\n",
       "      <td>2002</td>\n",
       "    </tr>\n",
       "    <tr>\n",
       "      <th>737</th>\n",
       "      <td>0</td>\n",
       "      <td>1</td>\n",
       "      <td>0.566588</td>\n",
       "      <td>NYM</td>\n",
       "      <td>1997</td>\n",
       "    </tr>\n",
       "    <tr>\n",
       "      <th>1130</th>\n",
       "      <td>0</td>\n",
       "      <td>1</td>\n",
       "      <td>0.944975</td>\n",
       "      <td>SDP</td>\n",
       "      <td>2010</td>\n",
       "    </tr>\n",
       "    <tr>\n",
       "      <th>216</th>\n",
       "      <td>0</td>\n",
       "      <td>1</td>\n",
       "      <td>0.975378</td>\n",
       "      <td>TEX</td>\n",
       "      <td>1977</td>\n",
       "    </tr>\n",
       "    <tr>\n",
       "      <th>211</th>\n",
       "      <td>0</td>\n",
       "      <td>1</td>\n",
       "      <td>0.892026</td>\n",
       "      <td>PIT</td>\n",
       "      <td>1977</td>\n",
       "    </tr>\n",
       "    <tr>\n",
       "      <th>588</th>\n",
       "      <td>0</td>\n",
       "      <td>1</td>\n",
       "      <td>0.822926</td>\n",
       "      <td>CIN</td>\n",
       "      <td>1992</td>\n",
       "    </tr>\n",
       "    <tr>\n",
       "      <th>715</th>\n",
       "      <td>0</td>\n",
       "      <td>1</td>\n",
       "      <td>0.577514</td>\n",
       "      <td>SEA</td>\n",
       "      <td>1996</td>\n",
       "    </tr>\n",
       "    <tr>\n",
       "      <th>126</th>\n",
       "      <td>0</td>\n",
       "      <td>1</td>\n",
       "      <td>0.996922</td>\n",
       "      <td>CIN</td>\n",
       "      <td>1974</td>\n",
       "    </tr>\n",
       "    <tr>\n",
       "      <th>281</th>\n",
       "      <td>0</td>\n",
       "      <td>1</td>\n",
       "      <td>0.792633</td>\n",
       "      <td>LAD</td>\n",
       "      <td>1980</td>\n",
       "    </tr>\n",
       "    <tr>\n",
       "      <th>634</th>\n",
       "      <td>0</td>\n",
       "      <td>1</td>\n",
       "      <td>0.637115</td>\n",
       "      <td>TEX</td>\n",
       "      <td>1993</td>\n",
       "    </tr>\n",
       "    <tr>\n",
       "      <th>842</th>\n",
       "      <td>0</td>\n",
       "      <td>1</td>\n",
       "      <td>0.575297</td>\n",
       "      <td>BOS</td>\n",
       "      <td>2001</td>\n",
       "    </tr>\n",
       "    <tr>\n",
       "      <th>246</th>\n",
       "      <td>0</td>\n",
       "      <td>1</td>\n",
       "      <td>0.552260</td>\n",
       "      <td>BOS</td>\n",
       "      <td>1979</td>\n",
       "    </tr>\n",
       "    <tr>\n",
       "      <th>1209</th>\n",
       "      <td>0</td>\n",
       "      <td>1</td>\n",
       "      <td>0.713166</td>\n",
       "      <td>KCR</td>\n",
       "      <td>2013</td>\n",
       "    </tr>\n",
       "    <tr>\n",
       "      <th>76</th>\n",
       "      <td>0</td>\n",
       "      <td>1</td>\n",
       "      <td>0.882179</td>\n",
       "      <td>CHC</td>\n",
       "      <td>1972</td>\n",
       "    </tr>\n",
       "    <tr>\n",
       "      <th>999</th>\n",
       "      <td>0</td>\n",
       "      <td>1</td>\n",
       "      <td>0.548120</td>\n",
       "      <td>HOU</td>\n",
       "      <td>2006</td>\n",
       "    </tr>\n",
       "    <tr>\n",
       "      <th>469</th>\n",
       "      <td>0</td>\n",
       "      <td>1</td>\n",
       "      <td>0.567735</td>\n",
       "      <td>OAK</td>\n",
       "      <td>1987</td>\n",
       "    </tr>\n",
       "    <tr>\n",
       "      <th>956</th>\n",
       "      <td>0</td>\n",
       "      <td>1</td>\n",
       "      <td>0.642837</td>\n",
       "      <td>TEX</td>\n",
       "      <td>2004</td>\n",
       "    </tr>\n",
       "    <tr>\n",
       "      <th>1194</th>\n",
       "      <td>0</td>\n",
       "      <td>1</td>\n",
       "      <td>0.973470</td>\n",
       "      <td>TBR</td>\n",
       "      <td>2012</td>\n",
       "    </tr>\n",
       "    <tr>\n",
       "      <th>922</th>\n",
       "      <td>0</td>\n",
       "      <td>1</td>\n",
       "      <td>0.589690</td>\n",
       "      <td>SEA</td>\n",
       "      <td>2003</td>\n",
       "    </tr>\n",
       "    <tr>\n",
       "      <th>594</th>\n",
       "      <td>0</td>\n",
       "      <td>1</td>\n",
       "      <td>0.724939</td>\n",
       "      <td>MIL</td>\n",
       "      <td>1992</td>\n",
       "    </tr>\n",
       "    <tr>\n",
       "      <th>242</th>\n",
       "      <td>0</td>\n",
       "      <td>1</td>\n",
       "      <td>0.626643</td>\n",
       "      <td>TEX</td>\n",
       "      <td>1978</td>\n",
       "    </tr>\n",
       "    <tr>\n",
       "      <th>39</th>\n",
       "      <td>0</td>\n",
       "      <td>1</td>\n",
       "      <td>0.684925</td>\n",
       "      <td>NYM</td>\n",
       "      <td>1970</td>\n",
       "    </tr>\n",
       "    <tr>\n",
       "      <th>1079</th>\n",
       "      <td>0</td>\n",
       "      <td>1</td>\n",
       "      <td>0.711581</td>\n",
       "      <td>ATL</td>\n",
       "      <td>2009</td>\n",
       "    </tr>\n",
       "    <tr>\n",
       "      <th>18</th>\n",
       "      <td>0</td>\n",
       "      <td>1</td>\n",
       "      <td>0.529539</td>\n",
       "      <td>PIT</td>\n",
       "      <td>1969</td>\n",
       "    </tr>\n",
       "    <tr>\n",
       "      <th>448</th>\n",
       "      <td>0</td>\n",
       "      <td>1</td>\n",
       "      <td>0.544356</td>\n",
       "      <td>SFG</td>\n",
       "      <td>1986</td>\n",
       "    </tr>\n",
       "    <tr>\n",
       "      <th>53</th>\n",
       "      <td>0</td>\n",
       "      <td>1</td>\n",
       "      <td>0.575326</td>\n",
       "      <td>CWS</td>\n",
       "      <td>1971</td>\n",
       "    </tr>\n",
       "    <tr>\n",
       "      <th>83</th>\n",
       "      <td>0</td>\n",
       "      <td>1</td>\n",
       "      <td>0.816513</td>\n",
       "      <td>LAD</td>\n",
       "      <td>1972</td>\n",
       "    </tr>\n",
       "  </tbody>\n",
       "</table>\n",
       "</div>"
      ],
      "text/plain": [
       "      playoff_appearance  prediction  predicted_proba team  year\n",
       "356                    0           1         0.708032  DET  1983\n",
       "863                    0           1         0.917755  SFG  2001\n",
       "1001                   0           1         0.807221  LAA  2006\n",
       "467                    0           1         0.988768  NYM  1987\n",
       "545                    0           1         0.971050  NYM  1990\n",
       "464                    0           1         0.778337  MIL  1987\n",
       "136                    0           1         0.749236  NYY  1974\n",
       "477                    0           1         0.998637  TOR  1987\n",
       "567                    0           1         0.732430  LAD  1991\n",
       "120                    0           1         0.972974  ATL  1974\n",
       "882                    0           1         0.833005  LAD  2002\n",
       "737                    0           1         0.566588  NYM  1997\n",
       "1130                   0           1         0.944975  SDP  2010\n",
       "216                    0           1         0.975378  TEX  1977\n",
       "211                    0           1         0.892026  PIT  1977\n",
       "588                    0           1         0.822926  CIN  1992\n",
       "715                    0           1         0.577514  SEA  1996\n",
       "126                    0           1         0.996922  CIN  1974\n",
       "281                    0           1         0.792633  LAD  1980\n",
       "634                    0           1         0.637115  TEX  1993\n",
       "842                    0           1         0.575297  BOS  2001\n",
       "246                    0           1         0.552260  BOS  1979\n",
       "1209                   0           1         0.713166  KCR  2013\n",
       "76                     0           1         0.882179  CHC  1972\n",
       "999                    0           1         0.548120  HOU  2006\n",
       "469                    0           1         0.567735  OAK  1987\n",
       "956                    0           1         0.642837  TEX  2004\n",
       "1194                   0           1         0.973470  TBR  2012\n",
       "922                    0           1         0.589690  SEA  2003\n",
       "594                    0           1         0.724939  MIL  1992\n",
       "242                    0           1         0.626643  TEX  1978\n",
       "39                     0           1         0.684925  NYM  1970\n",
       "1079                   0           1         0.711581  ATL  2009\n",
       "18                     0           1         0.529539  PIT  1969\n",
       "448                    0           1         0.544356  SFG  1986\n",
       "53                     0           1         0.575326  CWS  1971\n",
       "83                     0           1         0.816513  LAD  1972"
      ]
     },
     "execution_count": 162,
     "metadata": {},
     "output_type": "execute_result"
    }
   ],
   "source": [
    "# Have a look. Want to further divide them up by years pre-expansion and post-expansion (pre and post 1994)\n",
    "rows_of_interest"
   ]
  },
  {
   "cell_type": "code",
   "execution_count": 163,
   "metadata": {
    "scrolled": false
   },
   "outputs": [
    {
     "data": {
      "text/plain": [
       "87"
      ]
     },
     "execution_count": 163,
     "metadata": {},
     "output_type": "execute_result"
    }
   ],
   "source": [
    "# Number of rows with prediction 1\n",
    "(lr_analysis['prediction'] == 1).sum()"
   ]
  },
  {
   "cell_type": "code",
   "execution_count": 164,
   "metadata": {
    "scrolled": true
   },
   "outputs": [
    {
     "data": {
      "text/plain": [
       "0.5747126436781609"
      ]
     },
     "execution_count": 164,
     "metadata": {},
     "output_type": "execute_result"
    }
   ],
   "source": [
    "# Manual calculation of Precision for sanity check =]\n",
    "1-37/87"
   ]
  },
  {
   "cell_type": "code",
   "execution_count": 165,
   "metadata": {
    "scrolled": true
   },
   "outputs": [
    {
     "data": {
      "text/plain": [
       "(24, 13)"
      ]
     },
     "execution_count": 165,
     "metadata": {},
     "output_type": "execute_result"
    }
   ],
   "source": [
    "len(rows_of_interest[rows_of_interest['year'] < 1994]), len(rows_of_interest[rows_of_interest['year'] > 1994])"
   ]
  },
  {
   "cell_type": "code",
   "execution_count": 166,
   "metadata": {},
   "outputs": [
    {
     "data": {
      "text/plain": [
       "0.6486486486486487"
      ]
     },
     "execution_count": 166,
     "metadata": {},
     "output_type": "execute_result"
    }
   ],
   "source": [
    "24 / (24+13)"
   ]
  },
  {
   "cell_type": "markdown",
   "metadata": {},
   "source": [
    "&nbsp;&nbsp;&nbsp;&nbsp;&nbsp;&nbsp;About 65% of False Positive is coming from pre-expansion of playoff. Will break down the rows_of_interest df by years"
   ]
  },
  {
   "cell_type": "code",
   "execution_count": 167,
   "metadata": {
    "scrolled": false
   },
   "outputs": [],
   "source": [
    "# pre and post expansion dataframe from rows_of_interest\n",
    "pre_expansion = rows_of_interest[rows_of_interest['year'] < 1994]\n",
    "post_expansion = rows_of_interest[rows_of_interest['year'] > 1994]"
   ]
  },
  {
   "cell_type": "code",
   "execution_count": 168,
   "metadata": {
    "scrolled": false
   },
   "outputs": [
    {
     "data": {
      "text/html": [
       "<div>\n",
       "<style scoped>\n",
       "    .dataframe tbody tr th:only-of-type {\n",
       "        vertical-align: middle;\n",
       "    }\n",
       "\n",
       "    .dataframe tbody tr th {\n",
       "        vertical-align: top;\n",
       "    }\n",
       "\n",
       "    .dataframe thead th {\n",
       "        text-align: right;\n",
       "    }\n",
       "</style>\n",
       "<table border=\"1\" class=\"dataframe\">\n",
       "  <thead>\n",
       "    <tr style=\"text-align: right;\">\n",
       "      <th></th>\n",
       "      <th>playoff_appearance</th>\n",
       "      <th>prediction</th>\n",
       "      <th>predicted_proba</th>\n",
       "      <th>team</th>\n",
       "      <th>year</th>\n",
       "    </tr>\n",
       "  </thead>\n",
       "  <tbody>\n",
       "    <tr>\n",
       "      <th>477</th>\n",
       "      <td>0</td>\n",
       "      <td>1</td>\n",
       "      <td>0.998637</td>\n",
       "      <td>TOR</td>\n",
       "      <td>1987</td>\n",
       "    </tr>\n",
       "    <tr>\n",
       "      <th>126</th>\n",
       "      <td>0</td>\n",
       "      <td>1</td>\n",
       "      <td>0.996922</td>\n",
       "      <td>CIN</td>\n",
       "      <td>1974</td>\n",
       "    </tr>\n",
       "    <tr>\n",
       "      <th>467</th>\n",
       "      <td>0</td>\n",
       "      <td>1</td>\n",
       "      <td>0.988768</td>\n",
       "      <td>NYM</td>\n",
       "      <td>1987</td>\n",
       "    </tr>\n",
       "    <tr>\n",
       "      <th>216</th>\n",
       "      <td>0</td>\n",
       "      <td>1</td>\n",
       "      <td>0.975378</td>\n",
       "      <td>TEX</td>\n",
       "      <td>1977</td>\n",
       "    </tr>\n",
       "    <tr>\n",
       "      <th>120</th>\n",
       "      <td>0</td>\n",
       "      <td>1</td>\n",
       "      <td>0.972974</td>\n",
       "      <td>ATL</td>\n",
       "      <td>1974</td>\n",
       "    </tr>\n",
       "    <tr>\n",
       "      <th>545</th>\n",
       "      <td>0</td>\n",
       "      <td>1</td>\n",
       "      <td>0.971050</td>\n",
       "      <td>NYM</td>\n",
       "      <td>1990</td>\n",
       "    </tr>\n",
       "    <tr>\n",
       "      <th>211</th>\n",
       "      <td>0</td>\n",
       "      <td>1</td>\n",
       "      <td>0.892026</td>\n",
       "      <td>PIT</td>\n",
       "      <td>1977</td>\n",
       "    </tr>\n",
       "    <tr>\n",
       "      <th>76</th>\n",
       "      <td>0</td>\n",
       "      <td>1</td>\n",
       "      <td>0.882179</td>\n",
       "      <td>CHC</td>\n",
       "      <td>1972</td>\n",
       "    </tr>\n",
       "    <tr>\n",
       "      <th>588</th>\n",
       "      <td>0</td>\n",
       "      <td>1</td>\n",
       "      <td>0.822926</td>\n",
       "      <td>CIN</td>\n",
       "      <td>1992</td>\n",
       "    </tr>\n",
       "    <tr>\n",
       "      <th>83</th>\n",
       "      <td>0</td>\n",
       "      <td>1</td>\n",
       "      <td>0.816513</td>\n",
       "      <td>LAD</td>\n",
       "      <td>1972</td>\n",
       "    </tr>\n",
       "    <tr>\n",
       "      <th>281</th>\n",
       "      <td>0</td>\n",
       "      <td>1</td>\n",
       "      <td>0.792633</td>\n",
       "      <td>LAD</td>\n",
       "      <td>1980</td>\n",
       "    </tr>\n",
       "    <tr>\n",
       "      <th>464</th>\n",
       "      <td>0</td>\n",
       "      <td>1</td>\n",
       "      <td>0.778337</td>\n",
       "      <td>MIL</td>\n",
       "      <td>1987</td>\n",
       "    </tr>\n",
       "    <tr>\n",
       "      <th>136</th>\n",
       "      <td>0</td>\n",
       "      <td>1</td>\n",
       "      <td>0.749236</td>\n",
       "      <td>NYY</td>\n",
       "      <td>1974</td>\n",
       "    </tr>\n",
       "    <tr>\n",
       "      <th>567</th>\n",
       "      <td>0</td>\n",
       "      <td>1</td>\n",
       "      <td>0.732430</td>\n",
       "      <td>LAD</td>\n",
       "      <td>1991</td>\n",
       "    </tr>\n",
       "    <tr>\n",
       "      <th>594</th>\n",
       "      <td>0</td>\n",
       "      <td>1</td>\n",
       "      <td>0.724939</td>\n",
       "      <td>MIL</td>\n",
       "      <td>1992</td>\n",
       "    </tr>\n",
       "    <tr>\n",
       "      <th>356</th>\n",
       "      <td>0</td>\n",
       "      <td>1</td>\n",
       "      <td>0.708032</td>\n",
       "      <td>DET</td>\n",
       "      <td>1983</td>\n",
       "    </tr>\n",
       "    <tr>\n",
       "      <th>39</th>\n",
       "      <td>0</td>\n",
       "      <td>1</td>\n",
       "      <td>0.684925</td>\n",
       "      <td>NYM</td>\n",
       "      <td>1970</td>\n",
       "    </tr>\n",
       "    <tr>\n",
       "      <th>634</th>\n",
       "      <td>0</td>\n",
       "      <td>1</td>\n",
       "      <td>0.637115</td>\n",
       "      <td>TEX</td>\n",
       "      <td>1993</td>\n",
       "    </tr>\n",
       "    <tr>\n",
       "      <th>242</th>\n",
       "      <td>0</td>\n",
       "      <td>1</td>\n",
       "      <td>0.626643</td>\n",
       "      <td>TEX</td>\n",
       "      <td>1978</td>\n",
       "    </tr>\n",
       "    <tr>\n",
       "      <th>53</th>\n",
       "      <td>0</td>\n",
       "      <td>1</td>\n",
       "      <td>0.575326</td>\n",
       "      <td>CWS</td>\n",
       "      <td>1971</td>\n",
       "    </tr>\n",
       "    <tr>\n",
       "      <th>469</th>\n",
       "      <td>0</td>\n",
       "      <td>1</td>\n",
       "      <td>0.567735</td>\n",
       "      <td>OAK</td>\n",
       "      <td>1987</td>\n",
       "    </tr>\n",
       "    <tr>\n",
       "      <th>246</th>\n",
       "      <td>0</td>\n",
       "      <td>1</td>\n",
       "      <td>0.552260</td>\n",
       "      <td>BOS</td>\n",
       "      <td>1979</td>\n",
       "    </tr>\n",
       "    <tr>\n",
       "      <th>448</th>\n",
       "      <td>0</td>\n",
       "      <td>1</td>\n",
       "      <td>0.544356</td>\n",
       "      <td>SFG</td>\n",
       "      <td>1986</td>\n",
       "    </tr>\n",
       "    <tr>\n",
       "      <th>18</th>\n",
       "      <td>0</td>\n",
       "      <td>1</td>\n",
       "      <td>0.529539</td>\n",
       "      <td>PIT</td>\n",
       "      <td>1969</td>\n",
       "    </tr>\n",
       "  </tbody>\n",
       "</table>\n",
       "</div>"
      ],
      "text/plain": [
       "     playoff_appearance  prediction  predicted_proba team  year\n",
       "477                   0           1         0.998637  TOR  1987\n",
       "126                   0           1         0.996922  CIN  1974\n",
       "467                   0           1         0.988768  NYM  1987\n",
       "216                   0           1         0.975378  TEX  1977\n",
       "120                   0           1         0.972974  ATL  1974\n",
       "545                   0           1         0.971050  NYM  1990\n",
       "211                   0           1         0.892026  PIT  1977\n",
       "76                    0           1         0.882179  CHC  1972\n",
       "588                   0           1         0.822926  CIN  1992\n",
       "83                    0           1         0.816513  LAD  1972\n",
       "281                   0           1         0.792633  LAD  1980\n",
       "464                   0           1         0.778337  MIL  1987\n",
       "136                   0           1         0.749236  NYY  1974\n",
       "567                   0           1         0.732430  LAD  1991\n",
       "594                   0           1         0.724939  MIL  1992\n",
       "356                   0           1         0.708032  DET  1983\n",
       "39                    0           1         0.684925  NYM  1970\n",
       "634                   0           1         0.637115  TEX  1993\n",
       "242                   0           1         0.626643  TEX  1978\n",
       "53                    0           1         0.575326  CWS  1971\n",
       "469                   0           1         0.567735  OAK  1987\n",
       "246                   0           1         0.552260  BOS  1979\n",
       "448                   0           1         0.544356  SFG  1986\n",
       "18                    0           1         0.529539  PIT  1969"
      ]
     },
     "execution_count": 168,
     "metadata": {},
     "output_type": "execute_result"
    }
   ],
   "source": [
    "pre_expansion.sort_values('predicted_proba', ascending = False)"
   ]
  },
  {
   "cell_type": "markdown",
   "metadata": {},
   "source": [
    "&nbsp;&nbsp;&nbsp;&nbsp;&nbsp;&nbsp;These are what I call 'sure bets' with 97%+ probability yet are false positives\n",
    "\n",
    "87 TOR (96 - 66) : Second best team in the league but divisional rival DET topped the league and divison so did not make it. I'd call them a victim of format\n",
    "\n",
    "74 CIN (98 - 64) : Again second best team in the league with 98 wins but LAD topped the divison and league with 102 wins. Again a victim of format\n",
    "\n",
    "87 NYM (92 - 70) : Yet again, second best team in the league with 92 wins. Another victim of format\n",
    "\n",
    "77 TEX (94 - 68) : Second in division... You know what happened by now right? \n",
    "\n",
    "90 NYM (91 - 71) : Second best team in the league and division. Another victim of format\n",
    "\n",
    "77 PIT (96 - 66) : Third best team in the league and division. All of these teams I listed above would surely make into playoff in current format"
   ]
  },
  {
   "cell_type": "code",
   "execution_count": 169,
   "metadata": {
    "scrolled": true
   },
   "outputs": [
    {
     "data": {
      "image/png": "[encoded data removed]",
      "text/plain": [
       "<IPython.core.display.Image object>"
      ]
     },
     "execution_count": 169,
     "metadata": {},
     "output_type": "execute_result"
    }
   ],
   "source": [
    "# Margin of victory for 86 SFG\n",
    "Image(filename = 'data/86_SFG_margin.png')"
   ]
  },
  {
   "cell_type": "markdown",
   "metadata": {},
   "source": [
    "86 SFG (83 - 79) : They won big and lost by little so led to inflated features. Of course then inflated the prediction probability as well. "
   ]
  },
  {
   "cell_type": "code",
   "execution_count": 170,
   "metadata": {},
   "outputs": [
    {
     "data": {
      "text/html": [
       "<div>\n",
       "<style scoped>\n",
       "    .dataframe tbody tr th:only-of-type {\n",
       "        vertical-align: middle;\n",
       "    }\n",
       "\n",
       "    .dataframe tbody tr th {\n",
       "        vertical-align: top;\n",
       "    }\n",
       "\n",
       "    .dataframe thead th {\n",
       "        text-align: right;\n",
       "    }\n",
       "</style>\n",
       "<table border=\"1\" class=\"dataframe\">\n",
       "  <thead>\n",
       "    <tr style=\"text-align: right;\">\n",
       "      <th></th>\n",
       "      <th>playoff_appearance</th>\n",
       "      <th>prediction</th>\n",
       "      <th>predicted_proba</th>\n",
       "      <th>team</th>\n",
       "      <th>year</th>\n",
       "    </tr>\n",
       "  </thead>\n",
       "  <tbody>\n",
       "    <tr>\n",
       "      <th>1194</th>\n",
       "      <td>0</td>\n",
       "      <td>1</td>\n",
       "      <td>0.973470</td>\n",
       "      <td>TBR</td>\n",
       "      <td>2012</td>\n",
       "    </tr>\n",
       "    <tr>\n",
       "      <th>1130</th>\n",
       "      <td>0</td>\n",
       "      <td>1</td>\n",
       "      <td>0.944975</td>\n",
       "      <td>SDP</td>\n",
       "      <td>2010</td>\n",
       "    </tr>\n",
       "    <tr>\n",
       "      <th>863</th>\n",
       "      <td>0</td>\n",
       "      <td>1</td>\n",
       "      <td>0.917755</td>\n",
       "      <td>SFG</td>\n",
       "      <td>2001</td>\n",
       "    </tr>\n",
       "    <tr>\n",
       "      <th>882</th>\n",
       "      <td>0</td>\n",
       "      <td>1</td>\n",
       "      <td>0.833005</td>\n",
       "      <td>LAD</td>\n",
       "      <td>2002</td>\n",
       "    </tr>\n",
       "    <tr>\n",
       "      <th>1001</th>\n",
       "      <td>0</td>\n",
       "      <td>1</td>\n",
       "      <td>0.807221</td>\n",
       "      <td>LAA</td>\n",
       "      <td>2006</td>\n",
       "    </tr>\n",
       "    <tr>\n",
       "      <th>1209</th>\n",
       "      <td>0</td>\n",
       "      <td>1</td>\n",
       "      <td>0.713166</td>\n",
       "      <td>KCR</td>\n",
       "      <td>2013</td>\n",
       "    </tr>\n",
       "    <tr>\n",
       "      <th>1079</th>\n",
       "      <td>0</td>\n",
       "      <td>1</td>\n",
       "      <td>0.711581</td>\n",
       "      <td>ATL</td>\n",
       "      <td>2009</td>\n",
       "    </tr>\n",
       "    <tr>\n",
       "      <th>956</th>\n",
       "      <td>0</td>\n",
       "      <td>1</td>\n",
       "      <td>0.642837</td>\n",
       "      <td>TEX</td>\n",
       "      <td>2004</td>\n",
       "    </tr>\n",
       "    <tr>\n",
       "      <th>922</th>\n",
       "      <td>0</td>\n",
       "      <td>1</td>\n",
       "      <td>0.589690</td>\n",
       "      <td>SEA</td>\n",
       "      <td>2003</td>\n",
       "    </tr>\n",
       "    <tr>\n",
       "      <th>715</th>\n",
       "      <td>0</td>\n",
       "      <td>1</td>\n",
       "      <td>0.577514</td>\n",
       "      <td>SEA</td>\n",
       "      <td>1996</td>\n",
       "    </tr>\n",
       "    <tr>\n",
       "      <th>842</th>\n",
       "      <td>0</td>\n",
       "      <td>1</td>\n",
       "      <td>0.575297</td>\n",
       "      <td>BOS</td>\n",
       "      <td>2001</td>\n",
       "    </tr>\n",
       "    <tr>\n",
       "      <th>737</th>\n",
       "      <td>0</td>\n",
       "      <td>1</td>\n",
       "      <td>0.566588</td>\n",
       "      <td>NYM</td>\n",
       "      <td>1997</td>\n",
       "    </tr>\n",
       "    <tr>\n",
       "      <th>999</th>\n",
       "      <td>0</td>\n",
       "      <td>1</td>\n",
       "      <td>0.548120</td>\n",
       "      <td>HOU</td>\n",
       "      <td>2006</td>\n",
       "    </tr>\n",
       "  </tbody>\n",
       "</table>\n",
       "</div>"
      ],
      "text/plain": [
       "      playoff_appearance  prediction  predicted_proba team  year\n",
       "1194                   0           1         0.973470  TBR  2012\n",
       "1130                   0           1         0.944975  SDP  2010\n",
       "863                    0           1         0.917755  SFG  2001\n",
       "882                    0           1         0.833005  LAD  2002\n",
       "1001                   0           1         0.807221  LAA  2006\n",
       "1209                   0           1         0.713166  KCR  2013\n",
       "1079                   0           1         0.711581  ATL  2009\n",
       "956                    0           1         0.642837  TEX  2004\n",
       "922                    0           1         0.589690  SEA  2003\n",
       "715                    0           1         0.577514  SEA  1996\n",
       "842                    0           1         0.575297  BOS  2001\n",
       "737                    0           1         0.566588  NYM  1997\n",
       "999                    0           1         0.548120  HOU  2006"
      ]
     },
     "execution_count": 170,
     "metadata": {},
     "output_type": "execute_result"
    }
   ],
   "source": [
    "post_expansion.sort_values('predicted_proba', ascending = False)"
   ]
  },
  {
   "cell_type": "code",
   "execution_count": 171,
   "metadata": {
    "scrolled": true
   },
   "outputs": [
    {
     "data": {
      "image/png": "[encoded data removed]",
      "text/plain": [
       "<IPython.core.display.Image object>"
      ]
     },
     "execution_count": 171,
     "metadata": {},
     "output_type": "execute_result"
    }
   ],
   "source": [
    "# Margin of victory for 12 TBR\n",
    "Image(filename = 'data/12_TBR_margin.png')"
   ]
  },
  {
   "cell_type": "markdown",
   "metadata": {},
   "source": [
    "12 TBR (90 - 72) : Another team had inflated probability. Very strong pitching so did not lose big\n",
    "\n",
    "10 SDP (90 - 72) : Missed the wildcard spot by 1 win. They would be in playoff if it were current 10 team playoff format. It was 8 team playoff format\n",
    "\n",
    "01 SFG (90 - 72) : Same story as above 10 SDP\n",
    "\n",
    "&nbsp;&nbsp;&nbsp;&nbsp;&nbsp;&nbsp;I think my analysis brought some light to the limitations of data I collected. My data does not account for the format of playoff. Many teams in pre-expansion are victims of very difficult playoff format. Also my data does not account for the margin of victories. Some teams win big and lose by only little. This causes inflation on features hence inflating the predicted probabilities. In order to combat these, I could add in division information and limit how many teams can make the playoff given year so model does not predict 1 just because the predicted probability is over the threshold 0.5. \n",
    "\n",
    "&nbsp;&nbsp;&nbsp;&nbsp;&nbsp;&nbsp;For now, I will try to model with post expansion data and eliminate old data if this improves my precision for class 1. I will carry this out on logistic regression only."
   ]
  },
  {
   "cell_type": "code",
   "execution_count": 204,
   "metadata": {},
   "outputs": [],
   "source": [
    "# Getting rid of all data prior to 1994\n",
    "\n",
    "# X2 is data from 1995 to 2020\n",
    "X2 = df_scaled.loc[df_scaled['year'] > 1994].iloc[:,:-3]\n",
    "\n",
    "# y is the playoff_appearance\n",
    "y2 = df_scaled['playoff_appearance'].loc[df_scaled['year'] > 1994]"
   ]
  },
  {
   "cell_type": "code",
   "execution_count": 214,
   "metadata": {},
   "outputs": [],
   "source": [
    "# Need to get rid of year 2019 and 2020\n",
    "X2 = X2.loc[df_scaled['year'] < 2019]\n",
    "\n",
    "# Last two years. That is last 60 entries of y2\n",
    "y2 = y2[:-60]"
   ]
  },
  {
   "cell_type": "code",
   "execution_count": 217,
   "metadata": {},
   "outputs": [],
   "source": [
    "# Split like how I did at the beginning\n",
    "X_train2, X_test2, y_train2, y_test2 = train_test_split(X2, y2, random_state = 5, stratify= y2, test_size=0.2)"
   ]
  },
  {
   "cell_type": "code",
   "execution_count": 218,
   "metadata": {},
   "outputs": [],
   "source": [
    "# Set up the (placeholder) pipeline \n",
    "pipeline_lr = make_pipeline(SMOTE(sampling_strategy = 1, random_state = 777, n_jobs = -1), LogisticRegression())  "
   ]
  },
  {
   "cell_type": "code",
   "execution_count": 219,
   "metadata": {},
   "outputs": [],
   "source": [
    "# Set up parameters!\n",
    "new_params_lr = {'logisticregression__' + key: params_lr[key] for key in params_lr}"
   ]
  },
  {
   "cell_type": "code",
   "execution_count": 220,
   "metadata": {
    "scrolled": true
   },
   "outputs": [
    {
     "data": {
      "text/plain": [
       "{'logisticregression__C': [0.001, 0.01, 0.1, 1, 10, 100, 1000],\n",
       " 'logisticregression__solver': ['newton-cg', 'lbfgs', 'liblinear', 'saga'],\n",
       " 'logisticregression__class_weight': ['balanced', None],\n",
       " 'logisticregression__penalty': ['l2', None],\n",
       " 'logisticregression__random_state': [777]}"
      ]
     },
     "execution_count": 220,
     "metadata": {},
     "output_type": "execute_result"
    }
   ],
   "source": [
    "new_params_lr"
   ]
  },
  {
   "cell_type": "code",
   "execution_count": 221,
   "metadata": {
    "scrolled": false
   },
   "outputs": [
    {
     "name": "stdout",
     "output_type": "stream",
     "text": [
      "Fitting 5 folds for each of 112 candidates, totalling 560 fits\n"
     ]
    },
    {
     "name": "stderr",
     "output_type": "stream",
     "text": [
      "[Parallel(n_jobs=-1)]: Using backend LokyBackend with 4 concurrent workers.\n",
      "[Parallel(n_jobs=-1)]: Done  56 tasks      | elapsed:    6.5s\n",
      "[Parallel(n_jobs=-1)]: Done 560 out of 560 | elapsed:    9.7s finished\n",
      "C:\\Users\\DK\\anaconda3\\lib\\site-packages\\sklearn\\linear_model\\_sag.py:329: ConvergenceWarning: The max_iter was reached which means the coef_ did not converge\n",
      "  warnings.warn(\"The max_iter was reached which means \"\n"
     ]
    },
    {
     "data": {
      "text/plain": [
       "GridSearchCV(cv=5,\n",
       "             estimator=Pipeline(steps=[('smote',\n",
       "                                        SMOTE(n_jobs=-1, random_state=777,\n",
       "                                              sampling_strategy=1)),\n",
       "                                       ('logisticregression',\n",
       "                                        LogisticRegression())]),\n",
       "             n_jobs=-1,\n",
       "             param_grid={'logisticregression__C': [0.001, 0.01, 0.1, 1, 10, 100,\n",
       "                                                   1000],\n",
       "                         'logisticregression__class_weight': ['balanced', None],\n",
       "                         'logisticregression__penalty': ['l2', None],\n",
       "                         'logisticregression__random_state': [777],\n",
       "                         'logisticregression__solver': ['newton-cg', 'lbfgs',\n",
       "                                                        'liblinear', 'saga']},\n",
       "             scoring='precision', verbose=1)"
      ]
     },
     "execution_count": 221,
     "metadata": {},
     "output_type": "execute_result"
    }
   ],
   "source": [
    "# Evaluate on 'precision'\n",
    "\n",
    "# I also tried 'f1' and default (accuracy). 'precision' yielded best result meaning I could improve 'precision' without\n",
    "# losing much on 'recall'.\n",
    "grid_lr_new = GridSearchCV(pipeline_lr, param_grid = new_params_lr, cv = 5, n_jobs = -1, verbose = 1, scoring = 'precision')\n",
    "\n",
    "grid_lr_new.fit(X_train2,y_train2)"
   ]
  },
  {
   "cell_type": "code",
   "execution_count": 222,
   "metadata": {
    "scrolled": true
   },
   "outputs": [
    {
     "data": {
      "text/plain": [
       "{'logisticregression__C': 100,\n",
       " 'logisticregression__class_weight': 'balanced',\n",
       " 'logisticregression__penalty': 'l2',\n",
       " 'logisticregression__random_state': 777,\n",
       " 'logisticregression__solver': 'saga'}"
      ]
     },
     "execution_count": 222,
     "metadata": {},
     "output_type": "execute_result"
    }
   ],
   "source": [
    "# See what the best hyperparameters were\n",
    "grid_lr_new.best_params_"
   ]
  },
  {
   "cell_type": "code",
   "execution_count": 223,
   "metadata": {
    "scrolled": false
   },
   "outputs": [
    {
     "name": "stdout",
     "output_type": "stream",
     "text": [
      "Train accuracy: 88.27%\n",
      "Test accuracy: 84.62%\n"
     ]
    }
   ],
   "source": [
    "# Train Accuracy\n",
    "grid_lr_new_train_acc = grid_lr_new.best_estimator_.score(X_train2, y_train2)\n",
    "\n",
    "# Test Accuracy\n",
    "grid_lr_new_test_acc = grid_lr_new.best_estimator_.score(X_test2, y_test2)\n",
    "\n",
    "print(f'Train accuracy: {round(grid_lr_new_train_acc * 100,2)}%')\n",
    "print(f'Test accuracy: {round(grid_lr_new_test_acc * 100,2)}%')"
   ]
  },
  {
   "cell_type": "code",
   "execution_count": 224,
   "metadata": {
    "scrolled": false
   },
   "outputs": [
    {
     "name": "stdout",
     "output_type": "stream",
     "text": [
      "              precision    recall  f1-score   support\n",
      "\n",
      "           0       0.93      0.84      0.89       102\n",
      "           1       0.69      0.85      0.76        41\n",
      "\n",
      "    accuracy                           0.85       143\n",
      "   macro avg       0.81      0.85      0.82       143\n",
      "weighted avg       0.86      0.85      0.85       143\n",
      "\n",
      "ROC AUC Score: 0.85\n"
     ]
    }
   ],
   "source": [
    "# Classification report and ROC AUC Score\n",
    "print(classification_report(y_test2, grid_lr_new.best_estimator_.predict(X_test2)))\n",
    "print(f'ROC AUC Score: {round(roc_auc_score(y_test2, grid_lr_new.best_estimator_.predict(X_test2)),2)}')"
   ]
  },
  {
   "cell_type": "markdown",
   "metadata": {},
   "source": [
    "&nbsp;&nbsp;&nbsp;&nbsp;&nbsp;&nbsp;With same parameter, I managed to boost precision in category 1 to 0.69 while improving recall as well to 0.85. This is very good sign as I was not able to even break 0.6 mark for precisions. By getting rid of pre-expansion data, those data points that did not make playoff back then but would be sure bet in modern MLB playoff format are gone hence the improvement in precision. Removing almost half the data is worrying but I could not come up with reasonable improvements within the time with other methods I tried like BoarderlineSMOTE. To further bring up the precision, I'd need to make further modifications in my models. However, for now, the process to bring up precision stops here. \n",
    "\n",
    "&nbsp;&nbsp;&nbsp;&nbsp;&nbsp;&nbsp;As the last step of the project, I will make prediction on unseen data I put aside at the very beginning. Will compare two predictions, one with all data from 1969 to 2018  and another with data from 1995 to 2018 (only post expansion of MLB playoff). I will have a look at change in prediction probabilities."
   ]
  },
  {
   "cell_type": "markdown",
   "metadata": {},
   "source": [
    "<hr style=\"border:2px solid gray\"> </hr>\n",
    "\n",
    "## Prediction on Unseen Data"
   ]
  },
  {
   "cell_type": "code",
   "execution_count": 225,
   "metadata": {
    "scrolled": true
   },
   "outputs": [],
   "source": [
    "### On Full Data\n",
    "\n",
    "# First prepare new df with prediction probabilities\n",
    "pred_2019 = pd.DataFrame(grid_lr.best_estimator_.predict_proba(X_2019)[:,1], columns = ['predicted_proba'])"
   ]
  },
  {
   "cell_type": "code",
   "execution_count": 226,
   "metadata": {},
   "outputs": [],
   "source": [
    "# Add in team column\n",
    "pred_2019['team'] = df_scaled[df_scaled['year'] == 2019]['team'].reset_index().drop(columns = 'index')"
   ]
  },
  {
   "cell_type": "code",
   "execution_count": 227,
   "metadata": {
    "scrolled": false
   },
   "outputs": [],
   "source": [
    "# Prediction column\n",
    "pred_2019['prediction'] = grid_lr.best_estimator_.predict(X_2019)"
   ]
  },
  {
   "cell_type": "code",
   "execution_count": 228,
   "metadata": {},
   "outputs": [],
   "source": [
    "# Actual playoff data\n",
    "pred_2019['playoff_appearance'] = y_2019.values"
   ]
  },
  {
   "cell_type": "code",
   "execution_count": 229,
   "metadata": {
    "scrolled": true
   },
   "outputs": [],
   "source": [
    "# Sort in order\n",
    "pred_2019 = pred_2019.sort_values('predicted_proba', ascending = False)"
   ]
  },
  {
   "cell_type": "code",
   "execution_count": 230,
   "metadata": {
    "scrolled": false
   },
   "outputs": [
    {
     "data": {
      "text/html": [
       "<div>\n",
       "<style scoped>\n",
       "    .dataframe tbody tr th:only-of-type {\n",
       "        vertical-align: middle;\n",
       "    }\n",
       "\n",
       "    .dataframe tbody tr th {\n",
       "        vertical-align: top;\n",
       "    }\n",
       "\n",
       "    .dataframe thead th {\n",
       "        text-align: right;\n",
       "    }\n",
       "</style>\n",
       "<table border=\"1\" class=\"dataframe\">\n",
       "  <thead>\n",
       "    <tr style=\"text-align: right;\">\n",
       "      <th></th>\n",
       "      <th>predicted_proba</th>\n",
       "      <th>team</th>\n",
       "      <th>prediction</th>\n",
       "      <th>playoff_appearance</th>\n",
       "    </tr>\n",
       "  </thead>\n",
       "  <tbody>\n",
       "    <tr>\n",
       "      <th>10</th>\n",
       "      <td>9.999644e-01</td>\n",
       "      <td>HOU</td>\n",
       "      <td>1</td>\n",
       "      <td>1</td>\n",
       "    </tr>\n",
       "    <tr>\n",
       "      <th>13</th>\n",
       "      <td>9.994589e-01</td>\n",
       "      <td>LAD</td>\n",
       "      <td>1</td>\n",
       "      <td>1</td>\n",
       "    </tr>\n",
       "    <tr>\n",
       "      <th>16</th>\n",
       "      <td>9.946273e-01</td>\n",
       "      <td>MIN</td>\n",
       "      <td>1</td>\n",
       "      <td>1</td>\n",
       "    </tr>\n",
       "    <tr>\n",
       "      <th>18</th>\n",
       "      <td>9.945864e-01</td>\n",
       "      <td>NYY</td>\n",
       "      <td>1</td>\n",
       "      <td>1</td>\n",
       "    </tr>\n",
       "    <tr>\n",
       "      <th>19</th>\n",
       "      <td>9.855965e-01</td>\n",
       "      <td>OAK</td>\n",
       "      <td>1</td>\n",
       "      <td>1</td>\n",
       "    </tr>\n",
       "    <tr>\n",
       "      <th>26</th>\n",
       "      <td>9.743597e-01</td>\n",
       "      <td>TBR</td>\n",
       "      <td>1</td>\n",
       "      <td>1</td>\n",
       "    </tr>\n",
       "    <tr>\n",
       "      <th>29</th>\n",
       "      <td>9.700079e-01</td>\n",
       "      <td>WAS</td>\n",
       "      <td>1</td>\n",
       "      <td>1</td>\n",
       "    </tr>\n",
       "    <tr>\n",
       "      <th>25</th>\n",
       "      <td>9.544982e-01</td>\n",
       "      <td>STL</td>\n",
       "      <td>1</td>\n",
       "      <td>1</td>\n",
       "    </tr>\n",
       "    <tr>\n",
       "      <th>7</th>\n",
       "      <td>9.352581e-01</td>\n",
       "      <td>CLE</td>\n",
       "      <td>1</td>\n",
       "      <td>0</td>\n",
       "    </tr>\n",
       "    <tr>\n",
       "      <th>1</th>\n",
       "      <td>9.248097e-01</td>\n",
       "      <td>ATL</td>\n",
       "      <td>1</td>\n",
       "      <td>1</td>\n",
       "    </tr>\n",
       "    <tr>\n",
       "      <th>0</th>\n",
       "      <td>8.352239e-01</td>\n",
       "      <td>ARI</td>\n",
       "      <td>1</td>\n",
       "      <td>0</td>\n",
       "    </tr>\n",
       "    <tr>\n",
       "      <th>4</th>\n",
       "      <td>7.771922e-01</td>\n",
       "      <td>CHC</td>\n",
       "      <td>1</td>\n",
       "      <td>0</td>\n",
       "    </tr>\n",
       "    <tr>\n",
       "      <th>15</th>\n",
       "      <td>6.261641e-01</td>\n",
       "      <td>MIL</td>\n",
       "      <td>1</td>\n",
       "      <td>1</td>\n",
       "    </tr>\n",
       "    <tr>\n",
       "      <th>3</th>\n",
       "      <td>5.753754e-01</td>\n",
       "      <td>BOS</td>\n",
       "      <td>1</td>\n",
       "      <td>0</td>\n",
       "    </tr>\n",
       "    <tr>\n",
       "      <th>6</th>\n",
       "      <td>4.387529e-01</td>\n",
       "      <td>CIN</td>\n",
       "      <td>0</td>\n",
       "      <td>0</td>\n",
       "    </tr>\n",
       "    <tr>\n",
       "      <th>17</th>\n",
       "      <td>2.158070e-01</td>\n",
       "      <td>NYM</td>\n",
       "      <td>0</td>\n",
       "      <td>0</td>\n",
       "    </tr>\n",
       "    <tr>\n",
       "      <th>20</th>\n",
       "      <td>2.330688e-02</td>\n",
       "      <td>PHI</td>\n",
       "      <td>0</td>\n",
       "      <td>0</td>\n",
       "    </tr>\n",
       "    <tr>\n",
       "      <th>22</th>\n",
       "      <td>1.707743e-02</td>\n",
       "      <td>SDP</td>\n",
       "      <td>0</td>\n",
       "      <td>0</td>\n",
       "    </tr>\n",
       "    <tr>\n",
       "      <th>24</th>\n",
       "      <td>1.008448e-02</td>\n",
       "      <td>SFG</td>\n",
       "      <td>0</td>\n",
       "      <td>0</td>\n",
       "    </tr>\n",
       "    <tr>\n",
       "      <th>23</th>\n",
       "      <td>4.230676e-03</td>\n",
       "      <td>SEA</td>\n",
       "      <td>0</td>\n",
       "      <td>0</td>\n",
       "    </tr>\n",
       "    <tr>\n",
       "      <th>27</th>\n",
       "      <td>3.398612e-03</td>\n",
       "      <td>TEX</td>\n",
       "      <td>0</td>\n",
       "      <td>0</td>\n",
       "    </tr>\n",
       "    <tr>\n",
       "      <th>12</th>\n",
       "      <td>2.480187e-03</td>\n",
       "      <td>LAA</td>\n",
       "      <td>0</td>\n",
       "      <td>0</td>\n",
       "    </tr>\n",
       "    <tr>\n",
       "      <th>28</th>\n",
       "      <td>1.933990e-03</td>\n",
       "      <td>TOR</td>\n",
       "      <td>0</td>\n",
       "      <td>0</td>\n",
       "    </tr>\n",
       "    <tr>\n",
       "      <th>8</th>\n",
       "      <td>5.684372e-04</td>\n",
       "      <td>COL</td>\n",
       "      <td>0</td>\n",
       "      <td>0</td>\n",
       "    </tr>\n",
       "    <tr>\n",
       "      <th>11</th>\n",
       "      <td>4.195717e-04</td>\n",
       "      <td>KCR</td>\n",
       "      <td>0</td>\n",
       "      <td>0</td>\n",
       "    </tr>\n",
       "    <tr>\n",
       "      <th>21</th>\n",
       "      <td>2.092995e-04</td>\n",
       "      <td>PIT</td>\n",
       "      <td>0</td>\n",
       "      <td>0</td>\n",
       "    </tr>\n",
       "    <tr>\n",
       "      <th>5</th>\n",
       "      <td>9.769641e-05</td>\n",
       "      <td>CWS</td>\n",
       "      <td>0</td>\n",
       "      <td>0</td>\n",
       "    </tr>\n",
       "    <tr>\n",
       "      <th>2</th>\n",
       "      <td>8.585398e-06</td>\n",
       "      <td>BAL</td>\n",
       "      <td>0</td>\n",
       "      <td>0</td>\n",
       "    </tr>\n",
       "    <tr>\n",
       "      <th>14</th>\n",
       "      <td>7.116287e-06</td>\n",
       "      <td>MIA</td>\n",
       "      <td>0</td>\n",
       "      <td>0</td>\n",
       "    </tr>\n",
       "    <tr>\n",
       "      <th>9</th>\n",
       "      <td>7.549870e-07</td>\n",
       "      <td>DET</td>\n",
       "      <td>0</td>\n",
       "      <td>0</td>\n",
       "    </tr>\n",
       "  </tbody>\n",
       "</table>\n",
       "</div>"
      ],
      "text/plain": [
       "    predicted_proba team  prediction  playoff_appearance\n",
       "10     9.999644e-01  HOU           1                   1\n",
       "13     9.994589e-01  LAD           1                   1\n",
       "16     9.946273e-01  MIN           1                   1\n",
       "18     9.945864e-01  NYY           1                   1\n",
       "19     9.855965e-01  OAK           1                   1\n",
       "26     9.743597e-01  TBR           1                   1\n",
       "29     9.700079e-01  WAS           1                   1\n",
       "25     9.544982e-01  STL           1                   1\n",
       "7      9.352581e-01  CLE           1                   0\n",
       "1      9.248097e-01  ATL           1                   1\n",
       "0      8.352239e-01  ARI           1                   0\n",
       "4      7.771922e-01  CHC           1                   0\n",
       "15     6.261641e-01  MIL           1                   1\n",
       "3      5.753754e-01  BOS           1                   0\n",
       "6      4.387529e-01  CIN           0                   0\n",
       "17     2.158070e-01  NYM           0                   0\n",
       "20     2.330688e-02  PHI           0                   0\n",
       "22     1.707743e-02  SDP           0                   0\n",
       "24     1.008448e-02  SFG           0                   0\n",
       "23     4.230676e-03  SEA           0                   0\n",
       "27     3.398612e-03  TEX           0                   0\n",
       "12     2.480187e-03  LAA           0                   0\n",
       "28     1.933990e-03  TOR           0                   0\n",
       "8      5.684372e-04  COL           0                   0\n",
       "11     4.195717e-04  KCR           0                   0\n",
       "21     2.092995e-04  PIT           0                   0\n",
       "5      9.769641e-05  CWS           0                   0\n",
       "2      8.585398e-06  BAL           0                   0\n",
       "14     7.116287e-06  MIA           0                   0\n",
       "9      7.549870e-07  DET           0                   0"
      ]
     },
     "execution_count": 230,
     "metadata": {},
     "output_type": "execute_result"
    }
   ],
   "source": [
    "pred_2019"
   ]
  },
  {
   "cell_type": "code",
   "execution_count": 231,
   "metadata": {
    "scrolled": false
   },
   "outputs": [
    {
     "data": {
      "image/png": "[encoded data removed]",
      "text/plain": [
       "<Figure size 1008x576 with 1 Axes>"
      ]
     },
     "metadata": {
      "needs_background": "light"
     },
     "output_type": "display_data"
    }
   ],
   "source": [
    "ax = plt.figure(figsize = (14, 8))\n",
    "\n",
    "ax = plt.bar(pred_2019['team'], pred_2019['predicted_proba'])\n",
    "\n",
    "# color the ones in 1, made playoff, green\n",
    "for i in range(30):\n",
    "    if pred_2019['playoff_appearance'].reset_index(drop = True)[i] == 1:\n",
    "        ax[i].set_color('g')\n",
    "        \n",
    "# Add a divider       \n",
    "plt.axvline(13.5, linestyle='dashed')\n",
    "plt.text(10.5, 0.9, s = 'Predicted', fontweight = 'bold')\n",
    "plt.text(14.5, 0.9, s = 'Not Predicted', fontweight = 'bold')\n",
    "plt.legend(labels = ['Predictor Divider', 'Made 2019 Playoffs'])\n",
    "        \n",
    "plt.title('Playoff Probability by Team In 2019 with Full Data', fontweight='bold', fontsize=20)\n",
    "plt.ylabel('Probability', fontsize = 12)\n",
    "plt.xlabel('Team', fontsize = 12)\n",
    "plt.xticks(rotation = 45)\n",
    "plt.show()"
   ]
  },
  {
   "cell_type": "code",
   "execution_count": 232,
   "metadata": {},
   "outputs": [],
   "source": [
    "### Repeat with Post expansion data only ###\n",
    "\n",
    "pred_2019_post_exp = []"
   ]
  },
  {
   "cell_type": "code",
   "execution_count": 233,
   "metadata": {
    "scrolled": true
   },
   "outputs": [],
   "source": [
    "# First prepare new df with prediction probabilities\n",
    "pred_2019_post_exp = pd.DataFrame(grid_lr_new.best_estimator_.predict_proba(X_2019)[:,1], columns = ['predicted_proba'])"
   ]
  },
  {
   "cell_type": "code",
   "execution_count": 234,
   "metadata": {},
   "outputs": [],
   "source": [
    "# Add in team column\n",
    "pred_2019_post_exp['team'] = df_scaled[df_scaled['year'] == 2019]['team'].reset_index().drop(columns = 'index')"
   ]
  },
  {
   "cell_type": "code",
   "execution_count": 235,
   "metadata": {
    "scrolled": false
   },
   "outputs": [],
   "source": [
    "# Prediction column\n",
    "pred_2019_post_exp['prediction'] = grid_lr_new.best_estimator_.predict(X_2019)"
   ]
  },
  {
   "cell_type": "code",
   "execution_count": 236,
   "metadata": {},
   "outputs": [],
   "source": [
    "# Actual playoff data\n",
    "pred_2019_post_exp['playoff_appearance'] = y_2019.values"
   ]
  },
  {
   "cell_type": "code",
   "execution_count": 237,
   "metadata": {
    "scrolled": true
   },
   "outputs": [],
   "source": [
    "# Sort in order\n",
    "pred_2019_post_exp = pred_2019_post_exp.sort_values('predicted_proba', ascending = False)"
   ]
  },
  {
   "cell_type": "code",
   "execution_count": 238,
   "metadata": {},
   "outputs": [
    {
     "data": {
      "text/html": [
       "<div>\n",
       "<style scoped>\n",
       "    .dataframe tbody tr th:only-of-type {\n",
       "        vertical-align: middle;\n",
       "    }\n",
       "\n",
       "    .dataframe tbody tr th {\n",
       "        vertical-align: top;\n",
       "    }\n",
       "\n",
       "    .dataframe thead th {\n",
       "        text-align: right;\n",
       "    }\n",
       "</style>\n",
       "<table border=\"1\" class=\"dataframe\">\n",
       "  <thead>\n",
       "    <tr style=\"text-align: right;\">\n",
       "      <th></th>\n",
       "      <th>predicted_proba</th>\n",
       "      <th>team</th>\n",
       "      <th>prediction</th>\n",
       "      <th>playoff_appearance</th>\n",
       "    </tr>\n",
       "  </thead>\n",
       "  <tbody>\n",
       "    <tr>\n",
       "      <th>10</th>\n",
       "      <td>9.999947e-01</td>\n",
       "      <td>HOU</td>\n",
       "      <td>1</td>\n",
       "      <td>1</td>\n",
       "    </tr>\n",
       "    <tr>\n",
       "      <th>13</th>\n",
       "      <td>9.999248e-01</td>\n",
       "      <td>LAD</td>\n",
       "      <td>1</td>\n",
       "      <td>1</td>\n",
       "    </tr>\n",
       "    <tr>\n",
       "      <th>16</th>\n",
       "      <td>9.994466e-01</td>\n",
       "      <td>MIN</td>\n",
       "      <td>1</td>\n",
       "      <td>1</td>\n",
       "    </tr>\n",
       "    <tr>\n",
       "      <th>18</th>\n",
       "      <td>9.989229e-01</td>\n",
       "      <td>NYY</td>\n",
       "      <td>1</td>\n",
       "      <td>1</td>\n",
       "    </tr>\n",
       "    <tr>\n",
       "      <th>19</th>\n",
       "      <td>9.963459e-01</td>\n",
       "      <td>OAK</td>\n",
       "      <td>1</td>\n",
       "      <td>1</td>\n",
       "    </tr>\n",
       "    <tr>\n",
       "      <th>26</th>\n",
       "      <td>9.886585e-01</td>\n",
       "      <td>TBR</td>\n",
       "      <td>1</td>\n",
       "      <td>1</td>\n",
       "    </tr>\n",
       "    <tr>\n",
       "      <th>29</th>\n",
       "      <td>9.767480e-01</td>\n",
       "      <td>WAS</td>\n",
       "      <td>1</td>\n",
       "      <td>1</td>\n",
       "    </tr>\n",
       "    <tr>\n",
       "      <th>25</th>\n",
       "      <td>9.641915e-01</td>\n",
       "      <td>STL</td>\n",
       "      <td>1</td>\n",
       "      <td>1</td>\n",
       "    </tr>\n",
       "    <tr>\n",
       "      <th>7</th>\n",
       "      <td>9.638113e-01</td>\n",
       "      <td>CLE</td>\n",
       "      <td>1</td>\n",
       "      <td>0</td>\n",
       "    </tr>\n",
       "    <tr>\n",
       "      <th>1</th>\n",
       "      <td>9.602661e-01</td>\n",
       "      <td>ATL</td>\n",
       "      <td>1</td>\n",
       "      <td>1</td>\n",
       "    </tr>\n",
       "    <tr>\n",
       "      <th>0</th>\n",
       "      <td>9.463357e-01</td>\n",
       "      <td>ARI</td>\n",
       "      <td>1</td>\n",
       "      <td>0</td>\n",
       "    </tr>\n",
       "    <tr>\n",
       "      <th>4</th>\n",
       "      <td>7.862935e-01</td>\n",
       "      <td>CHC</td>\n",
       "      <td>1</td>\n",
       "      <td>0</td>\n",
       "    </tr>\n",
       "    <tr>\n",
       "      <th>15</th>\n",
       "      <td>7.344347e-01</td>\n",
       "      <td>MIL</td>\n",
       "      <td>1</td>\n",
       "      <td>1</td>\n",
       "    </tr>\n",
       "    <tr>\n",
       "      <th>17</th>\n",
       "      <td>4.582926e-01</td>\n",
       "      <td>NYM</td>\n",
       "      <td>0</td>\n",
       "      <td>0</td>\n",
       "    </tr>\n",
       "    <tr>\n",
       "      <th>6</th>\n",
       "      <td>3.873428e-01</td>\n",
       "      <td>CIN</td>\n",
       "      <td>0</td>\n",
       "      <td>0</td>\n",
       "    </tr>\n",
       "    <tr>\n",
       "      <th>3</th>\n",
       "      <td>3.616682e-01</td>\n",
       "      <td>BOS</td>\n",
       "      <td>0</td>\n",
       "      <td>0</td>\n",
       "    </tr>\n",
       "    <tr>\n",
       "      <th>22</th>\n",
       "      <td>3.469455e-02</td>\n",
       "      <td>SDP</td>\n",
       "      <td>0</td>\n",
       "      <td>0</td>\n",
       "    </tr>\n",
       "    <tr>\n",
       "      <th>20</th>\n",
       "      <td>1.868580e-02</td>\n",
       "      <td>PHI</td>\n",
       "      <td>0</td>\n",
       "      <td>0</td>\n",
       "    </tr>\n",
       "    <tr>\n",
       "      <th>24</th>\n",
       "      <td>7.749486e-03</td>\n",
       "      <td>SFG</td>\n",
       "      <td>0</td>\n",
       "      <td>0</td>\n",
       "    </tr>\n",
       "    <tr>\n",
       "      <th>23</th>\n",
       "      <td>7.029342e-03</td>\n",
       "      <td>SEA</td>\n",
       "      <td>0</td>\n",
       "      <td>0</td>\n",
       "    </tr>\n",
       "    <tr>\n",
       "      <th>27</th>\n",
       "      <td>2.569246e-03</td>\n",
       "      <td>TEX</td>\n",
       "      <td>0</td>\n",
       "      <td>0</td>\n",
       "    </tr>\n",
       "    <tr>\n",
       "      <th>12</th>\n",
       "      <td>1.714083e-03</td>\n",
       "      <td>LAA</td>\n",
       "      <td>0</td>\n",
       "      <td>0</td>\n",
       "    </tr>\n",
       "    <tr>\n",
       "      <th>28</th>\n",
       "      <td>8.890521e-04</td>\n",
       "      <td>TOR</td>\n",
       "      <td>0</td>\n",
       "      <td>0</td>\n",
       "    </tr>\n",
       "    <tr>\n",
       "      <th>8</th>\n",
       "      <td>6.198692e-04</td>\n",
       "      <td>COL</td>\n",
       "      <td>0</td>\n",
       "      <td>0</td>\n",
       "    </tr>\n",
       "    <tr>\n",
       "      <th>11</th>\n",
       "      <td>9.913864e-05</td>\n",
       "      <td>KCR</td>\n",
       "      <td>0</td>\n",
       "      <td>0</td>\n",
       "    </tr>\n",
       "    <tr>\n",
       "      <th>5</th>\n",
       "      <td>6.949648e-05</td>\n",
       "      <td>CWS</td>\n",
       "      <td>0</td>\n",
       "      <td>0</td>\n",
       "    </tr>\n",
       "    <tr>\n",
       "      <th>21</th>\n",
       "      <td>3.435384e-05</td>\n",
       "      <td>PIT</td>\n",
       "      <td>0</td>\n",
       "      <td>0</td>\n",
       "    </tr>\n",
       "    <tr>\n",
       "      <th>2</th>\n",
       "      <td>4.286711e-06</td>\n",
       "      <td>BAL</td>\n",
       "      <td>0</td>\n",
       "      <td>0</td>\n",
       "    </tr>\n",
       "    <tr>\n",
       "      <th>14</th>\n",
       "      <td>1.018281e-06</td>\n",
       "      <td>MIA</td>\n",
       "      <td>0</td>\n",
       "      <td>0</td>\n",
       "    </tr>\n",
       "    <tr>\n",
       "      <th>9</th>\n",
       "      <td>2.164813e-07</td>\n",
       "      <td>DET</td>\n",
       "      <td>0</td>\n",
       "      <td>0</td>\n",
       "    </tr>\n",
       "  </tbody>\n",
       "</table>\n",
       "</div>"
      ],
      "text/plain": [
       "    predicted_proba team  prediction  playoff_appearance\n",
       "10     9.999947e-01  HOU           1                   1\n",
       "13     9.999248e-01  LAD           1                   1\n",
       "16     9.994466e-01  MIN           1                   1\n",
       "18     9.989229e-01  NYY           1                   1\n",
       "19     9.963459e-01  OAK           1                   1\n",
       "26     9.886585e-01  TBR           1                   1\n",
       "29     9.767480e-01  WAS           1                   1\n",
       "25     9.641915e-01  STL           1                   1\n",
       "7      9.638113e-01  CLE           1                   0\n",
       "1      9.602661e-01  ATL           1                   1\n",
       "0      9.463357e-01  ARI           1                   0\n",
       "4      7.862935e-01  CHC           1                   0\n",
       "15     7.344347e-01  MIL           1                   1\n",
       "17     4.582926e-01  NYM           0                   0\n",
       "6      3.873428e-01  CIN           0                   0\n",
       "3      3.616682e-01  BOS           0                   0\n",
       "22     3.469455e-02  SDP           0                   0\n",
       "20     1.868580e-02  PHI           0                   0\n",
       "24     7.749486e-03  SFG           0                   0\n",
       "23     7.029342e-03  SEA           0                   0\n",
       "27     2.569246e-03  TEX           0                   0\n",
       "12     1.714083e-03  LAA           0                   0\n",
       "28     8.890521e-04  TOR           0                   0\n",
       "8      6.198692e-04  COL           0                   0\n",
       "11     9.913864e-05  KCR           0                   0\n",
       "5      6.949648e-05  CWS           0                   0\n",
       "21     3.435384e-05  PIT           0                   0\n",
       "2      4.286711e-06  BAL           0                   0\n",
       "14     1.018281e-06  MIA           0                   0\n",
       "9      2.164813e-07  DET           0                   0"
      ]
     },
     "execution_count": 238,
     "metadata": {},
     "output_type": "execute_result"
    }
   ],
   "source": [
    "pred_2019_post_exp"
   ]
  },
  {
   "cell_type": "code",
   "execution_count": 239,
   "metadata": {
    "scrolled": false
   },
   "outputs": [
    {
     "data": {
      "image/png": "[encoded data removed]",
      "text/plain": [
       "<Figure size 1008x576 with 1 Axes>"
      ]
     },
     "metadata": {
      "needs_background": "light"
     },
     "output_type": "display_data"
    }
   ],
   "source": [
    "ax = plt.figure(figsize = (14, 8))\n",
    "\n",
    "ax = plt.bar(pred_2019_post_exp['team'], pred_2019_post_exp['predicted_proba'])\n",
    "\n",
    "# color the ones in 1, made playoff, green\n",
    "for i in range(30):\n",
    "    if pred_2019_post_exp['playoff_appearance'].reset_index(drop = True)[i] == 1:\n",
    "        ax[i].set_color('g')\n",
    "\n",
    "# Add a divider   \n",
    "plt.axvline(13.5, linestyle='dashed')\n",
    "plt.text(10.5, 0.95, s = 'Predicted', fontweight = 'bold')\n",
    "plt.text(14.5, 0.95, s = 'Not Predicted', fontweight = 'bold')\n",
    "plt.legend(labels = ['Predictor Divider', 'Made 2019 Playoffs'])\n",
    "\n",
    "plt.title('Playoff Probability by Team In 2019 \\n with Post Expansion Data Only', fontweight='bold', fontsize=20)\n",
    "plt.ylabel('Probability', fontsize = 12)\n",
    "plt.xlabel('Team', fontsize = 12)\n",
    "plt.xticks(rotation = 45)\n",
    "plt.show()"
   ]
  },
  {
   "cell_type": "code",
   "execution_count": 240,
   "metadata": {},
   "outputs": [
    {
     "data": {
      "image/png": "[encoded data removed]",
      "text/plain": [
       "<Figure size 2160x1080 with 2 Axes>"
      ]
     },
     "metadata": {
      "needs_background": "light"
     },
     "output_type": "display_data"
    }
   ],
   "source": [
    "## Will plot two side to side for easeness\n",
    "\n",
    "plt.subplots(1, 2, figsize = (30, 15))  \n",
    "\n",
    "plt.subplot(1, 2, 1)\n",
    "# indexed from 1 not 0\n",
    "\n",
    "\n",
    "ax = plt.bar(pred_2019['team'], pred_2019['predicted_proba'])\n",
    "\n",
    "# color the ones in 1, made playoff, green\n",
    "for i in range(30):\n",
    "    if pred_2019['playoff_appearance'].reset_index(drop = True)[i] == 1:\n",
    "        ax[i].set_color('g')\n",
    "        \n",
    "# Add a divider       \n",
    "plt.axvline(13.5, linestyle='dashed')\n",
    "plt.text(10.5, 0.9, s = 'Predicted', fontweight = 'bold')\n",
    "plt.text(14.5, 0.9, s = 'Not Predicted', fontweight = 'bold')\n",
    "plt.legend(labels = ['Predictor Divider', 'Made 2019 Playoffs'])\n",
    "        \n",
    "plt.title('Playoff Probability by Team In 2019 with Full Data', fontweight='bold', fontsize=20)\n",
    "plt.ylabel('Probability', fontsize = 12)\n",
    "plt.xlabel('Team', fontsize = 12)\n",
    "plt.xticks(rotation = 45, fontsize = 15)\n",
    "# tried with alias graph4 but apparently aliasing sns.scatterplot doesnt do anything =]\n",
    "\n",
    "plt.subplot(1, 2, 2)\n",
    "#second graph with only top 10\n",
    "\n",
    "ax = plt.bar(pred_2019_post_exp['team'], pred_2019_post_exp['predicted_proba'])\n",
    "\n",
    "# color the ones in 1, made playoff, green\n",
    "for i in range(30):\n",
    "    if pred_2019_post_exp['playoff_appearance'].reset_index(drop = True)[i] == 1:\n",
    "        ax[i].set_color('g')\n",
    "\n",
    "# Add a divider   \n",
    "plt.axvline(13.5, linestyle='dashed')\n",
    "plt.text(10.5, 0.95, s = 'Predicted', fontweight = 'bold')\n",
    "plt.text(14.5, 0.95, s = 'Not Predicted', fontweight = 'bold')\n",
    "plt.legend(labels = ['Predictor Divider', 'Made 2019 Playoffs'])\n",
    "\n",
    "plt.title('Playoff Probability by Team In 2019 \\n with Post Expansion Data Only', fontweight='bold', fontsize=20)\n",
    "plt.ylabel('Probability', fontsize = 12)\n",
    "plt.xlabel('Team', fontsize = 12)\n",
    "plt.xticks(rotation = 45, fontsize = 15)\n",
    "plt.show()"
   ]
  },
  {
   "cell_type": "markdown",
   "metadata": {},
   "source": [
    "&nbsp;&nbsp;&nbsp;&nbsp;&nbsp;&nbsp;Overall performance did not change but one noticable shift in probability for MIL. The graph on the right was far more certain about MIL making in to playoff. There is always going to be some victims to the format of playoff but overall, every playoff team was predicted to have over 80% probability to make into playoff. Overall, the performances on unseen data for both models seem very good! \n",
    "\n",
    "&nbsp;&nbsp;&nbsp;&nbsp;&nbsp;&nbsp;There are future improvements that I could make on these models. I will try to BoarderlineSMOTE have it work in pipeline. Also I can further look into neighbours of best parameters of gridsearch to ensure they are indeed the best parameters. With multicollinearity out of the way, I can try K-Best as feature selection to see which features are selected automatically and see how that model performs compare to ones I have. Lastly, inspired by adjustment of threshold, I could pass in information on division and format of playoff and see if it improves on the performances of models.\n",
    "\n",
    "&nbsp;&nbsp;&nbsp;&nbsp;&nbsp;&nbsp;Through this capstone project, I had a chance to webscrape my data, clean up the data, model using different machine learning and analyze my models. Webscraping and cleaning up the data presented bigger challenges than I expected. There were always minute problems pop up unexpectedly and finding fixes were not easy. Given the nature of the data I collected, it was very broad overview of how a season went for the team. Though I am very happy with the prediction power of my model, I had to find ways to combat the obvious flaws of my data and mitigate the shortcomings. I found some success and will update as I pick up more knowledge. \n",
    "\n",
    "&nbsp;&nbsp;&nbsp;&nbsp;&nbsp;&nbsp;This was a good project that I got to work on as a springboard to more baseball related data science projects. Once I tidy up and try more things, I would like to move on with more detailed data and neural network with a bit more sizable data. I plan on working on model that predicts next pitch from a pitcher so stay tuned. I have collected some parts of data already and once I have a bigger computing power during the holiday, I will dive into the topic. Thank you very much for taking your time to go through this lengthy workbook and hope you found my work interesting. I'd like to give big shoutouts to educator teams in BrainStation, Myles, Daniel, Bowen and Jenna answering questions I had! Please stay tuned for my next project and I welcome any suggestions and inputs!"
   ]
  }
 ],
 "metadata": {
  "kernelspec": {
   "display_name": "Python 3",
   "language": "python",
   "name": "python3"
  },
  "language_info": {
   "codemirror_mode": {
    "name": "ipython",
    "version": 3
   },
   "file_extension": ".py",
   "mimetype": "text/x-python",
   "name": "python",
   "nbconvert_exporter": "python",
   "pygments_lexer": "ipython3",
   "version": "3.8.5"
  }
 },
 "nbformat": 4,
 "nbformat_minor": 4
}
